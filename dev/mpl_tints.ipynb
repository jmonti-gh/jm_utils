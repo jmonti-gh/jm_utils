{
 "cells": [
  {
   "cell_type": "markdown",
   "id": "3cf7c1df",
   "metadata": {},
   "source": [
    "# mpl_tints\n",
    "- abrí este nuevo ipynb para ir probando todo lo de mpl_tints\n",
    "- de mpl_tints las dos grandes/complejas funct son plot_colors y plot_palettes"
   ]
  },
  {
   "cell_type": "markdown",
   "id": "c02bc03d",
   "metadata": {},
   "source": [
    "## Lista de inclusiones\n",
    "1. Diccionarios:\n",
    "   1. colors dicts jm: AUTOMOTIVE, EDUCARTION, FINANCIAL, PROGRAMING (Similar to 'TABLEAU_COLORS' or 'CCS4_COLORS')\n",
    "   2. palette (colormaps) dicts jm: JM_QUALITATIVE_CMAPS (Similar to 'Accent', 'Set2', 'Tab20', etc)\n",
    "   3. Grouping dictionaries: COLORS_NAMES_BY_GROUP, CMAP_NAMES_BY_CAT\n",
    "2. Funciones mínimas:\n",
    "   1. sdf\n",
    "   2. asdf\n",
    "3. Funciones complejas:\n",
    "   1. plot_colors()\n",
    "   2. plot_palettes"
   ]
  },
  {
   "cell_type": "markdown",
   "id": "80a1350a",
   "metadata": {},
   "source": [
    "## 1. Probemos los DICTIONARIES."
   ]
  },
  {
   "cell_type": "code",
   "execution_count": null,
   "id": "ec4a16d0",
   "metadata": {},
   "outputs": [
    {
     "name": "stdout",
     "output_type": "stream",
     "text": [
      "len(mpl.colormaps()) = 180) | lst = ['nipy_spectral', 'nipy_spectral_r']\n"
     ]
    }
   ],
   "source": [
    "# First let´s see original mpl palettes (mpl.colormaps)\n",
    "import matplotlib as mpl\n",
    "\n",
    "lst = [cmap for cmap in mpl.colormaps() if cmap.startswith('n')]\n",
    "print(f\"{len(mpl.colormaps()) = }) | {lst = }\")\n",
    "# len(mpl.colormaps()) = 180) | lst = ['nipy_spectral', 'nipy_spectral_r']"
   ]
  },
  {
   "cell_type": "code",
   "execution_count": 4,
   "id": "7b6326a4",
   "metadata": {},
   "outputs": [
    {
     "name": "stdout",
     "output_type": "stream",
     "text": [
      "len(mtints.AUTOMOTIVE_COLORS) = 47 | len(mcolors.XKCD_COLORS) = 949\n",
      "mtints.AUTOMOTIVE_COLORS['volvo'] = '#003057' | mcolors.XKCD_COLORS['xkcd:red'] = '#e50000'\n",
      "\n",
      "len(mpl.colormaps()) = 192) | lst = ['nipy_spectral', 'nipy_spectral_r', 'neon', 'neon_r', 'neat', 'neat_r']\n",
      "\n",
      "mtints.COLORS_NAMES_BY_GROUP.keys() = dict_keys(['BASE_COLORS', 'CSS4_COLORS', 'TABLEAU_COLORS', 'XKCD_COLORS', 'AUTOMOTIVE_COLORS', 'EDUCATION_COLORS', 'FINANCIAL_COLORS', 'PROGRAMMING_COLORS'])\n",
      "mtints.CMAP_NAMES_BY_CAT.keys() = dict_keys(['Cyclic', 'Diverging', 'Miscellaneous', 'Perceptually Uniform Sequential', 'Single-Hue Sequential', 'Multi-Hue Sequential', 'Other Sequential', 'Qualitative'])\n"
     ]
    }
   ],
   "source": [
    "import jm_utils.data.mpl_tints as mtints\n",
    "import matplotlib.colors as mcolors\n",
    "\n",
    "# Colors dicts\n",
    "print(f\"{len(mtints.AUTOMOTIVE_COLORS) = } | {len(mcolors.XKCD_COLORS) = }\")\n",
    "print(f\"{mtints.AUTOMOTIVE_COLORS['volvo'] = } | {mcolors.XKCD_COLORS['xkcd:red'] = }\")\n",
    "\n",
    "print()\n",
    "# Palette dicts\n",
    "lst = [cmap for cmap in mpl.colormaps() if cmap.startswith('n')]\n",
    "print(f\"{len(mpl.colormaps()) = }) | {lst = }\")\n",
    "\n",
    "print()\n",
    "# Grouping dicts\n",
    "print(f\"{mtints.COLORS_NAMES_BY_GROUP.keys() = }\")\n",
    "print(f\"{mtints.CMAP_NAMES_BY_CAT.keys() = }\")"
   ]
  },
  {
   "cell_type": "code",
   "execution_count": null,
   "id": "61576aeb",
   "metadata": {},
   "outputs": [],
   "source": []
  },
  {
   "cell_type": "code",
   "execution_count": null,
   "id": "ab841946",
   "metadata": {},
   "outputs": [],
   "source": []
  },
  {
   "cell_type": "code",
   "execution_count": null,
   "id": "a808e077",
   "metadata": {},
   "outputs": [],
   "source": []
  },
  {
   "cell_type": "code",
   "execution_count": null,
   "id": "e59c3fcf",
   "metadata": {},
   "outputs": [],
   "source": []
  },
  {
   "cell_type": "code",
   "execution_count": null,
   "id": "7f9a5d44",
   "metadata": {},
   "outputs": [],
   "source": []
  },
  {
   "cell_type": "code",
   "execution_count": null,
   "id": "fef2d828",
   "metadata": {},
   "outputs": [],
   "source": []
  },
  {
   "cell_type": "code",
   "execution_count": null,
   "id": "b7c1d5d9",
   "metadata": {},
   "outputs": [],
   "source": []
  },
  {
   "cell_type": "code",
   "execution_count": null,
   "id": "f525f63b",
   "metadata": {},
   "outputs": [],
   "source": []
  }
 ],
 "metadata": {
  "kernelspec": {
   "display_name": "Python 3",
   "language": "python",
   "name": "python3"
  },
  "language_info": {
   "codemirror_mode": {
    "name": "ipython",
    "version": 3
   },
   "file_extension": ".py",
   "mimetype": "text/x-python",
   "name": "python",
   "nbconvert_exporter": "python",
   "pygments_lexer": "ipython3",
   "version": "3.13.5"
  }
 },
 "nbformat": 4,
 "nbformat_minor": 5
}
