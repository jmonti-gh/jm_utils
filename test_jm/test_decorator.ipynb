{
 "cells": [
  {
   "cell_type": "markdown",
   "id": "f10d5ba8",
   "metadata": {},
   "source": [
    "# Decorators\n",
    "- Solos e importables como módulos."
   ]
  },
  {
   "cell_type": "code",
   "execution_count": 31,
   "id": "c15b733f",
   "metadata": {},
   "outputs": [],
   "source": [
    "## Standard Libs\n",
    "from typing import Union, Optional, Tuple, Dict, Any\n",
    "import warnings\n",
    "import random\n",
    "import re\n",
    "\n",
    "# Third-Party Libs\n",
    "import numpy as np\n",
    "import pandas as pd\n",
    "import matplotlib.pyplot as plt\n",
    "from rich.console import Console\n",
    "from rich.text import Text\n",
    "from rich.panel import Panel\n",
    "\n",
    "# Local Libs\n",
    "from jm_datascience import jm_pandas as jm_pd\n",
    "from jm_datascience import jm_pdaccessor"
   ]
  },
  {
   "cell_type": "markdown",
   "id": "fc7a9e07",
   "metadata": {},
   "source": [
    "## DECORATOR -\n",
    "- Es función debería estar en jm_utils porque puede modificar cualquier numerom\n",
    "- Podría usarse como decorator pero como decorator cómo la aplico a series o df?"
   ]
  },
  {
   "cell_type": "code",
   "execution_count": 32,
   "id": "01cc4685",
   "metadata": {},
   "outputs": [],
   "source": [
    "# 1. definir función formatear número\n",
    "def fmt_number(value, width=8, decimals=2, miles=',') -> str:\n",
    "    if not isinstance(width, int) or width <= 0:\n",
    "        raise ValueError(f\"Width must be a positive integer. Not '{width}'\")\n",
    "    \n",
    "    if not isinstance(decimals, int) or decimals < 0:\n",
    "        raise ValueError(f\"Decimals must be a non-negative integer. Not '{decimals}\")\n",
    "    \n",
    "    if miles not in [',', '_', None]:\n",
    "        raise ValueError(f\"Miles must be either ',', '_', or None. Not '{miles}\")\n",
    "    \n",
    "    try:\n",
    "        num = float(value)                                  # Convert to float if possible\n",
    "        if miles:\n",
    "            return f\"{num:>{width}{miles}.{decimals}f}\"     # Ancho fijo, x decimales, alineado a la derecha\n",
    "        else:\n",
    "            return f\"{num:>{width}.{decimals}f}\"\n",
    "        \n",
    "    except (ValueError, TypeError) as e:\n",
    "        # return str(value).rjust(width)                            # Alinea también strings, para mantener la grilla\n",
    "        return f\"[ERROR] Al tratar de 'float({value})' - {e}\"   \n",
    "      \n",
    "# 1b. decorater\n",
    "def fmt_numbers(width=8, decimals=2, miles=','):\n",
    "    def _decorador(func):\n",
    "        def wrapper(*args, **kwargs):\n",
    "            resultado = func(*args, **kwargs)\n",
    "            return fmt_number(resultado, width, decimals, miles)\n",
    "        return wrapper\n",
    "    return _decorador"
   ]
  },
  {
   "cell_type": "code",
   "execution_count": 33,
   "id": "d1b77db5",
   "metadata": {},
   "outputs": [
    {
     "name": "stdout",
     "output_type": "stream",
     "text": [
      "14,499.10\n"
     ]
    }
   ],
   "source": [
    "# 2. A sample funct.\n",
    "# print(eval(input('Enter: ')))\n",
    "@ fmt_numbers()\n",
    "def maths_ops(operation: str):\n",
    "    return eval(operation)\n",
    "\n",
    "print(maths_ops('15000 - 500.9'))\n",
    "# res = maths_ops('15000 - 500.9')\n",
    "# print(f\"{res = } | {type(res) = }\")"
   ]
  },
  {
   "cell_type": "code",
   "execution_count": 34,
   "id": "e9a94276",
   "metadata": {},
   "outputs": [],
   "source": [
    "def print_decorator(width=20, decimals=1, miles='_'):\n",
    "    \"\"\"Decorador específico para funciones que imprimen resultados.\"\"\"\n",
    "    def _decorador(func):\n",
    "        def wrapper(*args, **kwargs):\n",
    "            nuevos_args = []\n",
    "            for arg in args:\n",
    "                if isinstance(arg, (int, float, list, tuple, dict, str)):\n",
    "                    nuevos_args.append(fmt_number(arg, width, decimals, miles))\n",
    "                else:\n",
    "                    nuevos_args.append(arg)\n",
    "            return func(*nuevos_args, **kwargs)\n",
    "        return wrapper\n",
    "    return _decorador"
   ]
  },
  {
   "cell_type": "code",
   "execution_count": 35,
   "id": "345313ca",
   "metadata": {},
   "outputs": [
    {
     "name": "stdout",
     "output_type": "stream",
     "text": [
      "55300.1234\n",
      "            55_300.1\n"
     ]
    }
   ],
   "source": [
    "# 3. si quisiera decorar la función print tengo que\n",
    "@ print_decorator()\n",
    "def jmprt(*args):\n",
    "    print(*args)\n",
    "\n",
    "print(55300.1234)\n",
    "jmprt(55300.1234)"
   ]
  },
  {
   "cell_type": "markdown",
   "id": "88cac9ac",
   "metadata": {},
   "source": [
    "## Format numbers \n",
    "- Funciones para formatear núemros ya se que están solo o en collectios"
   ]
  },
  {
   "cell_type": "code",
   "execution_count": null,
   "id": "c84ef812",
   "metadata": {},
   "outputs": [],
   "source": [
    "def fmt_num(value, decimals=2, miles=',') -> str:\n",
    "    try:\n",
    "        num = float(value)                                  # Convert to float if possible\n",
    "        if miles:\n",
    "            return f\"{num:>{miles}.{decimals}f}\"     \n",
    "        else:\n",
    "            return f\"{num:>.{decimals}f}\"\n",
    "        \n",
    "    except (ValueError, TypeError) as e:                          #\n",
    "        return f\"[ERROR] Al tratar de 'float({value})' - {e}\"   \n",
    "    \n",
    "    \n",
    "def fmt_num_in_str(text, decimals=2, miles=','):\n",
    "    \"\"\"Search and format numbers within a string.\"\"\"\n",
    "    def _reeplace(match):\n",
    "        number = float(match.group(0))\n",
    "        return fmt_num(number, decimals, miles)\n",
    "    \n",
    "    pattern = r\"[-+]?(?:\\d+(?:\\.\\d*)?|\\.\\d+)(?:[eE][-+]?\\d+)?\"\n",
    "    return re.sub(pattern, _reeplace, text)\n",
    "\n",
    "\n",
    "def fmt_nums(value, decimals=2, miles=','):\n",
    "    try:\n",
    "        value = float(value)\n",
    "    except:\n",
    "        if isinstance(value, list):\n",
    "            return [fmt_nums(element, decimals, miles) for element in value]\n",
    "        if isinstance(value, list):\n",
    "            return tuple([fmt_nums(element, decimals, miles) for element in value])\n",
    "        elif isinstance(value, dict):\n",
    "            return {k: fmt_nums(v, decimals, miles) for k, v in value.items()}\n",
    "        elif isinstance(value, str):\n",
    "            return fmt_num_in_str(value, decimals, miles)\n",
    "        \n",
    "    else:\n",
    "        return fmt_num(value, decimals, miles)"
   ]
  },
  {
   "cell_type": "code",
   "execution_count": 71,
   "id": "eecaf9ea",
   "metadata": {},
   "outputs": [
    {
     "name": "stdout",
     "output_type": "stream",
     "text": [
      "98,765\n",
      "Precio: 150_000.2\n"
     ]
    },
    {
     "data": {
      "text/plain": [
       "'Precio: 150_000.2'"
      ]
     },
     "execution_count": 71,
     "metadata": {},
     "output_type": "execute_result"
    }
   ],
   "source": [
    "print(fmt_num(98765, decimals=0))\n",
    "print(fmt_num_in_str('Precio: 150000.1934', decimals=1, miles='_'))\n",
    "fmt_nums('Precio: 150000.1934', decimals=1, miles='_')"
   ]
  },
  {
   "cell_type": "code",
   "execution_count": 68,
   "id": "686fbfae",
   "metadata": {},
   "outputs": [
    {
     "data": {
      "text/plain": [
       "4420.348363931854"
      ]
     },
     "execution_count": 68,
     "metadata": {},
     "output_type": "execute_result"
    }
   ],
   "source": [
    "random.random() * 10000"
   ]
  },
  {
   "cell_type": "code",
   "execution_count": 69,
   "id": "862eb6b8",
   "metadata": {},
   "outputs": [
    {
     "data": {
      "text/plain": [
       "[4070.003043625502,\n",
       " 9340.103219453278,\n",
       " 274.19755395085343,\n",
       " 2288.5968204450623,\n",
       " 3939.840061237535,\n",
       " 620.9252281405575,\n",
       " 3756.240880359113]"
      ]
     },
     "execution_count": 69,
     "metadata": {},
     "output_type": "execute_result"
    }
   ],
   "source": [
    "lst = [random.random() * 10_000 for i in range(7)]\n",
    "lst"
   ]
  },
  {
   "cell_type": "code",
   "execution_count": 70,
   "id": "0eddb285",
   "metadata": {},
   "outputs": [
    {
     "name": "stdout",
     "output_type": "stream",
     "text": [
      "898,783,425.90\n"
     ]
    }
   ],
   "source": [
    "print(fmt_nums(898783425.8993))"
   ]
  },
  {
   "cell_type": "code",
   "execution_count": null,
   "id": "7ba97b1d",
   "metadata": {},
   "outputs": [],
   "source": []
  },
  {
   "cell_type": "code",
   "execution_count": null,
   "id": "e39e7a64",
   "metadata": {},
   "outputs": [],
   "source": []
  },
  {
   "cell_type": "code",
   "execution_count": null,
   "id": "3b23bc53",
   "metadata": {},
   "outputs": [],
   "source": []
  }
 ],
 "metadata": {
  "kernelspec": {
   "display_name": "Python 3",
   "language": "python",
   "name": "python3"
  },
  "language_info": {
   "codemirror_mode": {
    "name": "ipython",
    "version": 3
   },
   "file_extension": ".py",
   "mimetype": "text/x-python",
   "name": "python",
   "nbconvert_exporter": "python",
   "pygments_lexer": "ipython3",
   "version": "3.13.4"
  }
 },
 "nbformat": 4,
 "nbformat_minor": 5
}
