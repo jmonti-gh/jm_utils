{
 "cells": [
  {
   "cell_type": "markdown",
   "id": "f10d5ba8",
   "metadata": {},
   "source": [
    "# jm_pandas test"
   ]
  },
  {
   "cell_type": "code",
   "execution_count": 1,
   "id": "38fb7b78",
   "metadata": {},
   "outputs": [],
   "source": [
    "## Standard Libs\n",
    "from typing import Union, Optional, Tuple, Dict, Any\n",
    "import warnings\n",
    "import random\n",
    "\n",
    "# Third-Party Libs\n",
    "import numpy as np\n",
    "import pandas as pd\n",
    "import matplotlib.pyplot as plt\n",
    "from rich.console import Console\n",
    "from rich.text import Text\n",
    "from rich.panel import Panel\n",
    "\n",
    "# Local Libs\n",
    "from jm_datascience import jm_pandas as jm_pd\n",
    "from jm_datascience import jm_pdaccessor as jm\n",
    "from jm_utils import jm_richprt as jm_prt\n"
   ]
  },
  {
   "cell_type": "markdown",
   "id": "e3282540",
   "metadata": {},
   "source": [
    "## Some Series and DFs"
   ]
  },
  {
   "cell_type": "code",
   "execution_count": 2,
   "id": "e4919c02",
   "metadata": {},
   "outputs": [],
   "source": [
    "df_work = pd.DataFrame({\n",
    "    'nombre': ['Ana', 'Bob', '', 'Carlos', ' ', 'Diana'],\n",
    "    'apellido': ['A_Ana', 'B_Bob', None, 'C_Carlos', None, 'D_Diana'],\n",
    "    'edad': [25, -1, 30, 999, 28, 22],\n",
    "    'ciudad': ['Madrid', 'N/A', 'Barcelona', 'Valencia', 'unknown', 'Sevilla'],\n",
    "    'salario': [50000, 0, 60000, -999, 55000, 48000]\n",
    "})\n",
    "\n",
    "## Read spreedsheet for tests\n",
    "try:\n",
    "    spreedsheet = r\"C:\\Users\\jm\\Documents\\__Dev\\PortableGit\\__localrepos\\365DS_jm\\3_statistics\\2_13_Practical_Ex_Descriptive_Stats.xlsx\"    # Casa\n",
    "    with open(spreedsheet) as f:\n",
    "        pass\n",
    "except FileNotFoundError:\n",
    "    spreedsheet = r\"D:\\git\\PortableGit\\__localrepos\\365DS_jm\\3_statistics\\2_13_Practical_Ex_Descriptive_Stats.xlsx\"                         # Office\n",
    "\n",
    "df_xls = pd.read_excel(spreedsheet, skiprows=4, usecols='B:J,L:AA', index_col='ID')\n",
    "df = df_xls.copy()\n",
    "\n",
    "lst_str = random.choices([chr(i) for i in range(65, 72)], k=175)\n",
    "sr_str = jm_pd.to_series(lst_str)                         # <- jm_pd.to_serie_with_count()"
   ]
  },
  {
   "cell_type": "markdown",
   "id": "7beb4854",
   "metadata": {},
   "source": [
    "## jm_pd.to_series()\n",
    "- Plus value_counts()"
   ]
  },
  {
   "cell_type": "code",
   "execution_count": 3,
   "id": "ee94a95a",
   "metadata": {},
   "outputs": [
    {
     "data": {
      "text/plain": [
       "A    23\n",
       "G    30\n",
       "E    26\n",
       "D    25\n",
       "F    21\n",
       "B    25\n",
       "C    25\n",
       "Name: count, dtype: int64"
      ]
     },
     "execution_count": 3,
     "metadata": {},
     "output_type": "execute_result"
    }
   ],
   "source": [
    "sr_counted = jm_pd.to_series(lst_str).value_counts(sort=False)\n",
    "sr_counted"
   ]
  },
  {
   "cell_type": "code",
   "execution_count": 4,
   "id": "fee6f4e8",
   "metadata": {},
   "outputs": [
    {
     "data": {
      "text/plain": [
       "0    B\n",
       "1    F\n",
       "2    A\n",
       "3    D\n",
       "4    G\n",
       "5    C\n",
       "6    E\n",
       "dtype: object"
      ]
     },
     "execution_count": 4,
     "metadata": {},
     "output_type": "execute_result"
    }
   ],
   "source": [
    "set_str = set(sr_str)\n",
    "set_str\n",
    "jm_pd.to_series(set_str)"
   ]
  },
  {
   "cell_type": "code",
   "execution_count": 5,
   "id": "abadfda5",
   "metadata": {},
   "outputs": [
    {
     "name": "stdout",
     "output_type": "stream",
     "text": [
      "86\n"
     ]
    }
   ],
   "source": [
    "sr_state = jm_pd.to_series(df_xls['State'])\n",
    "print(sr_state.isna().sum())"
   ]
  },
  {
   "cell_type": "markdown",
   "id": "eb66bd71",
   "metadata": {},
   "source": [
    "## Paretto Chart"
   ]
  },
  {
   "cell_type": "code",
   "execution_count": 6,
   "id": "b3894e94",
   "metadata": {},
   "outputs": [
    {
     "data": {
      "text/plain": [
       "ID\n",
       "1030    California\n",
       "1029    California\n",
       "2002    California\n",
       "2031    California\n",
       "1049    California\n",
       "           ...    \n",
       "5044           NaN\n",
       "5047           NaN\n",
       "5048           NaN\n",
       "5050           NaN\n",
       "5051           NaN\n",
       "Name: State, Length: 267, dtype: object"
      ]
     },
     "execution_count": 6,
     "metadata": {},
     "output_type": "execute_result"
    }
   ],
   "source": [
    "sr = jm_pd.to_series(df['State'])\n",
    "sr"
   ]
  },
  {
   "cell_type": "code",
   "execution_count": null,
   "id": "52b6e46a",
   "metadata": {},
   "outputs": [],
   "source": []
  },
  {
   "cell_type": "markdown",
   "id": "81806531",
   "metadata": {},
   "source": [
    "## Try pandas to_series()\n",
    "Index.to_series(index=None, name=None)[source]"
   ]
  },
  {
   "cell_type": "code",
   "execution_count": 7,
   "id": "0bdb688d",
   "metadata": {},
   "outputs": [
    {
     "name": "stdout",
     "output_type": "stream",
     "text": [
      "['A', 'G', 'A', 'A', 'E', 'D', 'A', 'G', 'G', 'F', 'G', 'D', 'B', 'C', 'C', 'C', 'E', 'E', 'E', 'G', 'E', 'F', 'C', 'C', 'G', 'F', 'G', 'F', 'B', 'E', 'G', 'D', 'G', 'G', 'F', 'E', 'A', 'A', 'D', 'B', 'D', 'D', 'E', 'E', 'G', 'G', 'F', 'F', 'C', 'C', 'B', 'G', 'D', 'F', 'B', 'B', 'D', 'G', 'E', 'C', 'A', 'F', 'D', 'E', 'D', 'F', 'B', 'D', 'G', 'B', 'B', 'C', 'G', 'G', 'B', 'A', 'C', 'F', 'F', 'D', 'A', 'C', 'A', 'D', 'E', 'C', 'F', 'A', 'A', 'B', 'C', 'E', 'A', 'E', 'B', 'C', 'B', 'D', 'A', 'D', 'G', 'G', 'F', 'E', 'B', 'C', 'B', 'A', 'A', 'A', 'A', 'C', 'E', 'E', 'E', 'C', 'C', 'G', 'G', 'F', 'B', 'C', 'C', 'D', 'E', 'G', 'F', 'A', 'C', 'D', 'E', 'E', 'D', 'F', 'G', 'B', 'B', 'B', 'B', 'E', 'B', 'G', 'D', 'B', 'F', 'F', 'D', 'G', 'B', 'C', 'A', 'E', 'C', 'E', 'G', 'C', 'C', 'A', 'F', 'A', 'D', 'E', 'B', 'G', 'G', 'D', 'D', 'E', 'F', 'D', 'G', 'A', 'D', 'G', 'B']\n",
      "{'B', 'F', 'A', 'D', 'G', 'C', 'E'}\n"
     ]
    },
    {
     "data": {
      "text/plain": [
       "0    B\n",
       "1    F\n",
       "2    A\n",
       "3    D\n",
       "4    G\n",
       "5    C\n",
       "6    E\n",
       "dtype: object"
      ]
     },
     "execution_count": 7,
     "metadata": {},
     "output_type": "execute_result"
    }
   ],
   "source": [
    "print(lst_str)\n",
    "print(set_str := set(lst_str))\n",
    "jm_pd.to_series(list(set_str))"
   ]
  },
  {
   "cell_type": "code",
   "execution_count": null,
   "id": "ecefd599",
   "metadata": {},
   "outputs": [],
   "source": []
  },
  {
   "cell_type": "markdown",
   "id": "cdf30e91",
   "metadata": {},
   "source": [
    "## Generacipon de fdt previo\n",
    "- jm_pd.get_fdt()"
   ]
  },
  {
   "cell_type": "code",
   "execution_count": 8,
   "id": "0592e4d6",
   "metadata": {},
   "outputs": [
    {
     "data": {
      "text/plain": [
       "State\n",
       "California    119\n",
       "NaN            86\n",
       "Nevada         17\n",
       "Colorado       11\n",
       "Oregon         11\n",
       "Arizona        11\n",
       "Utah            6\n",
       "Virginia        4\n",
       "Kansas          1\n",
       "Wyoming         1\n",
       "Name: count, dtype: int64"
      ]
     },
     "execution_count": 8,
     "metadata": {},
     "output_type": "execute_result"
    }
   ],
   "source": [
    "# jm_pd.get_fdt(lst_str, must_count=True).map(jm_prt.fmt_nums)\n",
    "df['State'].value_counts(dropna=False)"
   ]
  },
  {
   "cell_type": "code",
   "execution_count": 9,
   "id": "df7e8861",
   "metadata": {},
   "outputs": [
    {
     "data": {
      "text/html": [
       "<div>\n",
       "<style scoped>\n",
       "    .dataframe tbody tr th:only-of-type {\n",
       "        vertical-align: middle;\n",
       "    }\n",
       "\n",
       "    .dataframe tbody tr th {\n",
       "        vertical-align: top;\n",
       "    }\n",
       "\n",
       "    .dataframe thead th {\n",
       "        text-align: right;\n",
       "    }\n",
       "</style>\n",
       "<table border=\"1\" class=\"dataframe\">\n",
       "  <thead>\n",
       "    <tr style=\"text-align: right;\">\n",
       "      <th></th>\n",
       "      <th>Frequency</th>\n",
       "      <th>Cumulative Frequency</th>\n",
       "      <th>Relative Frequency</th>\n",
       "      <th>Cumulative Relative Freq.</th>\n",
       "      <th>Relative Freq. [%]</th>\n",
       "      <th>Cumulative Freq. [%]</th>\n",
       "    </tr>\n",
       "    <tr>\n",
       "      <th>State</th>\n",
       "      <th></th>\n",
       "      <th></th>\n",
       "      <th></th>\n",
       "      <th></th>\n",
       "      <th></th>\n",
       "      <th></th>\n",
       "    </tr>\n",
       "  </thead>\n",
       "  <tbody>\n",
       "    <tr>\n",
       "      <th>California</th>\n",
       "      <td>119</td>\n",
       "      <td>119</td>\n",
       "      <td>0.66</td>\n",
       "      <td>0.66</td>\n",
       "      <td>65.75</td>\n",
       "      <td>65.75</td>\n",
       "    </tr>\n",
       "    <tr>\n",
       "      <th>Nevada</th>\n",
       "      <td>17</td>\n",
       "      <td>136</td>\n",
       "      <td>0.09</td>\n",
       "      <td>0.75</td>\n",
       "      <td>9.39</td>\n",
       "      <td>75.14</td>\n",
       "    </tr>\n",
       "    <tr>\n",
       "      <th>Arizona</th>\n",
       "      <td>11</td>\n",
       "      <td>147</td>\n",
       "      <td>0.06</td>\n",
       "      <td>0.81</td>\n",
       "      <td>6.08</td>\n",
       "      <td>81.22</td>\n",
       "    </tr>\n",
       "    <tr>\n",
       "      <th>Oregon</th>\n",
       "      <td>11</td>\n",
       "      <td>158</td>\n",
       "      <td>0.06</td>\n",
       "      <td>0.87</td>\n",
       "      <td>6.08</td>\n",
       "      <td>87.29</td>\n",
       "    </tr>\n",
       "    <tr>\n",
       "      <th>Colorado</th>\n",
       "      <td>11</td>\n",
       "      <td>169</td>\n",
       "      <td>0.06</td>\n",
       "      <td>0.93</td>\n",
       "      <td>6.08</td>\n",
       "      <td>93.37</td>\n",
       "    </tr>\n",
       "    <tr>\n",
       "      <th>Utah</th>\n",
       "      <td>6</td>\n",
       "      <td>175</td>\n",
       "      <td>0.03</td>\n",
       "      <td>0.97</td>\n",
       "      <td>3.31</td>\n",
       "      <td>96.69</td>\n",
       "    </tr>\n",
       "    <tr>\n",
       "      <th>Virginia</th>\n",
       "      <td>4</td>\n",
       "      <td>179</td>\n",
       "      <td>0.02</td>\n",
       "      <td>0.99</td>\n",
       "      <td>2.21</td>\n",
       "      <td>98.90</td>\n",
       "    </tr>\n",
       "    <tr>\n",
       "      <th>Kansas</th>\n",
       "      <td>1</td>\n",
       "      <td>180</td>\n",
       "      <td>0.01</td>\n",
       "      <td>0.99</td>\n",
       "      <td>0.55</td>\n",
       "      <td>99.45</td>\n",
       "    </tr>\n",
       "    <tr>\n",
       "      <th>Wyoming</th>\n",
       "      <td>1</td>\n",
       "      <td>181</td>\n",
       "      <td>0.01</td>\n",
       "      <td>1.00</td>\n",
       "      <td>0.55</td>\n",
       "      <td>100.00</td>\n",
       "    </tr>\n",
       "  </tbody>\n",
       "</table>\n",
       "</div>"
      ],
      "text/plain": [
       "           Frequency Cumulative Frequency Relative Frequency  \\\n",
       "State                                                          \n",
       "California       119                  119               0.66   \n",
       "Nevada            17                  136               0.09   \n",
       "Arizona           11                  147               0.06   \n",
       "Oregon            11                  158               0.06   \n",
       "Colorado          11                  169               0.06   \n",
       "Utah               6                  175               0.03   \n",
       "Virginia           4                  179               0.02   \n",
       "Kansas             1                  180               0.01   \n",
       "Wyoming            1                  181               0.01   \n",
       "\n",
       "           Cumulative Relative Freq. Relative Freq. [%] Cumulative Freq. [%]  \n",
       "State                                                                         \n",
       "California                      0.66              65.75                65.75  \n",
       "Nevada                          0.75               9.39                75.14  \n",
       "Arizona                         0.81               6.08                81.22  \n",
       "Oregon                          0.87               6.08                87.29  \n",
       "Colorado                        0.93               6.08                93.37  \n",
       "Utah                            0.97               3.31                96.69  \n",
       "Virginia                        0.99               2.21                98.90  \n",
       "Kansas                          0.99               0.55                99.45  \n",
       "Wyoming                         1.00               0.55               100.00  "
      ]
     },
     "execution_count": 9,
     "metadata": {},
     "output_type": "execute_result"
    }
   ],
   "source": [
    "# jm_pd.get_fdt(lst_str, must_count=True, fmt_values=True, plain_relatives=False, sort='asc')\n",
    "# jm_pd.get_fdt(df['State'], must_count=True, fmt_values=True, plain_relatives=False, sort='ix_asc')\n",
    "jm_pd.get_fdt(df['State'], value_counts=True, fmt_values=True)"
   ]
  },
  {
   "cell_type": "code",
   "execution_count": 10,
   "id": "f4da538a",
   "metadata": {},
   "outputs": [
    {
     "data": {
      "image/png": "[encoded data removed]",
      "text/plain": [
       "<Figure size 593.333x300 with 2 Axes>"
      ]
     },
     "metadata": {},
     "output_type": "display_data"
    }
   ],
   "source": [
    "fig = jm_pd.plt_pareto(df['State'], value_counts=True, scale=1)\n"
   ]
  },
  {
   "cell_type": "code",
   "execution_count": 11,
   "id": "b59f0442",
   "metadata": {},
   "outputs": [
    {
     "data": {
      "text/html": [
       "<div>\n",
       "<style scoped>\n",
       "    .dataframe tbody tr th:only-of-type {\n",
       "        vertical-align: middle;\n",
       "    }\n",
       "\n",
       "    .dataframe tbody tr th {\n",
       "        vertical-align: top;\n",
       "    }\n",
       "\n",
       "    .dataframe thead th {\n",
       "        text-align: right;\n",
       "    }\n",
       "</style>\n",
       "<table border=\"1\" class=\"dataframe\">\n",
       "  <thead>\n",
       "    <tr style=\"text-align: right;\">\n",
       "      <th></th>\n",
       "      <th>Frequency</th>\n",
       "      <th>Relative Freq. [%]</th>\n",
       "      <th>Cumulative Freq. [%]</th>\n",
       "    </tr>\n",
       "  </thead>\n",
       "  <tbody>\n",
       "    <tr>\n",
       "      <th>A</th>\n",
       "      <td>23</td>\n",
       "      <td>13.14</td>\n",
       "      <td>13.14</td>\n",
       "    </tr>\n",
       "    <tr>\n",
       "      <th>B</th>\n",
       "      <td>25</td>\n",
       "      <td>14.29</td>\n",
       "      <td>85.71</td>\n",
       "    </tr>\n",
       "    <tr>\n",
       "      <th>C</th>\n",
       "      <td>25</td>\n",
       "      <td>14.29</td>\n",
       "      <td>100</td>\n",
       "    </tr>\n",
       "    <tr>\n",
       "      <th>D</th>\n",
       "      <td>25</td>\n",
       "      <td>14.29</td>\n",
       "      <td>59.43</td>\n",
       "    </tr>\n",
       "    <tr>\n",
       "      <th>E</th>\n",
       "      <td>26</td>\n",
       "      <td>14.86</td>\n",
       "      <td>45.14</td>\n",
       "    </tr>\n",
       "    <tr>\n",
       "      <th>F</th>\n",
       "      <td>21</td>\n",
       "      <td>12</td>\n",
       "      <td>71.43</td>\n",
       "    </tr>\n",
       "    <tr>\n",
       "      <th>G</th>\n",
       "      <td>30</td>\n",
       "      <td>17.14</td>\n",
       "      <td>30.29</td>\n",
       "    </tr>\n",
       "  </tbody>\n",
       "</table>\n",
       "</div>"
      ],
      "text/plain": [
       "  Frequency Relative Freq. [%] Cumulative Freq. [%]\n",
       "A        23              13.14                13.14\n",
       "B        25              14.29                85.71\n",
       "C        25              14.29                  100\n",
       "D        25              14.29                59.43\n",
       "E        26              14.86                45.14\n",
       "F        21                 12                71.43\n",
       "G        30              17.14                30.29"
      ]
     },
     "execution_count": 11,
     "metadata": {},
     "output_type": "execute_result"
    }
   ],
   "source": [
    "# jm_pd.get_fdt(lst_str, must_count=True, fmt_values=True, plain_relatives=False, sort='asc')\n",
    "jm_pd.get_fdt(sr_counted, fmt_values=True, plain_relatives=False, sort='ix_asc')"
   ]
  },
  {
   "cell_type": "code",
   "execution_count": 12,
   "id": "0e8ec420",
   "metadata": {},
   "outputs": [],
   "source": [
    "## sort_values()\n",
    "# display(df_work)\n",
    "# display(df_work.sort_values(by='salario'))\n",
    "# df_work.sort_values(by='edad', ascending=False)"
   ]
  },
  {
   "cell_type": "markdown",
   "id": "139db2c5",
   "metadata": {},
   "source": [
    "## Pie - Donut chart"
   ]
  },
  {
   "cell_type": "markdown",
   "id": "e4582264",
   "metadata": {},
   "source": [
    "## TO-DO\n",
    "- Tengo que hacer uno donde toda la data sea externa identificable por color"
   ]
  },
  {
   "cell_type": "code",
   "execution_count": 13,
   "id": "526073c1",
   "metadata": {},
   "outputs": [
    {
     "data": {
      "text/html": [
       "<div>\n",
       "<style scoped>\n",
       "    .dataframe tbody tr th:only-of-type {\n",
       "        vertical-align: middle;\n",
       "    }\n",
       "\n",
       "    .dataframe tbody tr th {\n",
       "        vertical-align: top;\n",
       "    }\n",
       "\n",
       "    .dataframe thead th {\n",
       "        text-align: right;\n",
       "    }\n",
       "</style>\n",
       "<table border=\"1\" class=\"dataframe\">\n",
       "  <thead>\n",
       "    <tr style=\"text-align: right;\">\n",
       "      <th></th>\n",
       "      <th>values</th>\n",
       "    </tr>\n",
       "  </thead>\n",
       "  <tbody>\n",
       "    <tr>\n",
       "      <th>A</th>\n",
       "      <td>25</td>\n",
       "    </tr>\n",
       "    <tr>\n",
       "      <th>B</th>\n",
       "      <td>30</td>\n",
       "    </tr>\n",
       "    <tr>\n",
       "      <th>C</th>\n",
       "      <td>20</td>\n",
       "    </tr>\n",
       "    <tr>\n",
       "      <th>D</th>\n",
       "      <td>15</td>\n",
       "    </tr>\n",
       "    <tr>\n",
       "      <th>E</th>\n",
       "      <td>10</td>\n",
       "    </tr>\n",
       "  </tbody>\n",
       "</table>\n",
       "</div>"
      ],
      "text/plain": [
       "   values\n",
       "A      25\n",
       "B      30\n",
       "C      20\n",
       "D      15\n",
       "E      10"
      ]
     },
     "execution_count": 13,
     "metadata": {},
     "output_type": "execute_result"
    }
   ],
   "source": [
    "sr_1 = pd.Series([35, 25, 20, 12, 8], index=['Product A', 'Product B', 'Product C', 'Product D', 'Product E'])\n",
    "sr_2 = pd.Series({'Region A': 45,'Region B': 30,'Region C': 25})\n",
    "\n",
    "df_1 = pd.DataFrame([25, 30, 20, 15, 10], index=['A', 'B', 'C', 'D', 'E'], columns=['values'])     \n",
    "# sr_3 = pd.DataFrame([[25], [30], [20], [15], [10]], index=['A', 'B', 'C', 'D', 'E'], columns=['values'])     # [ERR] values are np.ndarrays, ex. [25] 1x1 array?\n",
    "sr_4 = pd.Series({'Region A': 45,'Region B': 30,'Region C': 25, 'Region D': 17})\n",
    "sr_5 = pd.Series([25, 30, 20, 15, 10], index=['A', 'B', 'C', 'D', 'E'], name='Frequency')\n",
    "# cat_6 = pd.DataFrame(pd.Series)\n",
    "df_1"
   ]
  },
  {
   "cell_type": "code",
   "execution_count": 14,
   "id": "b4fc5a82",
   "metadata": {},
   "outputs": [],
   "source": [
    "# data = df_1\n",
    "\n",
    "# for value in data.values:\n",
    "#     print(f\"{value = } | {type(value) = }\")\n",
    "#     if not isinstance(value, (int, float, np.integer, np.floating)):\n",
    "#         print(f\"{value = } | {type(value) = }\")"
   ]
  },
  {
   "cell_type": "code",
   "execution_count": 15,
   "id": "c4b05c9c",
   "metadata": {},
   "outputs": [
    {
     "data": {
      "image/png": "[encoded data removed]",
      "text/plain": [
       "<Figure size 791.111x400 with 1 Axes>"
      ]
     },
     "metadata": {},
     "output_type": "display_data"
    }
   ],
   "source": [
    "fig, ax = jm_pd.plt_pie(df_1, kind='donut', title='Donut Distribution', startangle=0)"
   ]
  },
  {
   "cell_type": "code",
   "execution_count": 16,
   "id": "cae1f0e0",
   "metadata": {},
   "outputs": [
    {
     "data": {
      "image/png": "[encoded data removed]",
      "text/plain": [
       "<Figure size 1406.42x711.111 with 1 Axes>"
      ]
     },
     "metadata": {},
     "output_type": "display_data"
    }
   ],
   "source": [
    "# # fig, ax = jm_pandas.plt_piechart(catdf_1, title='Total de Ventas', rotate=-40)\n",
    "# # fig, ax = jm_pandas.plt_pie_2(catdf_1, title='Total de Ventas')\n",
    "fig, ax = jm_pd.plt_pie(sr_4, title='Total de Ventas', kind='pie', label_place='int', scale=4, palette='Blues_r')"
   ]
  },
  {
   "cell_type": "code",
   "execution_count": 17,
   "id": "b4c4068d",
   "metadata": {},
   "outputs": [
    {
     "data": {
      "image/png": "[encoded data removed]",
      "text/plain": [
       "<Figure size 1054.81x533.333 with 1 Axes>"
      ]
     },
     "metadata": {},
     "output_type": "display_data"
    }
   ],
   "source": [
    "fig, ax = jm_pd.plt_pie(sr_2, title='Clientes por región', scale=3, label_place='int')\n",
    "# fig, ax = jm_pandas.plt_pie_1(catdf_2, title='Clientes por región')\n",
    "# fig, ax = jm_pandas.plt_piechart2(catdf_2, title='Clientes por región')"
   ]
  },
  {
   "cell_type": "markdown",
   "id": "f4623d2c",
   "metadata": {},
   "source": [
    "## Numeric Cols\n",
    "- Basicamente todas las cols a las que les pueda calcular min() y max(), etc. Tambien porque son oject pero tiene números.\n",
    "- pie-chart is for categorical data in an fdt (frequency distribution table)\n",
    "- for numeric cols we can do the frequency count of values or histogram by values o by intervals.\n",
    "- in a series or df[col] jm made the jm_pd.to_series_with_count() for a kind o similar fdt\n",
    "- BUT we imagen the plt_histogram for more detailed numeric cols histogram (fdt - value_count)"
   ]
  },
  {
   "cell_type": "code",
   "execution_count": 18,
   "id": "342f6ea0",
   "metadata": {},
   "outputs": [
    {
     "data": {
      "text/html": [
       "<div>\n",
       "<style scoped>\n",
       "    .dataframe tbody tr th:only-of-type {\n",
       "        vertical-align: middle;\n",
       "    }\n",
       "\n",
       "    .dataframe tbody tr th {\n",
       "        vertical-align: top;\n",
       "    }\n",
       "\n",
       "    .dataframe thead th {\n",
       "        text-align: right;\n",
       "    }\n",
       "</style>\n",
       "<table border=\"1\" class=\"dataframe\">\n",
       "  <thead>\n",
       "    <tr style=\"text-align: right;\">\n",
       "      <th></th>\n",
       "      <th>Column</th>\n",
       "      <th>Dtype</th>\n",
       "      <th>N-Nulls</th>\n",
       "      <th>N-Total</th>\n",
       "      <th>N-Uniques</th>\n",
       "      <th>Pct-Nulls</th>\n",
       "      <th>Memory-Usage</th>\n",
       "      <th>Min-Value</th>\n",
       "      <th>Max-Value</th>\n",
       "      <th>Most-Frequent</th>\n",
       "      <th>Freq-Count</th>\n",
       "      <th>Has-Duplicates</th>\n",
       "      <th>Sample-Values</th>\n",
       "    </tr>\n",
       "  </thead>\n",
       "  <tbody>\n",
       "    <tr>\n",
       "      <th>0</th>\n",
       "      <td>Age at time of purchase</td>\n",
       "      <td>object</td>\n",
       "      <td>88</td>\n",
       "      <td>179</td>\n",
       "      <td>47</td>\n",
       "      <td>33.0</td>\n",
       "      <td>11410</td>\n",
       "      <td>NaN</td>\n",
       "      <td>NaN</td>\n",
       "      <td>48.0</td>\n",
       "      <td>11</td>\n",
       "      <td>True</td>\n",
       "      <td>[19, 22, 25, 26]</td>\n",
       "    </tr>\n",
       "    <tr>\n",
       "      <th>1</th>\n",
       "      <td>Year of sale</td>\n",
       "      <td>float64</td>\n",
       "      <td>72</td>\n",
       "      <td>195</td>\n",
       "      <td>6</td>\n",
       "      <td>27.0</td>\n",
       "      <td>4272</td>\n",
       "      <td>2004.0</td>\n",
       "      <td>2010.0</td>\n",
       "      <td>2007.0</td>\n",
       "      <td>102</td>\n",
       "      <td>True</td>\n",
       "      <td>[2005.0, 2007.0, 2004.0, 2008.0]</td>\n",
       "    </tr>\n",
       "  </tbody>\n",
       "</table>\n",
       "</div>"
      ],
      "text/plain": [
       "                    Column    Dtype  N-Nulls  N-Total  N-Uniques  Pct-Nulls  \\\n",
       "0  Age at time of purchase   object       88      179         47       33.0   \n",
       "1             Year of sale  float64       72      195          6       27.0   \n",
       "\n",
       "   Memory-Usage  Min-Value  Max-Value  Most-Frequent  Freq-Count  \\\n",
       "0         11410        NaN        NaN           48.0          11   \n",
       "1          4272     2004.0     2010.0         2007.0         102   \n",
       "\n",
       "   Has-Duplicates                     Sample-Values  \n",
       "0            True                  [19, 22, 25, 26]  \n",
       "1            True  [2005.0, 2007.0, 2004.0, 2008.0]  "
      ]
     },
     "execution_count": 18,
     "metadata": {},
     "output_type": "execute_result"
    }
   ],
   "source": [
    "# Let see some numeric columns\n",
    "df_mini = df[['Age at time of purchase', 'Year of sale']]\n",
    "df_mini.jm.infomax()"
   ]
  },
  {
   "cell_type": "code",
   "execution_count": 19,
   "id": "72da7673",
   "metadata": {},
   "outputs": [
    {
     "data": {
      "text/html": [
       "<div>\n",
       "<style scoped>\n",
       "    .dataframe tbody tr th:only-of-type {\n",
       "        vertical-align: middle;\n",
       "    }\n",
       "\n",
       "    .dataframe tbody tr th {\n",
       "        vertical-align: top;\n",
       "    }\n",
       "\n",
       "    .dataframe thead th {\n",
       "        text-align: right;\n",
       "    }\n",
       "</style>\n",
       "<table border=\"1\" class=\"dataframe\">\n",
       "  <thead>\n",
       "    <tr style=\"text-align: right;\">\n",
       "      <th></th>\n",
       "      <th>Column</th>\n",
       "      <th>Dtype</th>\n",
       "      <th>N-Nulls</th>\n",
       "      <th>N-Total</th>\n",
       "      <th>N-Uniques</th>\n",
       "      <th>Pct-Nulls</th>\n",
       "      <th>Memory-Usage</th>\n",
       "      <th>Min-Value</th>\n",
       "      <th>Max-Value</th>\n",
       "      <th>Most-Frequent</th>\n",
       "      <th>Freq-Count</th>\n",
       "      <th>Has-Duplicates</th>\n",
       "      <th>Sample-Values</th>\n",
       "    </tr>\n",
       "  </thead>\n",
       "  <tbody>\n",
       "    <tr>\n",
       "      <th>0</th>\n",
       "      <td>Age at time of purchase</td>\n",
       "      <td>Int64</td>\n",
       "      <td>89</td>\n",
       "      <td>178</td>\n",
       "      <td>46</td>\n",
       "      <td>33.3</td>\n",
       "      <td>4539</td>\n",
       "      <td>19</td>\n",
       "      <td>76</td>\n",
       "      <td>48</td>\n",
       "      <td>11</td>\n",
       "      <td>True</td>\n",
       "      <td>[19, 22, 25, 26]</td>\n",
       "    </tr>\n",
       "    <tr>\n",
       "      <th>1</th>\n",
       "      <td>Year of sale</td>\n",
       "      <td>Int64</td>\n",
       "      <td>72</td>\n",
       "      <td>195</td>\n",
       "      <td>6</td>\n",
       "      <td>27.0</td>\n",
       "      <td>4539</td>\n",
       "      <td>2004</td>\n",
       "      <td>2010</td>\n",
       "      <td>2007</td>\n",
       "      <td>102</td>\n",
       "      <td>True</td>\n",
       "      <td>[2005, 2007, 2004, 2008]</td>\n",
       "    </tr>\n",
       "  </tbody>\n",
       "</table>\n",
       "</div>"
      ],
      "text/plain": [
       "                    Column  Dtype  N-Nulls  N-Total  N-Uniques  Pct-Nulls  \\\n",
       "0  Age at time of purchase  Int64       89      178         46       33.3   \n",
       "1             Year of sale  Int64       72      195          6       27.0   \n",
       "\n",
       "   Memory-Usage  Min-Value  Max-Value  Most-Frequent  Freq-Count  \\\n",
       "0          4539         19         76             48          11   \n",
       "1          4539       2004       2010           2007         102   \n",
       "\n",
       "   Has-Duplicates             Sample-Values  \n",
       "0            True          [19, 22, 25, 26]  \n",
       "1            True  [2005, 2007, 2004, 2008]  "
      ]
     },
     "execution_count": 19,
     "metadata": {},
     "output_type": "execute_result"
    }
   ],
   "source": [
    "# Let convert to best numeric\n",
    "df_mini1 = df_mini.jm.convert_dtypesmax()\n",
    "df_mini1.jm.infomax()"
   ]
  },
  {
   "cell_type": "code",
   "execution_count": 20,
   "id": "dbbe0742",
   "metadata": {},
   "outputs": [],
   "source": [
    "# sr_age = jm_pd.to_serie_with_count(df_mini1['Age at time of purchase'], count=True)\n",
    "# sr_age\n",
    "# ## imposible for a pie chart"
   ]
  },
  {
   "cell_type": "code",
   "execution_count": 21,
   "id": "d03de055",
   "metadata": {},
   "outputs": [
    {
     "ename": "AttributeError",
     "evalue": "module 'jm_datascience.jm_pandas' has no attribute 'to_serie_with_count'",
     "output_type": "error",
     "traceback": [
      "\u001b[31m---------------------------------------------------------------------------\u001b[39m",
      "\u001b[31mAttributeError\u001b[39m                            Traceback (most recent call last)",
      "\u001b[36mCell\u001b[39m\u001b[36m \u001b[39m\u001b[32mIn[21]\u001b[39m\u001b[32m, line 1\u001b[39m\n\u001b[32m----> \u001b[39m\u001b[32m1\u001b[39m sr_year = \u001b[43mjm_pd\u001b[49m\u001b[43m.\u001b[49m\u001b[43mto_serie_with_count\u001b[49m(df_mini1[\u001b[33m'\u001b[39m\u001b[33mYear of sale\u001b[39m\u001b[33m'\u001b[39m], count=\u001b[38;5;28;01mTrue\u001b[39;00m)\n\u001b[32m      2\u001b[39m display(sr_year)\n\u001b[32m      3\u001b[39m fig, ax = jm_pd.plt_pie(sr_year, scale=\u001b[32m4\u001b[39m, startangle=\u001b[32m0\u001b[39m, kind=\u001b[33m'\u001b[39m\u001b[33mdonut\u001b[39m\u001b[33m'\u001b[39m)\n",
      "\u001b[31mAttributeError\u001b[39m: module 'jm_datascience.jm_pandas' has no attribute 'to_serie_with_count'"
     ]
    }
   ],
   "source": [
    "sr_year = jm_pd.to_serie_with_count(df_mini1['Year of sale'], count=True)\n",
    "display(sr_year)\n",
    "fig, ax = jm_pd.plt_pie(sr_year, scale=4, startangle=0, kind='donut')\n",
    "## We had to make another pie for numerous categories: All data outside, in the legend sector."
   ]
  },
  {
   "cell_type": "code",
   "execution_count": null,
   "id": "3b23bc53",
   "metadata": {},
   "outputs": [],
   "source": []
  },
  {
   "cell_type": "code",
   "execution_count": null,
   "id": "11ec1dd0",
   "metadata": {},
   "outputs": [],
   "source": []
  }
 ],
 "metadata": {
  "kernelspec": {
   "display_name": "Python 3",
   "language": "python",
   "name": "python3"
  },
  "language_info": {
   "codemirror_mode": {
    "name": "ipython",
    "version": 3
   },
   "file_extension": ".py",
   "mimetype": "text/x-python",
   "name": "python",
   "nbconvert_exporter": "python",
   "pygments_lexer": "ipython3",
   "version": "3.13.5"
  }
 },
 "nbformat": 4,
 "nbformat_minor": 5
}
