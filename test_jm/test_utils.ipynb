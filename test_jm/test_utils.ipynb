{
 "cells": [
  {
   "cell_type": "markdown",
   "id": "f10d5ba8",
   "metadata": {},
   "source": [
    "# test jm_utils\n",
    "- Solos e importables como módulos."
   ]
  },
  {
   "cell_type": "code",
   "execution_count": null,
   "id": "c15b733f",
   "metadata": {},
   "outputs": [],
   "source": [
    "# ## Standard Libs\n",
    "# from typing import Union, Optional, Tuple, Dict, Any\n",
    "# import warnings\n",
    "# import random\n",
    "# import re\n",
    "\n",
    "# # Third-Party Libs\n",
    "# import numpy as np\n",
    "# import pandas as pd\n",
    "# import matplotlib.pyplot as plt\n",
    "# from rich.console import Console\n",
    "# from rich.text import Text\n",
    "# from rich.panel import Panel\n",
    "\n",
    "# # Local Libs\n",
    "# from jm_datascience import jm_pandas as jm_pd\n",
    "# from jm_datascience import jm_pdaccessor\n",
    "from jm_utils import jm_richprt as jm_rp"
   ]
  },
  {
   "cell_type": "markdown",
   "id": "5eeeb6a1",
   "metadata": {},
   "source": [
    "## fmt_nums(value, decimals=2, miles=','):"
   ]
  },
  {
   "cell_type": "code",
   "execution_count": null,
   "id": "43c340dc",
   "metadata": {},
   "outputs": [],
   "source": [
    "print(jm_rp.fmt_nums('No debería cambiar NADA\\n'))\n",
    "print(jm_rp.fmt_nums('AHORA \\t SI - 9876540.1230\\n'))"
   ]
  },
  {
   "cell_type": "code",
   "execution_count": null,
   "id": "78071ee4",
   "metadata": {},
   "outputs": [],
   "source": [
    "from rich import print as rprint\n",
    "print(jm_rp.fmt_nums('No debería cambiar NADA\\n'))\n",
    "rprint('casa', 67, 'mesa')"
   ]
  },
  {
   "cell_type": "code",
   "execution_count": null,
   "id": "53dfc0c3",
   "metadata": {},
   "outputs": [],
   "source": [
    "# from rich import pretty\n",
    "# pretty.install()\n",
    "# [\"Rich and pretty\", True]"
   ]
  },
  {
   "cell_type": "code",
   "execution_count": null,
   "id": "7ba97b1d",
   "metadata": {},
   "outputs": [],
   "source": [
    "from rich.panel import Panel\n",
    "Panel.fit(\"[bold yellow]Hi, I'm a Panel\", border_style=\"red\")"
   ]
  },
  {
   "cell_type": "code",
   "execution_count": null,
   "id": "e39e7a64",
   "metadata": {},
   "outputs": [],
   "source": [
    "from rich.console import Console\n",
    "from rich.panel import Panel\n",
    "\n",
    "console = Console()\n",
    "panel = Panel(\n",
    "    \"[bold magenta]¡Hola, Jorge![/bold magenta]\\nEste es un panel personalizado.\",\n",
    "    title=\"🔧 Panel Rich\",\n",
    "    subtitle=\"Con colores y estilo\",\n",
    "    border_style=\"cyan\"\n",
    ")\n",
    "\n",
    "console.print(panel)\n"
   ]
  },
  {
   "cell_type": "code",
   "execution_count": null,
   "id": "3eba1e54",
   "metadata": {},
   "outputs": [],
   "source": [
    "from rich.console import Console\n",
    "from rich.table import Table\n",
    "\n",
    "console = Console()\n",
    "table = Table(title=\"📊 Parámetros del Sistema\", title_style=\"bold green\")\n",
    "\n",
    "table.add_column(\"Nombre\", justify=\"left\", style=\"yellow\")\n",
    "table.add_column(\"Valor\", justify=\"right\", style=\"bold\")\n",
    "\n",
    "table.add_row(\"Sistema operativo\", \"Windows 10\")\n",
    "table.add_row(\"RAM disponible\", \"16 GB\")\n",
    "table.add_row(\"Usuario\", \"Jorge\")\n",
    "\n",
    "console.print(table)\n"
   ]
  },
  {
   "cell_type": "code",
   "execution_count": null,
   "id": "f85a71fa",
   "metadata": {},
   "outputs": [],
   "source": [
    "from rich.console import Console\n",
    "from rich.text import Text\n",
    "\n",
    "console = Console()\n",
    "text = Text(\"Estado del proceso: \")\n",
    "text.append(\"EXCEPCIÓN DETECTADA\", style=\"bold red on black\")\n",
    "text.append(\" → Se recomienda revisar logs\", style=\"italic yellow\")\n",
    "\n",
    "console.print(text)\n"
   ]
  },
  {
   "cell_type": "markdown",
   "id": "b90e8dc7",
   "metadata": {},
   "source": [
    "## Rich especial Functions"
   ]
  },
  {
   "cell_type": "code",
   "execution_count": null,
   "id": "3b23bc53",
   "metadata": {},
   "outputs": [],
   "source": [
    "from rich.console import Console\n",
    "from rich.panel import Panel\n",
    "\n",
    "def mostrar_mensaje(titulo: str, contenido: str, color: str = \"green\"):\n",
    "    console = Console()\n",
    "    panel = Panel(\n",
    "        contenido,\n",
    "        title=titulo,\n",
    "        border_style=color\n",
    "    )\n",
    "    console.print(panel)\n",
    "\n",
    "# Ejemplo de uso\n",
    "mostrar_mensaje(\"🚨 Alerta\", \"Se detectó una anomalía en el sistema\", \"red\")\n",
    "mostrar_mensaje(\"ℹ️ Info\", \"El proceso finalizó correctamente\", \"green\")"
   ]
  },
  {
   "cell_type": "code",
   "execution_count": null,
   "id": "f679b249",
   "metadata": {},
   "outputs": [],
   "source": [
    "from rich.console import Console\n",
    "from rich.table import Table\n",
    "\n",
    "def mostrar_tabla(datos: dict, titulo: str = \"📄 Datos\", estilo_titulo: str = \"bold blue\"):\n",
    "    console = Console()\n",
    "    table = Table(title=titulo, title_style=estilo_titulo)\n",
    "    \n",
    "    table.add_column(\"Clave\", style=\"cyan\", justify=\"left\")\n",
    "    table.add_column(\"Valor\", style=\"magenta\", justify=\"right\")\n",
    "    \n",
    "    for clave, valor in datos.items():\n",
    "        table.add_row(str(clave), str(valor))\n",
    "    \n",
    "    console.print(table)\n",
    "\n",
    "# Ejemplo de uso\n",
    "info_sistema = {\n",
    "    \"OS\": \"Windows\",\n",
    "    \"RAM\": \"32 GB\",\n",
    "    \"Usuario\": \"Jorge\",\n",
    "    \"Estado\": \"OK\"\n",
    "}\n",
    "\n",
    "mostrar_tabla(info_sistema)\n"
   ]
  },
  {
   "cell_type": "code",
   "execution_count": null,
   "id": "c0e02522",
   "metadata": {},
   "outputs": [],
   "source": [
    "from rich.console import Console\n",
    "from rich.text import Text\n",
    "\n",
    "def estado_proceso(mensaje: str, estado: str):\n",
    "    console = Console()\n",
    "    text = Text(mensaje + \": \")\n",
    "    \n",
    "    colores = {\n",
    "        \"ok\": \"green\",\n",
    "        \"warning\": \"yellow\",\n",
    "        \"error\": \"bold red\"\n",
    "    }\n",
    "    \n",
    "    estilo = colores.get(estado.lower(), \"white\")\n",
    "    text.append(estado.upper(), style=estilo)\n",
    "    console.print(text)\n",
    "\n",
    "# Ejemplo\n",
    "estado_proceso(\"Verificación\", \"ok\")\n",
    "estado_proceso(\"Conexión\", \"error\")\n"
   ]
  },
  {
   "cell_type": "code",
   "execution_count": null,
   "id": "c2d03129",
   "metadata": {},
   "outputs": [
    {
     "data": {
      "text/html": [
       "<pre style=\"white-space:pre;overflow-x:auto;line-height:normal;font-family:Menlo,'DejaVu Sans Mono',consolas,'Courier New',monospace\"><span style=\"color: #ff0000; text-decoration-color: #ff0000\">X</span><span style=\"color: #d70000; text-decoration-color: #d70000\"> [ERROR] &gt;</span><span style=\"color: #800000; text-decoration-color: #800000\"> Default message </span>\n",
       "</pre>\n"
      ],
      "text/plain": [
       "\u001b[38;5;196mX\u001b[0m\u001b[38;5;160m [ERROR] >\u001b[0m\u001b[31m Default message \u001b[0m\n"
      ]
     },
     "metadata": {},
     "output_type": "display_data"
    },
    {
     "data": {
      "text/html": [
       "<pre style=\"white-space:pre;overflow-x:auto;line-height:normal;font-family:Menlo,'DejaVu Sans Mono',consolas,'Courier New',monospace\"><span style=\"color: #ffff00; text-decoration-color: #ffff00\">!</span><span style=\"color: #d7d700; text-decoration-color: #d7d700\"> [WARNING] &gt;</span><span style=\"color: #808000; text-decoration-color: #808000\"> Default message </span>\n",
       "</pre>\n"
      ],
      "text/plain": [
       "\u001b[38;5;226m!\u001b[0m\u001b[38;5;184m [WARNING] >\u001b[0m\u001b[33m Default message \u001b[0m\n"
      ]
     },
     "metadata": {},
     "output_type": "display_data"
    },
    {
     "data": {
      "text/html": [
       "<pre style=\"white-space:pre;overflow-x:auto;line-height:normal;font-family:Menlo,'DejaVu Sans Mono',consolas,'Courier New',monospace\"><span style=\"color: #0087ff; text-decoration-color: #0087ff\">i</span><span style=\"color: #005fd7; text-decoration-color: #005fd7\"> [INFO] &gt;</span><span style=\"color: #000080; text-decoration-color: #000080\"> Default message </span>\n",
       "</pre>\n"
      ],
      "text/plain": [
       "\u001b[38;5;33mi\u001b[0m\u001b[38;5;26m [INFO] >\u001b[0m\u001b[34m Default message \u001b[0m\n"
      ]
     },
     "metadata": {},
     "output_type": "display_data"
    },
    {
     "data": {
      "text/html": [
       "<pre style=\"white-space:pre;overflow-x:auto;line-height:normal;font-family:Menlo,'DejaVu Sans Mono',consolas,'Courier New',monospace\"><span style=\"color: #c0c0c0; text-decoration-color: #c0c0c0\">? [PAPA] &gt; Default message </span>\n",
       "</pre>\n"
      ],
      "text/plain": [
       "\u001b[37m?\u001b[0m\u001b[37m [PAPA] >\u001b[0m\u001b[37m Default message \u001b[0m\n"
      ]
     },
     "metadata": {},
     "output_type": "display_data"
    },
    {
     "data": {
      "text/html": [
       "<pre style=\"white-space:pre;overflow-x:auto;line-height:normal;font-family:Menlo,'DejaVu Sans Mono',consolas,'Courier New',monospace\"><span style=\"color: #00ff87; text-decoration-color: #00ff87\">#</span><span style=\"color: #00d75f; text-decoration-color: #00d75f\"> [OK] &gt;</span><span style=\"color: #008000; text-decoration-color: #008000\"> Default message </span>\n",
       "</pre>\n"
      ],
      "text/plain": [
       "\u001b[38;5;48m#\u001b[0m\u001b[38;5;41m [OK] >\u001b[0m\u001b[32m Default message \u001b[0m\n"
      ]
     },
     "metadata": {},
     "output_type": "display_data"
    }
   ],
   "source": [
    "def prt_state(state='info', msg='Default message', color='white', mark='?'):\n",
    "\n",
    "    mark_colors = {\n",
    "        'info': ['i', 'dodger_blue1', 'dodger_blue3', 'blue'],\n",
    "        'ok': ['#', 'spring_green1', 'spring_green3', 'green'],\n",
    "        'warning': ['!', 'yellow1', 'yellow3', 'yellow'],\n",
    "        'error': ['X', 'red1', 'red3', 'red']\n",
    "    }\n",
    "\n",
    "    default = [mark, color, color, color]\n",
    "\n",
    "    txt = Text(mark_colors.get(state, default)[0], style=mark_colors.get(state, default)[1])\n",
    "    txt.append(f\" [{state.upper()}] >\", style=mark_colors.get(state, default)[2])\n",
    "    txt.append(f\" {msg} \", style=mark_colors.get(state, default)[3])\n",
    "\n",
    "    console.print(txt)\n",
    "\n",
    "prt_state(state='error')\n",
    "prt_state(state='warning')\n",
    "prt_state()\n",
    "prt_state(state='ok')\n",
    "prt_state(state='papa')\n",
    "\n"
   ]
  },
  {
   "cell_type": "code",
   "execution_count": null,
   "id": "cc772f7a",
   "metadata": {},
   "outputs": [],
   "source": []
  },
  {
   "cell_type": "code",
   "execution_count": null,
   "id": "0c2f9c6e",
   "metadata": {},
   "outputs": [],
   "source": [
    "col_0__mark_1 = {\n",
    "    'info': ['blue', 'i'],\n",
    "    'ok': ['green', '#'],\n",
    "    'Warning': ['yellow', '!'],\n",
    "    'error': ['red', 'X']\n",
    "}\n",
    "\n",
    "col_0__mark_1.get('info', ['white', '&&'])[0]\n",
    "col_0__mark_1.get('papa', ['white', '&&'])[0]"
   ]
  },
  {
   "cell_type": "code",
   "execution_count": null,
   "id": "dea98b58",
   "metadata": {},
   "outputs": [],
   "source": []
  },
  {
   "cell_type": "code",
   "execution_count": null,
   "id": "fa651e71",
   "metadata": {},
   "outputs": [],
   "source": [
    "colors = {\n",
    "    \"ok\": \"green\",\n",
    "    \"warning\": \"yellow\",\n",
    "    \"error\": \"bold red\"\n",
    "}\n",
    "\n",
    "print(colors.get('ok'))\n",
    "print(colors.get('info', 'magenta'))\n",
    "print(colors)"
   ]
  },
  {
   "cell_type": "code",
   "execution_count": null,
   "id": "68e34270",
   "metadata": {},
   "outputs": [],
   "source": [
    "from rich.console import Console\n",
    "from rich.text import Text\n",
    "\n",
    "console = Console()\n",
    "# text = Text(\"Hello, World!\")\n",
    "# text.stylize(\"bold magenta\", 0, 6)\n",
    "# console.print(text)\n",
    "\n",
    "text = Text()\n",
    "text.append(\"Hello\", style=\"bold magenta\")\n",
    "text.append(\" World!\")\n",
    "console.print(text)"
   ]
  }
 ],
 "metadata": {
  "kernelspec": {
   "display_name": "Python 3",
   "language": "python",
   "name": "python3"
  },
  "language_info": {
   "codemirror_mode": {
    "name": "ipython",
    "version": 3
   },
   "file_extension": ".py",
   "mimetype": "text/x-python",
   "name": "python",
   "nbconvert_exporter": "python",
   "pygments_lexer": "ipython3",
   "version": "3.13.5"
  }
 },
 "nbformat": 4,
 "nbformat_minor": 5
}
