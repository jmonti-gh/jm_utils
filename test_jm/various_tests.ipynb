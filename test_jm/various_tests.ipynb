{
 "cells": [
  {
   "cell_type": "markdown",
   "id": "aefc8ae8",
   "metadata": {},
   "source": [
    "# various tests"
   ]
  },
  {
   "cell_type": "code",
   "execution_count": 7,
   "id": "addafaac",
   "metadata": {},
   "outputs": [],
   "source": [
    "from jm_utils.data.plt_funcs import get_colorblind_color_list"
   ]
  },
  {
   "cell_type": "code",
   "execution_count": 8,
   "id": "92e3a8f3",
   "metadata": {},
   "outputs": [
    {
     "name": "stdout",
     "output_type": "stream",
     "text": [
      "['#029E73', '#D55E00', '#CC78BC', '#CA9161']\n"
     ]
    }
   ],
   "source": [
    "mini_colors = get_colorblind_color_list()[2:6]\n",
    "print(mini_colors)"
   ]
  },
  {
   "cell_type": "code",
   "execution_count": 9,
   "id": "07da0bf0",
   "metadata": {},
   "outputs": [
    {
     "data": {
      "text/html": [
       "<div style='display:flex;'><div style='background-color:#029E73; width:100px; height:50px; line-height:50px; text-align:center; color:white;'>#029E73</div><div style='background-color:#D55E00; width:100px; height:50px; line-height:50px; text-align:center; color:white;'>#D55E00</div><div style='background-color:#CC78BC; width:100px; height:50px; line-height:50px; text-align:center; color:white;'>#CC78BC</div><div style='background-color:#CA9161; width:100px; height:50px; line-height:50px; text-align:center; color:white;'>#CA9161</div></div>"
      ],
      "text/plain": [
       "<IPython.core.display.HTML object>"
      ]
     },
     "metadata": {},
     "output_type": "display_data"
    }
   ],
   "source": [
    "from IPython.display import display, HTML\n",
    "\n",
    "html = \"<div style='display:flex;'>\"\n",
    "for color in mini_colors:\n",
    "    html += f\"<div style='background-color:{color}; width:100px; height:50px; line-height:50px; text-align:center; color:white;'>{color}</div>\"\n",
    "html += \"</div>\"\n",
    "\n",
    "display(HTML(html))"
   ]
  },
  {
   "cell_type": "code",
   "execution_count": null,
   "id": "f6baf7ad",
   "metadata": {},
   "outputs": [],
   "source": [
    "# DATA: Artificial Intelligence Market Summary - 2024\n",
    "dic = {'Machine Vision': [1560, 'Obs1'], 'Natural Language Processing': [2900, 'Obs2'], np.nan: [367, 'Try NaNs'],\n",
    "       'Machine Learning': [3740, 'Obs3'], 'Deep Learning': [5310, 'Obs4'], 'Generative AI': [2050, 'Obs5']}\n",
    "ai = pd.DataFrame.from_dict(dic, orient='index', columns=['Millon USD', 'Obs'])\n",
    "ai.index.name = 'AI Branches'\n",
    "\n",
    "# DATA: df, from xls spreadsheet\n",
    "try:\n",
    "    spreadsheet = r\"C:\\Users\\jm\\Documents\\__Dev\\PortableGit\\__localrepos\\365DS_jm\\3_statistics\\2_13_Practical_Ex_Descriptive_Stats.xlsx\"    # Casa\n",
    "    with open(spreadsheet) as f:\n",
    "        pass\n",
    "except FileNotFoundError:\n",
    "    spreadsheet = r\"D:\\git\\PortableGit\\__localrepos\\365DS_jm\\3_statistics\\2_13_Practical_Ex_Descriptive_Stats.xlsx\"                         # Office\n",
    "\n",
    "df = pd.read_excel(spreadsheet, skiprows=4, usecols='B:J,L:AA', index_col='ID')\n",
    "df"
   ]
  },
  {
   "cell_type": "code",
   "execution_count": null,
   "id": "fb108bdd",
   "metadata": {},
   "outputs": [],
   "source": []
  },
  {
   "cell_type": "code",
   "execution_count": null,
   "id": "50136d7d",
   "metadata": {},
   "outputs": [],
   "source": []
  },
  {
   "cell_type": "code",
   "execution_count": null,
   "id": "3601abbf",
   "metadata": {},
   "outputs": [],
   "source": []
  },
  {
   "cell_type": "code",
   "execution_count": null,
   "id": "b98173c6",
   "metadata": {},
   "outputs": [],
   "source": []
  }
 ],
 "metadata": {
  "kernelspec": {
   "display_name": "Python 3",
   "language": "python",
   "name": "python3"
  },
  "language_info": {
   "codemirror_mode": {
    "name": "ipython",
    "version": 3
   },
   "file_extension": ".py",
   "mimetype": "text/x-python",
   "name": "python",
   "nbconvert_exporter": "python",
   "pygments_lexer": "ipython3",
   "version": "3.13.5"
  }
 },
 "nbformat": 4,
 "nbformat_minor": 5
}
