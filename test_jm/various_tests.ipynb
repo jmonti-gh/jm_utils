{
 "cells": [
  {
   "cell_type": "markdown",
   "id": "aefc8ae8",
   "metadata": {},
   "source": [
    "# various tests"
   ]
  },
  {
   "cell_type": "code",
   "execution_count": 4,
   "id": "addafaac",
   "metadata": {},
   "outputs": [],
   "source": [
    "from jm_utils.data.jm_matplotlib import get_colorblind_color_list"
   ]
  },
  {
   "cell_type": "code",
   "execution_count": 5,
   "id": "92e3a8f3",
   "metadata": {},
   "outputs": [
    {
     "name": "stdout",
     "output_type": "stream",
     "text": [
      "['#029E73', '#D55E00', '#CC78BC', '#CA9161']\n"
     ]
    }
   ],
   "source": [
    "mini_colors = get_colorblind_color_list()[2:6]\n",
    "print(mini_colors)"
   ]
  },
  {
   "cell_type": "code",
   "execution_count": null,
   "id": "07da0bf0",
   "metadata": {},
   "outputs": [],
   "source": []
  },
  {
   "cell_type": "code",
   "execution_count": null,
   "id": "f6baf7ad",
   "metadata": {},
   "outputs": [],
   "source": []
  },
  {
   "cell_type": "code",
   "execution_count": null,
   "id": "fb108bdd",
   "metadata": {},
   "outputs": [],
   "source": []
  },
  {
   "cell_type": "code",
   "execution_count": null,
   "id": "50136d7d",
   "metadata": {},
   "outputs": [],
   "source": []
  },
  {
   "cell_type": "code",
   "execution_count": 6,
   "id": "3339d28e",
   "metadata": {},
   "outputs": [
    {
     "data": {
      "text/html": [
       "<div style='display:flex;'><div style='background-color:#029E73; width:100px; height:50px; line-height:50px; text-align:center; color:white;'>#029E73</div><div style='background-color:#D55E00; width:100px; height:50px; line-height:50px; text-align:center; color:white;'>#D55E00</div><div style='background-color:#CC78BC; width:100px; height:50px; line-height:50px; text-align:center; color:white;'>#CC78BC</div><div style='background-color:#CA9161; width:100px; height:50px; line-height:50px; text-align:center; color:white;'>#CA9161</div></div>"
      ],
      "text/plain": [
       "<IPython.core.display.HTML object>"
      ]
     },
     "metadata": {},
     "output_type": "display_data"
    }
   ],
   "source": [
    "from IPython.display import display, HTML\n",
    "\n",
    "html = \"<div style='display:flex;'>\"\n",
    "for color in mini_colors:\n",
    "    html += f\"<div style='background-color:{color}; width:100px; height:50px; line-height:50px; text-align:center; color:white;'>{color}</div>\"\n",
    "html += \"</div>\"\n",
    "\n",
    "display(HTML(html))"
   ]
  }
 ],
 "metadata": {
  "kernelspec": {
   "display_name": "Python 3",
   "language": "python",
   "name": "python3"
  },
  "language_info": {
   "codemirror_mode": {
    "name": "ipython",
    "version": 3
   },
   "file_extension": ".py",
   "mimetype": "text/x-python",
   "name": "python",
   "nbconvert_exporter": "python",
   "pygments_lexer": "ipython3",
   "version": "3.13.5"
  }
 },
 "nbformat": 4,
 "nbformat_minor": 5
}
