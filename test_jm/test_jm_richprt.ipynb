{
 "cells": [
  {
   "cell_type": "markdown",
   "id": "f10d5ba8",
   "metadata": {},
   "source": [
    "# test jm_richprt\n",
    "- Solos e importables como módulos."
   ]
  },
  {
   "cell_type": "code",
   "execution_count": 53,
   "id": "c15b733f",
   "metadata": {},
   "outputs": [],
   "source": [
    "# ## Standard Libs\n",
    "# from typing import Union, Optional, Tuple, Dict, Any\n",
    "# import warnings\n",
    "import random\n",
    "# import re\n",
    "\n",
    "# # Third-Party Libs\n",
    "import numpy as np\n",
    "import pandas as pd\n",
    "# import matplotlib.pyplot as plt\n",
    "# from rich.console import Console\n",
    "# from rich.text import Text\n",
    "# from rich.panel import Panel\n",
    "\n",
    "# # Local Libs\n",
    "from jm_datascience import jm_pandas as jm_pd\n",
    "# from jm_datascience import jm_pdaccessor\n",
    "from jm_utils import jm_richprt as jm_rp"
   ]
  },
  {
   "cell_type": "markdown",
   "id": "5eeeb6a1",
   "metadata": {},
   "source": [
    "## fmt_nums(value, decimals=2, miles=','):"
   ]
  },
  {
   "cell_type": "code",
   "execution_count": 54,
   "id": "43c340dc",
   "metadata": {},
   "outputs": [
    {
     "name": "stdout",
     "output_type": "stream",
     "text": [
      "No debería cambiar NADA\n",
      "\n",
      "AHORA \t SI - 9,876,540.12\n",
      "\n",
      "Y... \t 'ahora': 9_876_540.123\n",
      "\n"
     ]
    }
   ],
   "source": [
    "print(jm_rp.fmt_nums('No debería cambiar NADA\\n'))\n",
    "print(jm_rp.fmt_nums('AHORA \\t SI - 9876540.1230\\n'))\n",
    "print(jm_rp.fmt_nums(\"Y... \\t 'ahora': 9876540.1230\\n\", decimals=3, miles='_'))"
   ]
  },
  {
   "cell_type": "markdown",
   "id": "84ddc13f",
   "metadata": {},
   "source": [
    "## fmt_nums() in pandas objects"
   ]
  },
  {
   "cell_type": "code",
   "execution_count": 55,
   "id": "cb9ac3bb",
   "metadata": {},
   "outputs": [
    {
     "data": {
      "text/html": [
       "<div>\n",
       "<style scoped>\n",
       "    .dataframe tbody tr th:only-of-type {\n",
       "        vertical-align: middle;\n",
       "    }\n",
       "\n",
       "    .dataframe tbody tr th {\n",
       "        vertical-align: top;\n",
       "    }\n",
       "\n",
       "    .dataframe thead th {\n",
       "        text-align: right;\n",
       "    }\n",
       "</style>\n",
       "<table border=\"1\" class=\"dataframe\">\n",
       "  <thead>\n",
       "    <tr style=\"text-align: right;\">\n",
       "      <th></th>\n",
       "      <th>col1</th>\n",
       "      <th>col2</th>\n",
       "      <th>col3</th>\n",
       "      <th>col4</th>\n",
       "    </tr>\n",
       "  </thead>\n",
       "  <tbody>\n",
       "    <tr>\n",
       "      <th>A</th>\n",
       "      <td>-650000</td>\n",
       "      <td>64968995</td>\n",
       "      <td>KA</td>\n",
       "      <td>45500</td>\n",
       "    </tr>\n",
       "    <tr>\n",
       "      <th>B</th>\n",
       "      <td>-660000</td>\n",
       "      <td>65968518</td>\n",
       "      <td>LB</td>\n",
       "      <td>46200</td>\n",
       "    </tr>\n",
       "    <tr>\n",
       "      <th>C</th>\n",
       "      <td>-670000</td>\n",
       "      <td>66968041</td>\n",
       "      <td>MC</td>\n",
       "      <td>46900</td>\n",
       "    </tr>\n",
       "    <tr>\n",
       "      <th>D</th>\n",
       "      <td>-680000</td>\n",
       "      <td>67967564</td>\n",
       "      <td>ND</td>\n",
       "      <td>47600</td>\n",
       "    </tr>\n",
       "    <tr>\n",
       "      <th>E</th>\n",
       "      <td>-690000</td>\n",
       "      <td>68967087</td>\n",
       "      <td>OE</td>\n",
       "      <td>48300</td>\n",
       "    </tr>\n",
       "    <tr>\n",
       "      <th>F</th>\n",
       "      <td>-700000</td>\n",
       "      <td>69966610</td>\n",
       "      <td>PF</td>\n",
       "      <td>49000</td>\n",
       "    </tr>\n",
       "  </tbody>\n",
       "</table>\n",
       "</div>"
      ],
      "text/plain": [
       "      col1      col2 col3   col4\n",
       "A  -650000  64968995   KA  45500\n",
       "B  -660000  65968518   LB  46200\n",
       "C  -670000  66968041   MC  46900\n",
       "D  -680000  67967564   ND  47600\n",
       "E  -690000  68967087   OE  48300\n",
       "F  -700000  69966610   PF  49000"
      ]
     },
     "execution_count": 55,
     "metadata": {},
     "output_type": "execute_result"
    }
   ],
   "source": [
    "dic_1 = {chr(i): i * -10_000 for i in range(65, 71)}\n",
    "dic_2 = {chr(i): i * 999_523 for i in range(65, 71)}\n",
    "dic_3 = {chr(i): i * 700 for i in range(65, 71)}\n",
    "dic_4 = {chr(i): chr(i + 10) + chr(i) for i in range(65, 71)}\n",
    "\n",
    "df = pd.DataFrame([dic_1, dic_2, dic_4, dic_3]).T\n",
    "df.columns = ['col1', 'col2', 'col3', 'col4']\n",
    "\n",
    "df"
   ]
  },
  {
   "cell_type": "code",
   "execution_count": 56,
   "id": "acc1cfec",
   "metadata": {},
   "outputs": [
    {
     "data": {
      "text/html": [
       "<div>\n",
       "<style scoped>\n",
       "    .dataframe tbody tr th:only-of-type {\n",
       "        vertical-align: middle;\n",
       "    }\n",
       "\n",
       "    .dataframe tbody tr th {\n",
       "        vertical-align: top;\n",
       "    }\n",
       "\n",
       "    .dataframe thead th {\n",
       "        text-align: right;\n",
       "    }\n",
       "</style>\n",
       "<table border=\"1\" class=\"dataframe\">\n",
       "  <thead>\n",
       "    <tr style=\"text-align: right;\">\n",
       "      <th></th>\n",
       "      <th>col1</th>\n",
       "      <th>col2</th>\n",
       "      <th>col3</th>\n",
       "      <th>col4</th>\n",
       "    </tr>\n",
       "  </thead>\n",
       "  <tbody>\n",
       "    <tr>\n",
       "      <th>A</th>\n",
       "      <td>-650,000.00</td>\n",
       "      <td>64,968,995.00</td>\n",
       "      <td>KA</td>\n",
       "      <td>45,500.00</td>\n",
       "    </tr>\n",
       "    <tr>\n",
       "      <th>B</th>\n",
       "      <td>-660,000.00</td>\n",
       "      <td>65,968,518.00</td>\n",
       "      <td>LB</td>\n",
       "      <td>46,200.00</td>\n",
       "    </tr>\n",
       "    <tr>\n",
       "      <th>C</th>\n",
       "      <td>-670,000.00</td>\n",
       "      <td>66,968,041.00</td>\n",
       "      <td>MC</td>\n",
       "      <td>46,900.00</td>\n",
       "    </tr>\n",
       "    <tr>\n",
       "      <th>D</th>\n",
       "      <td>-680,000.00</td>\n",
       "      <td>67,967,564.00</td>\n",
       "      <td>ND</td>\n",
       "      <td>47,600.00</td>\n",
       "    </tr>\n",
       "    <tr>\n",
       "      <th>E</th>\n",
       "      <td>-690,000.00</td>\n",
       "      <td>68,967,087.00</td>\n",
       "      <td>OE</td>\n",
       "      <td>48,300.00</td>\n",
       "    </tr>\n",
       "    <tr>\n",
       "      <th>F</th>\n",
       "      <td>-700,000.00</td>\n",
       "      <td>69,966,610.00</td>\n",
       "      <td>PF</td>\n",
       "      <td>49,000.00</td>\n",
       "    </tr>\n",
       "  </tbody>\n",
       "</table>\n",
       "</div>"
      ],
      "text/plain": [
       "          col1           col2 col3       col4\n",
       "A  -650,000.00  64,968,995.00   KA  45,500.00\n",
       "B  -660,000.00  65,968,518.00   LB  46,200.00\n",
       "C  -670,000.00  66,968,041.00   MC  46,900.00\n",
       "D  -680,000.00  67,967,564.00   ND  47,600.00\n",
       "E  -690,000.00  68,967,087.00   OE  48,300.00\n",
       "F  -700,000.00  69,966,610.00   PF  49,000.00"
      ]
     },
     "execution_count": 56,
     "metadata": {},
     "output_type": "execute_result"
    }
   ],
   "source": [
    "df.map(jm_rp.fmt_nums)"
   ]
  },
  {
   "cell_type": "code",
   "execution_count": 57,
   "id": "dadd3440",
   "metadata": {},
   "outputs": [
    {
     "data": {
      "text/html": [
       "<div>\n",
       "<style scoped>\n",
       "    .dataframe tbody tr th:only-of-type {\n",
       "        vertical-align: middle;\n",
       "    }\n",
       "\n",
       "    .dataframe tbody tr th {\n",
       "        vertical-align: top;\n",
       "    }\n",
       "\n",
       "    .dataframe thead th {\n",
       "        text-align: right;\n",
       "    }\n",
       "</style>\n",
       "<table border=\"1\" class=\"dataframe\">\n",
       "  <thead>\n",
       "    <tr style=\"text-align: right;\">\n",
       "      <th></th>\n",
       "      <th>col1</th>\n",
       "      <th>col2</th>\n",
       "      <th>col3</th>\n",
       "      <th>col4</th>\n",
       "    </tr>\n",
       "  </thead>\n",
       "  <tbody>\n",
       "    <tr>\n",
       "      <th>A</th>\n",
       "      <td>-650_000</td>\n",
       "      <td>64_968_995</td>\n",
       "      <td>KA</td>\n",
       "      <td>45_500</td>\n",
       "    </tr>\n",
       "    <tr>\n",
       "      <th>B</th>\n",
       "      <td>-660_000</td>\n",
       "      <td>65_968_518</td>\n",
       "      <td>LB</td>\n",
       "      <td>46_200</td>\n",
       "    </tr>\n",
       "    <tr>\n",
       "      <th>C</th>\n",
       "      <td>-670_000</td>\n",
       "      <td>66_968_041</td>\n",
       "      <td>MC</td>\n",
       "      <td>46_900</td>\n",
       "    </tr>\n",
       "    <tr>\n",
       "      <th>D</th>\n",
       "      <td>-680_000</td>\n",
       "      <td>67_967_564</td>\n",
       "      <td>ND</td>\n",
       "      <td>47_600</td>\n",
       "    </tr>\n",
       "    <tr>\n",
       "      <th>E</th>\n",
       "      <td>-690_000</td>\n",
       "      <td>68_967_087</td>\n",
       "      <td>OE</td>\n",
       "      <td>48_300</td>\n",
       "    </tr>\n",
       "    <tr>\n",
       "      <th>F</th>\n",
       "      <td>-700_000</td>\n",
       "      <td>69_966_610</td>\n",
       "      <td>PF</td>\n",
       "      <td>49_000</td>\n",
       "    </tr>\n",
       "  </tbody>\n",
       "</table>\n",
       "</div>"
      ],
      "text/plain": [
       "       col1        col2 col3    col4\n",
       "A  -650_000  64_968_995   KA  45_500\n",
       "B  -660_000  65_968_518   LB  46_200\n",
       "C  -670_000  66_968_041   MC  46_900\n",
       "D  -680_000  67_967_564   ND  47_600\n",
       "E  -690_000  68_967_087   OE  48_300\n",
       "F  -700_000  69_966_610   PF  49_000"
      ]
     },
     "execution_count": 57,
     "metadata": {},
     "output_type": "execute_result"
    }
   ],
   "source": [
    "df.map(lambda x: jm_rp.fmt_nums(x, decimals=0, miles='_'))"
   ]
  },
  {
   "cell_type": "code",
   "execution_count": 58,
   "id": "d422e84e",
   "metadata": {},
   "outputs": [],
   "source": [
    "jm_rp.fmt_nums(df['col2'])"
   ]
  },
  {
   "cell_type": "code",
   "execution_count": 65,
   "id": "7e893896",
   "metadata": {},
   "outputs": [
    {
     "data": {
      "text/html": [
       "<div>\n",
       "<style scoped>\n",
       "    .dataframe tbody tr th:only-of-type {\n",
       "        vertical-align: middle;\n",
       "    }\n",
       "\n",
       "    .dataframe tbody tr th {\n",
       "        vertical-align: top;\n",
       "    }\n",
       "\n",
       "    .dataframe thead th {\n",
       "        text-align: right;\n",
       "    }\n",
       "</style>\n",
       "<table border=\"1\" class=\"dataframe\">\n",
       "  <thead>\n",
       "    <tr style=\"text-align: right;\">\n",
       "      <th></th>\n",
       "      <th>col3</th>\n",
       "    </tr>\n",
       "  </thead>\n",
       "  <tbody>\n",
       "    <tr>\n",
       "      <th>Non-null Count</th>\n",
       "      <td>6</td>\n",
       "    </tr>\n",
       "    <tr>\n",
       "      <th>Null Count</th>\n",
       "      <td>0</td>\n",
       "    </tr>\n",
       "    <tr>\n",
       "      <th>Total Count</th>\n",
       "      <td>6</td>\n",
       "    </tr>\n",
       "    <tr>\n",
       "      <th>Unique Count</th>\n",
       "      <td>6</td>\n",
       "    </tr>\n",
       "    <tr>\n",
       "      <th>Top (mode)</th>\n",
       "      <td>KA, LB, MC, ND, OE, PF</td>\n",
       "    </tr>\n",
       "    <tr>\n",
       "      <th>Freq. mode</th>\n",
       "      <td>1</td>\n",
       "    </tr>\n",
       "  </tbody>\n",
       "</table>\n",
       "</div>"
      ],
      "text/plain": [
       "                                  col3\n",
       "Non-null Count                       6\n",
       "Null Count                           0\n",
       "Total Count                          6\n",
       "Unique Count                         6\n",
       "Top (mode)      KA, LB, MC, ND, OE, PF\n",
       "Freq. mode                           1"
      ]
     },
     "execution_count": 65,
     "metadata": {},
     "output_type": "execute_result"
    }
   ],
   "source": [
    "jm_pd.describeplus(df['col3'], miles='_')"
   ]
  },
  {
   "cell_type": "markdown",
   "id": "933f7d2f",
   "metadata": {},
   "source": [
    "## prt_state(state='info', msg='Default message', color='white', mark='?'):"
   ]
  },
  {
   "cell_type": "code",
   "execution_count": 3,
   "id": "6d8c7b04",
   "metadata": {},
   "outputs": [
    {
     "data": {
      "text/html": [
       "<pre style=\"white-space:pre;overflow-x:auto;line-height:normal;font-family:Menlo,'DejaVu Sans Mono',consolas,'Courier New',monospace\"><span style=\"color: #ffff00; text-decoration-color: #ffff00\">!</span><span style=\"color: #d7d700; text-decoration-color: #d7d700\"> [WARNING] &gt;</span><span style=\"color: #808000; text-decoration-color: #808000\"> Atención con los detalles de números </span>\n",
       "</pre>\n"
      ],
      "text/plain": [
       "\u001b[38;5;226m!\u001b[0m\u001b[38;5;184m [WARNING] >\u001b[0m\u001b[33m Atención con los detalles de números \u001b[0m\n"
      ]
     },
     "metadata": {},
     "output_type": "display_data"
    }
   ],
   "source": [
    "jm_rp.prt_state(state='warning', msg='Atención con los detalles de números')"
   ]
  },
  {
   "cell_type": "code",
   "execution_count": 4,
   "id": "e6d541c2",
   "metadata": {},
   "outputs": [
    {
     "data": {
      "text/plain": [
       "\"{'A': 650000, 'B': 660000, 'C': 670000, 'D': 680000, 'E': 690000, 'F': 700000, 'G': 710000}\""
      ]
     },
     "execution_count": 4,
     "metadata": {},
     "output_type": "execute_result"
    }
   ],
   "source": [
    "lst = [chr(i) for i in range(65, 72)]\n",
    "dic = {chr(i): i * 10_000 for i in range(65, 72)}\n",
    "str(dic)"
   ]
  },
  {
   "cell_type": "code",
   "execution_count": 5,
   "id": "a3283de5",
   "metadata": {},
   "outputs": [
    {
     "data": {
      "text/html": [
       "<pre style=\"white-space:pre;overflow-x:auto;line-height:normal;font-family:Menlo,'DejaVu Sans Mono',consolas,'Courier New',monospace\"><span style=\"color: #c0c0c0; text-decoration-color: #c0c0c0\">Es un msg con 1,000,087.12 temas en la mind</span>\n",
       "</pre>\n"
      ],
      "text/plain": [
       "\u001b[37mEs un msg con 1,000,087.12 temas en la mind\u001b[0m\n"
      ]
     },
     "metadata": {},
     "output_type": "display_data"
    }
   ],
   "source": [
    "jm_rp.prt_string(msg='Es un msg con 1000087.12345 temas en la mind', color='white', fmt_numbers=True)"
   ]
  },
  {
   "cell_type": "code",
   "execution_count": 6,
   "id": "83504553",
   "metadata": {},
   "outputs": [
    {
     "data": {
      "text/plain": [
       "'Casa'"
      ]
     },
     "execution_count": 6,
     "metadata": {},
     "output_type": "execute_result"
    }
   ],
   "source": [
    "'casa'.title()"
   ]
  },
  {
   "cell_type": "code",
   "execution_count": 7,
   "id": "0ac0b5ca",
   "metadata": {},
   "outputs": [
    {
     "data": {
      "text/html": [
       "<pre style=\"white-space:pre;overflow-x:auto;line-height:normal;font-family:Menlo,'DejaVu Sans Mono',consolas,'Courier New',monospace\"><span style=\"color: #008000; text-decoration-color: #008000\">Jul 06 22:38:05</span><span style=\"color: #c0c0c0; text-decoration-color: #c0c0c0\"> - </span><span style=\"color: #800080; text-decoration-color: #800080\">prg_1</span><span style=\"color: #c0c0c0; text-decoration-color: #c0c0c0\"> - Log: </span><span style=\"color: #808000; text-decoration-color: #808000\">archivo.log</span>\n",
       "<span style=\"color: #c0c0c0; text-decoration-color: #c0c0c0\">--------------------------------------------</span>\n",
       "<span style=\"color: #008080; text-decoration-color: #008080\"> Un Titulo Simple Algo Mas Largo Por Ahora</span>\n",
       "<span style=\"color: #c0c0c0; text-decoration-color: #c0c0c0\">--------------------------------------------</span>\n",
       "\n",
       "</pre>\n"
      ],
      "text/plain": [
       "\u001b[32mJul 06 22:38:05\u001b[0m\u001b[37m - \u001b[0m\u001b[35mprg_1\u001b[0m\u001b[37m - Log: \u001b[0m\u001b[33marchivo.log\u001b[0m\n",
       "\u001b[37m--------------------------------------------\u001b[0m\n",
       "\u001b[36m Un Titulo Simple Algo Mas Largo Por Ahora\u001b[0m\n",
       "\u001b[37m--------------------------------------------\u001b[0m\n",
       "\n"
      ]
     },
     "metadata": {},
     "output_type": "display_data"
    }
   ],
   "source": [
    "jm_rp.prt_prg_title(prg='prg_1', title='Un titulo simple algo mas largo por ahora', fmt_title=True, log='archivo.log' )"
   ]
  },
  {
   "cell_type": "code",
   "execution_count": null,
   "id": "b23405b7",
   "metadata": {},
   "outputs": [],
   "source": []
  },
  {
   "cell_type": "code",
   "execution_count": null,
   "id": "134c0fba",
   "metadata": {},
   "outputs": [],
   "source": []
  },
  {
   "cell_type": "code",
   "execution_count": 8,
   "id": "78071ee4",
   "metadata": {},
   "outputs": [
    {
     "name": "stdout",
     "output_type": "stream",
     "text": [
      "No debería cambiar NADA\n",
      "\n"
     ]
    },
    {
     "data": {
      "text/html": [
       "<pre style=\"white-space:pre;overflow-x:auto;line-height:normal;font-family:Menlo,'DejaVu Sans Mono',consolas,'Courier New',monospace\">casa <span style=\"color: #008080; text-decoration-color: #008080; font-weight: bold\">67</span> mesa\n",
       "</pre>\n"
      ],
      "text/plain": [
       "casa \u001b[1;36m67\u001b[0m mesa\n"
      ]
     },
     "metadata": {},
     "output_type": "display_data"
    }
   ],
   "source": [
    "from rich import print as rprint\n",
    "print(jm_rp.fmt_nums('No debería cambiar NADA\\n'))\n",
    "rprint('casa', 67, 'mesa')"
   ]
  },
  {
   "cell_type": "code",
   "execution_count": 9,
   "id": "53dfc0c3",
   "metadata": {},
   "outputs": [],
   "source": [
    "# from rich import pretty\n",
    "# pretty.install()\n",
    "# [\"Rich and pretty\", True]"
   ]
  },
  {
   "cell_type": "code",
   "execution_count": 10,
   "id": "7ba97b1d",
   "metadata": {},
   "outputs": [
    {
     "data": {
      "text/html": [
       "<pre style=\"white-space:pre;overflow-x:auto;line-height:normal;font-family:Menlo,'DejaVu Sans Mono',consolas,'Courier New',monospace\"><span style=\"color: #800000; text-decoration-color: #800000\">╭─────────────────╮</span>\n",
       "<span style=\"color: #800000; text-decoration-color: #800000\">│</span> <span style=\"color: #808000; text-decoration-color: #808000; font-weight: bold\">Hi, I'm a Panel</span> <span style=\"color: #800000; text-decoration-color: #800000\">│</span>\n",
       "<span style=\"color: #800000; text-decoration-color: #800000\">╰─────────────────╯</span>\n",
       "</pre>\n"
      ],
      "text/plain": [
       "\u001b[31m╭─────────────────╮\u001b[0m\n",
       "\u001b[31m│\u001b[0m \u001b[1;33mHi, I'm a Panel\u001b[0m \u001b[31m│\u001b[0m\n",
       "\u001b[31m╰─────────────────╯\u001b[0m\n"
      ]
     },
     "execution_count": 10,
     "metadata": {},
     "output_type": "execute_result"
    }
   ],
   "source": [
    "from rich.panel import Panel\n",
    "Panel.fit(\"[bold yellow]Hi, I'm a Panel\", border_style=\"red\")"
   ]
  },
  {
   "cell_type": "code",
   "execution_count": 11,
   "id": "e39e7a64",
   "metadata": {},
   "outputs": [
    {
     "data": {
      "text/html": [
       "<pre style=\"white-space:pre;overflow-x:auto;line-height:normal;font-family:Menlo,'DejaVu Sans Mono',consolas,'Courier New',monospace\"><span style=\"color: #008080; text-decoration-color: #008080\">╭───────────────────────────────────────────────── 🔧 Panel Rich ─────────────────────────────────────────────────╮</span>\n",
       "<span style=\"color: #008080; text-decoration-color: #008080\">│</span> <span style=\"color: #800080; text-decoration-color: #800080; font-weight: bold\">¡Hola, Jorge!</span>                                                                                                   <span style=\"color: #008080; text-decoration-color: #008080\">│</span>\n",
       "<span style=\"color: #008080; text-decoration-color: #008080\">│</span> Este es un panel personalizado.                                                                                 <span style=\"color: #008080; text-decoration-color: #008080\">│</span>\n",
       "<span style=\"color: #008080; text-decoration-color: #008080\">╰───────────────────────────────────────────── Con colores y estilo ──────────────────────────────────────────────╯</span>\n",
       "</pre>\n"
      ],
      "text/plain": [
       "\u001b[36m╭─\u001b[0m\u001b[36m────────────────────────────────────────────────\u001b[0m\u001b[36m 🔧 Panel Rich \u001b[0m\u001b[36m────────────────────────────────────────────────\u001b[0m\u001b[36m─╮\u001b[0m\n",
       "\u001b[36m│\u001b[0m \u001b[1;35m¡Hola, Jorge!\u001b[0m                                                                                                   \u001b[36m│\u001b[0m\n",
       "\u001b[36m│\u001b[0m Este es un panel personalizado.                                                                                 \u001b[36m│\u001b[0m\n",
       "\u001b[36m╰─\u001b[0m\u001b[36m────────────────────────────────────────────\u001b[0m\u001b[36m Con colores y estilo \u001b[0m\u001b[36m─────────────────────────────────────────────\u001b[0m\u001b[36m─╯\u001b[0m\n"
      ]
     },
     "metadata": {},
     "output_type": "display_data"
    }
   ],
   "source": [
    "from rich.console import Console\n",
    "from rich.panel import Panel\n",
    "\n",
    "console = Console()\n",
    "panel = Panel(\n",
    "    \"[bold magenta]¡Hola, Jorge![/bold magenta]\\nEste es un panel personalizado.\",\n",
    "    title=\"🔧 Panel Rich\",\n",
    "    subtitle=\"Con colores y estilo\",\n",
    "    border_style=\"cyan\"\n",
    ")\n",
    "\n",
    "console.print(panel)\n"
   ]
  },
  {
   "cell_type": "code",
   "execution_count": 12,
   "id": "3eba1e54",
   "metadata": {},
   "outputs": [
    {
     "data": {
      "text/html": [
       "<pre style=\"white-space:pre;overflow-x:auto;line-height:normal;font-family:Menlo,'DejaVu Sans Mono',consolas,'Courier New',monospace\"><span style=\"color: #008000; text-decoration-color: #008000; font-weight: bold\">    📊 Parámetros del Sistema     </span>\n",
       "┏━━━━━━━━━━━━━━━━━━━┳━━━━━━━━━━━━┓\n",
       "┃<span style=\"font-weight: bold\"> Nombre            </span>┃<span style=\"font-weight: bold\">      Valor </span>┃\n",
       "┡━━━━━━━━━━━━━━━━━━━╇━━━━━━━━━━━━┩\n",
       "│<span style=\"color: #808000; text-decoration-color: #808000\"> Sistema operativo </span>│<span style=\"font-weight: bold\"> Windows 10 </span>│\n",
       "│<span style=\"color: #808000; text-decoration-color: #808000\"> RAM disponible    </span>│<span style=\"font-weight: bold\">      16 GB </span>│\n",
       "│<span style=\"color: #808000; text-decoration-color: #808000\"> Usuario           </span>│<span style=\"font-weight: bold\">      Jorge </span>│\n",
       "└───────────────────┴────────────┘\n",
       "</pre>\n"
      ],
      "text/plain": [
       "\u001b[1;32m    📊 Parámetros del Sistema     \u001b[0m\n",
       "┏━━━━━━━━━━━━━━━━━━━┳━━━━━━━━━━━━┓\n",
       "┃\u001b[1m \u001b[0m\u001b[1mNombre           \u001b[0m\u001b[1m \u001b[0m┃\u001b[1m \u001b[0m\u001b[1m     Valor\u001b[0m\u001b[1m \u001b[0m┃\n",
       "┡━━━━━━━━━━━━━━━━━━━╇━━━━━━━━━━━━┩\n",
       "│\u001b[33m \u001b[0m\u001b[33mSistema operativo\u001b[0m\u001b[33m \u001b[0m│\u001b[1m \u001b[0m\u001b[1mWindows 10\u001b[0m\u001b[1m \u001b[0m│\n",
       "│\u001b[33m \u001b[0m\u001b[33mRAM disponible   \u001b[0m\u001b[33m \u001b[0m│\u001b[1m \u001b[0m\u001b[1m     16 GB\u001b[0m\u001b[1m \u001b[0m│\n",
       "│\u001b[33m \u001b[0m\u001b[33mUsuario          \u001b[0m\u001b[33m \u001b[0m│\u001b[1m \u001b[0m\u001b[1m     Jorge\u001b[0m\u001b[1m \u001b[0m│\n",
       "└───────────────────┴────────────┘\n"
      ]
     },
     "metadata": {},
     "output_type": "display_data"
    }
   ],
   "source": [
    "from rich.console import Console\n",
    "from rich.table import Table\n",
    "\n",
    "console = Console()\n",
    "table = Table(title=\"📊 Parámetros del Sistema\", title_style=\"bold green\")\n",
    "\n",
    "table.add_column(\"Nombre\", justify=\"left\", style=\"yellow\")\n",
    "table.add_column(\"Valor\", justify=\"right\", style=\"bold\")\n",
    "\n",
    "table.add_row(\"Sistema operativo\", \"Windows 10\")\n",
    "table.add_row(\"RAM disponible\", \"16 GB\")\n",
    "table.add_row(\"Usuario\", \"Jorge\")\n",
    "\n",
    "console.print(table)\n"
   ]
  },
  {
   "cell_type": "code",
   "execution_count": 13,
   "id": "f85a71fa",
   "metadata": {},
   "outputs": [
    {
     "data": {
      "text/html": [
       "<pre style=\"white-space:pre;overflow-x:auto;line-height:normal;font-family:Menlo,'DejaVu Sans Mono',consolas,'Courier New',monospace\">Estado del proceso: <span style=\"color: #800000; text-decoration-color: #800000; background-color: #000000; font-weight: bold\">EXCEPCIÓN DETECTADA</span><span style=\"color: #808000; text-decoration-color: #808000; font-style: italic\"> → Se recomienda revisar logs</span>\n",
       "</pre>\n"
      ],
      "text/plain": [
       "Estado del proceso: \u001b[1;31;40mEXCEPCIÓN DETECTADA\u001b[0m\u001b[3;33m → Se recomienda revisar logs\u001b[0m\n"
      ]
     },
     "metadata": {},
     "output_type": "display_data"
    }
   ],
   "source": [
    "from rich.console import Console\n",
    "from rich.text import Text\n",
    "\n",
    "console = Console()\n",
    "text = Text(\"Estado del proceso: \")\n",
    "text.append(\"EXCEPCIÓN DETECTADA\", style=\"bold red on black\")\n",
    "text.append(\" → Se recomienda revisar logs\", style=\"italic yellow\")\n",
    "\n",
    "console.print(text)\n"
   ]
  },
  {
   "cell_type": "markdown",
   "id": "b90e8dc7",
   "metadata": {},
   "source": [
    "## Rich especial Functions"
   ]
  },
  {
   "cell_type": "code",
   "execution_count": 14,
   "id": "3b23bc53",
   "metadata": {},
   "outputs": [
    {
     "data": {
      "text/html": [
       "<pre style=\"white-space:pre;overflow-x:auto;line-height:normal;font-family:Menlo,'DejaVu Sans Mono',consolas,'Courier New',monospace\"><span style=\"color: #800000; text-decoration-color: #800000\">╭─────────────────────────────────────────────────── 🚨 Alerta ───────────────────────────────────────────────────╮</span>\n",
       "<span style=\"color: #800000; text-decoration-color: #800000\">│</span> Se detectó una anomalía en el sistema                                                                           <span style=\"color: #800000; text-decoration-color: #800000\">│</span>\n",
       "<span style=\"color: #800000; text-decoration-color: #800000\">╰─────────────────────────────────────────────────────────────────────────────────────────────────────────────────╯</span>\n",
       "</pre>\n"
      ],
      "text/plain": [
       "\u001b[31m╭─\u001b[0m\u001b[31m──────────────────────────────────────────────────\u001b[0m\u001b[31m 🚨 Alerta \u001b[0m\u001b[31m──────────────────────────────────────────────────\u001b[0m\u001b[31m─╮\u001b[0m\n",
       "\u001b[31m│\u001b[0m Se detectó una anomalía en el sistema                                                                           \u001b[31m│\u001b[0m\n",
       "\u001b[31m╰─────────────────────────────────────────────────────────────────────────────────────────────────────────────────╯\u001b[0m\n"
      ]
     },
     "metadata": {},
     "output_type": "display_data"
    },
    {
     "data": {
      "text/html": [
       "<pre style=\"white-space:pre;overflow-x:auto;line-height:normal;font-family:Menlo,'DejaVu Sans Mono',consolas,'Courier New',monospace\"><span style=\"color: #008000; text-decoration-color: #008000\">╭──────────────────────────────────────────────────── ℹ️ Info ─────────────────────────────────────────────────────╮</span>\n",
       "<span style=\"color: #008000; text-decoration-color: #008000\">│</span> El proceso finalizó correctamente                                                                               <span style=\"color: #008000; text-decoration-color: #008000\">│</span>\n",
       "<span style=\"color: #008000; text-decoration-color: #008000\">╰─────────────────────────────────────────────────────────────────────────────────────────────────────────────────╯</span>\n",
       "</pre>\n"
      ],
      "text/plain": [
       "\u001b[32m╭─\u001b[0m\u001b[32m───────────────────────────────────────────────────\u001b[0m\u001b[32m ℹ️ Info \u001b[0m\u001b[32m────────────────────────────────────────────────────\u001b[0m\u001b[32m─╮\u001b[0m\n",
       "\u001b[32m│\u001b[0m El proceso finalizó correctamente                                                                               \u001b[32m│\u001b[0m\n",
       "\u001b[32m╰─────────────────────────────────────────────────────────────────────────────────────────────────────────────────╯\u001b[0m\n"
      ]
     },
     "metadata": {},
     "output_type": "display_data"
    }
   ],
   "source": [
    "from rich.console import Console\n",
    "from rich.panel import Panel\n",
    "\n",
    "def mostrar_mensaje(titulo: str, contenido: str, color: str = \"green\"):\n",
    "    console = Console()\n",
    "    panel = Panel(\n",
    "        contenido,\n",
    "        title=titulo,\n",
    "        border_style=color\n",
    "    )\n",
    "    console.print(panel)\n",
    "\n",
    "# Ejemplo de uso\n",
    "mostrar_mensaje(\"🚨 Alerta\", \"Se detectó una anomalía en el sistema\", \"red\")\n",
    "mostrar_mensaje(\"ℹ️ Info\", \"El proceso finalizó correctamente\", \"green\")"
   ]
  },
  {
   "cell_type": "code",
   "execution_count": 15,
   "id": "f679b249",
   "metadata": {},
   "outputs": [
    {
     "data": {
      "text/html": [
       "<pre style=\"white-space:pre;overflow-x:auto;line-height:normal;font-family:Menlo,'DejaVu Sans Mono',consolas,'Courier New',monospace\"><span style=\"color: #000080; text-decoration-color: #000080; font-weight: bold\">      📄 Datos       </span>\n",
       "┏━━━━━━━━━┳━━━━━━━━━┓\n",
       "┃<span style=\"font-weight: bold\"> Clave   </span>┃<span style=\"font-weight: bold\">   Valor </span>┃\n",
       "┡━━━━━━━━━╇━━━━━━━━━┩\n",
       "│<span style=\"color: #008080; text-decoration-color: #008080\"> OS      </span>│<span style=\"color: #800080; text-decoration-color: #800080\"> Windows </span>│\n",
       "│<span style=\"color: #008080; text-decoration-color: #008080\"> RAM     </span>│<span style=\"color: #800080; text-decoration-color: #800080\">   32 GB </span>│\n",
       "│<span style=\"color: #008080; text-decoration-color: #008080\"> Usuario </span>│<span style=\"color: #800080; text-decoration-color: #800080\">   Jorge </span>│\n",
       "│<span style=\"color: #008080; text-decoration-color: #008080\"> Estado  </span>│<span style=\"color: #800080; text-decoration-color: #800080\">      OK </span>│\n",
       "└─────────┴─────────┘\n",
       "</pre>\n"
      ],
      "text/plain": [
       "\u001b[1;34m      📄 Datos       \u001b[0m\n",
       "┏━━━━━━━━━┳━━━━━━━━━┓\n",
       "┃\u001b[1m \u001b[0m\u001b[1mClave  \u001b[0m\u001b[1m \u001b[0m┃\u001b[1m \u001b[0m\u001b[1m  Valor\u001b[0m\u001b[1m \u001b[0m┃\n",
       "┡━━━━━━━━━╇━━━━━━━━━┩\n",
       "│\u001b[36m \u001b[0m\u001b[36mOS     \u001b[0m\u001b[36m \u001b[0m│\u001b[35m \u001b[0m\u001b[35mWindows\u001b[0m\u001b[35m \u001b[0m│\n",
       "│\u001b[36m \u001b[0m\u001b[36mRAM    \u001b[0m\u001b[36m \u001b[0m│\u001b[35m \u001b[0m\u001b[35m  32 GB\u001b[0m\u001b[35m \u001b[0m│\n",
       "│\u001b[36m \u001b[0m\u001b[36mUsuario\u001b[0m\u001b[36m \u001b[0m│\u001b[35m \u001b[0m\u001b[35m  Jorge\u001b[0m\u001b[35m \u001b[0m│\n",
       "│\u001b[36m \u001b[0m\u001b[36mEstado \u001b[0m\u001b[36m \u001b[0m│\u001b[35m \u001b[0m\u001b[35m     OK\u001b[0m\u001b[35m \u001b[0m│\n",
       "└─────────┴─────────┘\n"
      ]
     },
     "metadata": {},
     "output_type": "display_data"
    }
   ],
   "source": [
    "from rich.console import Console\n",
    "from rich.table import Table\n",
    "\n",
    "def mostrar_tabla(datos: dict, titulo: str = \"📄 Datos\", estilo_titulo: str = \"bold blue\"):\n",
    "    console = Console()\n",
    "    table = Table(title=titulo, title_style=estilo_titulo)\n",
    "    \n",
    "    table.add_column(\"Clave\", style=\"cyan\", justify=\"left\")\n",
    "    table.add_column(\"Valor\", style=\"magenta\", justify=\"right\")\n",
    "    \n",
    "    for clave, valor in datos.items():\n",
    "        table.add_row(str(clave), str(valor))\n",
    "    \n",
    "    console.print(table)\n",
    "\n",
    "# Ejemplo de uso\n",
    "info_sistema = {\n",
    "    \"OS\": \"Windows\",\n",
    "    \"RAM\": \"32 GB\",\n",
    "    \"Usuario\": \"Jorge\",\n",
    "    \"Estado\": \"OK\"\n",
    "}\n",
    "\n",
    "mostrar_tabla(info_sistema)\n"
   ]
  },
  {
   "cell_type": "code",
   "execution_count": 16,
   "id": "c0e02522",
   "metadata": {},
   "outputs": [
    {
     "data": {
      "text/html": [
       "<pre style=\"white-space:pre;overflow-x:auto;line-height:normal;font-family:Menlo,'DejaVu Sans Mono',consolas,'Courier New',monospace\">Verificación: <span style=\"color: #008000; text-decoration-color: #008000\">OK</span>\n",
       "</pre>\n"
      ],
      "text/plain": [
       "Verificación: \u001b[32mOK\u001b[0m\n"
      ]
     },
     "metadata": {},
     "output_type": "display_data"
    },
    {
     "data": {
      "text/html": [
       "<pre style=\"white-space:pre;overflow-x:auto;line-height:normal;font-family:Menlo,'DejaVu Sans Mono',consolas,'Courier New',monospace\">Conexión: <span style=\"color: #800000; text-decoration-color: #800000; font-weight: bold\">ERROR</span>\n",
       "</pre>\n"
      ],
      "text/plain": [
       "Conexión: \u001b[1;31mERROR\u001b[0m\n"
      ]
     },
     "metadata": {},
     "output_type": "display_data"
    }
   ],
   "source": [
    "from rich.console import Console\n",
    "from rich.text import Text\n",
    "\n",
    "def estado_proceso(mensaje: str, estado: str):\n",
    "    console = Console()\n",
    "    text = Text(mensaje + \": \")\n",
    "    \n",
    "    colores = {\n",
    "        \"ok\": \"green\",\n",
    "        \"warning\": \"yellow\",\n",
    "        \"error\": \"bold red\"\n",
    "    }\n",
    "    \n",
    "    estilo = colores.get(estado.lower(), \"white\")\n",
    "    text.append(estado.upper(), style=estilo)\n",
    "    console.print(text)\n",
    "\n",
    "# Ejemplo\n",
    "estado_proceso(\"Verificación\", \"ok\")\n",
    "estado_proceso(\"Conexión\", \"error\")\n"
   ]
  },
  {
   "cell_type": "code",
   "execution_count": 17,
   "id": "c2d03129",
   "metadata": {},
   "outputs": [
    {
     "data": {
      "text/html": [
       "<pre style=\"white-space:pre;overflow-x:auto;line-height:normal;font-family:Menlo,'DejaVu Sans Mono',consolas,'Courier New',monospace\"><span style=\"color: #ff0000; text-decoration-color: #ff0000\">X</span><span style=\"color: #d70000; text-decoration-color: #d70000\"> [ERROR] &gt;</span><span style=\"color: #800000; text-decoration-color: #800000\"> Default message </span>\n",
       "</pre>\n"
      ],
      "text/plain": [
       "\u001b[38;5;196mX\u001b[0m\u001b[38;5;160m [ERROR] >\u001b[0m\u001b[31m Default message \u001b[0m\n"
      ]
     },
     "metadata": {},
     "output_type": "display_data"
    },
    {
     "data": {
      "text/html": [
       "<pre style=\"white-space:pre;overflow-x:auto;line-height:normal;font-family:Menlo,'DejaVu Sans Mono',consolas,'Courier New',monospace\"><span style=\"color: #ffff00; text-decoration-color: #ffff00\">!</span><span style=\"color: #d7d700; text-decoration-color: #d7d700\"> [WARNING] &gt;</span><span style=\"color: #808000; text-decoration-color: #808000\"> Default message </span>\n",
       "</pre>\n"
      ],
      "text/plain": [
       "\u001b[38;5;226m!\u001b[0m\u001b[38;5;184m [WARNING] >\u001b[0m\u001b[33m Default message \u001b[0m\n"
      ]
     },
     "metadata": {},
     "output_type": "display_data"
    },
    {
     "data": {
      "text/html": [
       "<pre style=\"white-space:pre;overflow-x:auto;line-height:normal;font-family:Menlo,'DejaVu Sans Mono',consolas,'Courier New',monospace\"><span style=\"color: #0087ff; text-decoration-color: #0087ff\">i</span><span style=\"color: #005fd7; text-decoration-color: #005fd7\"> [INFO] &gt;</span><span style=\"color: #000080; text-decoration-color: #000080\"> Default message </span>\n",
       "</pre>\n"
      ],
      "text/plain": [
       "\u001b[38;5;33mi\u001b[0m\u001b[38;5;26m [INFO] >\u001b[0m\u001b[34m Default message \u001b[0m\n"
      ]
     },
     "metadata": {},
     "output_type": "display_data"
    },
    {
     "data": {
      "text/html": [
       "<pre style=\"white-space:pre;overflow-x:auto;line-height:normal;font-family:Menlo,'DejaVu Sans Mono',consolas,'Courier New',monospace\"><span style=\"color: #00ff87; text-decoration-color: #00ff87\">#</span><span style=\"color: #00d75f; text-decoration-color: #00d75f\"> [OK] &gt;</span><span style=\"color: #008000; text-decoration-color: #008000\"> Default message </span>\n",
       "</pre>\n"
      ],
      "text/plain": [
       "\u001b[38;5;48m#\u001b[0m\u001b[38;5;41m [OK] >\u001b[0m\u001b[32m Default message \u001b[0m\n"
      ]
     },
     "metadata": {},
     "output_type": "display_data"
    },
    {
     "data": {
      "text/html": [
       "<pre style=\"white-space:pre;overflow-x:auto;line-height:normal;font-family:Menlo,'DejaVu Sans Mono',consolas,'Courier New',monospace\"><span style=\"color: #c0c0c0; text-decoration-color: #c0c0c0\">? [PAPA] &gt; Default message </span>\n",
       "</pre>\n"
      ],
      "text/plain": [
       "\u001b[37m?\u001b[0m\u001b[37m [PAPA] >\u001b[0m\u001b[37m Default message \u001b[0m\n"
      ]
     },
     "metadata": {},
     "output_type": "display_data"
    }
   ],
   "source": [
    "def prt_state(state='info', msg='Default message', color='white', mark='?'):\n",
    "\n",
    "    mark_colors = {\n",
    "        'info': ['i', 'dodger_blue1', 'dodger_blue3', 'blue'],\n",
    "        'ok': ['#', 'spring_green1', 'spring_green3', 'green'],\n",
    "        'warning': ['!', 'yellow1', 'yellow3', 'yellow'],\n",
    "        'error': ['X', 'red1', 'red3', 'red']\n",
    "    }\n",
    "\n",
    "    default = [mark, color, color, color]\n",
    "\n",
    "    txt = Text(mark_colors.get(state, default)[0], style=mark_colors.get(state, default)[1])\n",
    "    txt.append(f\" [{state.upper()}] >\", style=mark_colors.get(state, default)[2])\n",
    "    txt.append(f\" {msg} \", style=mark_colors.get(state, default)[3])\n",
    "\n",
    "    console.print(txt)\n",
    "\n",
    "prt_state(state='error')\n",
    "prt_state(state='warning')\n",
    "prt_state()\n",
    "prt_state(state='ok')\n",
    "prt_state(state='papa')"
   ]
  },
  {
   "cell_type": "code",
   "execution_count": 18,
   "id": "4ce60698",
   "metadata": {},
   "outputs": [
    {
     "data": {
      "text/html": [
       "<pre style=\"white-space:pre;overflow-x:auto;line-height:normal;font-family:Menlo,'DejaVu Sans Mono',consolas,'Courier New',monospace\"><span style=\"color: #0087ff; text-decoration-color: #0087ff\">i</span><span style=\"color: #005fd7; text-decoration-color: #005fd7\"> [INFO] &gt;</span><span style=\"color: #000080; text-decoration-color: #000080\"> Este es un mensaje de __info__ </span>\n",
       "</pre>\n"
      ],
      "text/plain": [
       "\u001b[38;5;33mi\u001b[0m\u001b[38;5;26m [INFO] >\u001b[0m\u001b[34m Este es un mensaje de __info__ \u001b[0m\n"
      ]
     },
     "metadata": {},
     "output_type": "display_data"
    },
    {
     "data": {
      "text/html": [
       "<pre style=\"white-space:pre;overflow-x:auto;line-height:normal;font-family:Menlo,'DejaVu Sans Mono',consolas,'Courier New',monospace\"><span style=\"color: #00ff5f; text-decoration-color: #00ff5f\"># [OK] &gt;</span><span style=\"color: #008000; text-decoration-color: #008000\"> Este es un mensaje de __ok__ </span>\n",
       "</pre>\n"
      ],
      "text/plain": [
       "\u001b[38;5;47m#\u001b[0m\u001b[38;5;47m [OK] >\u001b[0m\u001b[32m Este es un mensaje de __ok__ \u001b[0m\n"
      ]
     },
     "metadata": {},
     "output_type": "display_data"
    },
    {
     "data": {
      "text/html": [
       "<pre style=\"white-space:pre;overflow-x:auto;line-height:normal;font-family:Menlo,'DejaVu Sans Mono',consolas,'Courier New',monospace\"><span style=\"color: #ffff00; text-decoration-color: #ffff00\">!</span><span style=\"color: #d7d700; text-decoration-color: #d7d700\"> [WARNING] &gt;</span><span style=\"color: #808000; text-decoration-color: #808000\"> Este es un mensaje de __warning__ </span>\n",
       "</pre>\n"
      ],
      "text/plain": [
       "\u001b[38;5;226m!\u001b[0m\u001b[38;5;184m [WARNING] >\u001b[0m\u001b[33m Este es un mensaje de __warning__ \u001b[0m\n"
      ]
     },
     "metadata": {},
     "output_type": "display_data"
    },
    {
     "data": {
      "text/html": [
       "<pre style=\"white-space:pre;overflow-x:auto;line-height:normal;font-family:Menlo,'DejaVu Sans Mono',consolas,'Courier New',monospace\"><span style=\"color: #ff0000; text-decoration-color: #ff0000\">X [ERROR] &gt;</span><span style=\"color: #800000; text-decoration-color: #800000\"> Este es un mensaje de __error__ </span>\n",
       "</pre>\n"
      ],
      "text/plain": [
       "\u001b[38;5;196mX\u001b[0m\u001b[38;5;196m [ERROR] >\u001b[0m\u001b[31m Este es un mensaje de __error__ \u001b[0m\n"
      ]
     },
     "metadata": {},
     "output_type": "display_data"
    }
   ],
   "source": [
    "console = Console()\n",
    "\n",
    "def prt_state(state='info', msg='Default message', color='white', mark='?'):\n",
    "\n",
    "    mark_colors = {\n",
    "        'info': ['i', 'dodger_blue1', 'dodger_blue3', 'blue'],\n",
    "        'ok': ['#', 'spring_green2', 'spring_green2', 'green'],\n",
    "        'warning': ['!', 'yellow1', 'yellow3', 'yellow'],\n",
    "        'error': ['X', 'red1', 'red2', 'red']\n",
    "    }\n",
    "\n",
    "    default = [mark, color, color, color]\n",
    "\n",
    "    txt = Text(mark_colors.get(state, default)[0], style=mark_colors.get(state, default)[1])\n",
    "    txt.append(f\" [{state.upper()}] >\", style=mark_colors.get(state, default)[2])\n",
    "    txt.append(f\" {msg} \", style=mark_colors.get(state, default)[3])\n",
    "\n",
    "    console.print(txt)\n",
    "\n",
    "\n",
    "if __name__ == '__main__':\n",
    "    \n",
    "    for state in ('info', 'ok', 'warning', 'error'):\n",
    "        msg = f\"Este es un mensaje de __{state}__\"\n",
    "        prt_state(state=state, msg=msg)"
   ]
  },
  {
   "cell_type": "code",
   "execution_count": null,
   "id": "cc772f7a",
   "metadata": {},
   "outputs": [],
   "source": []
  },
  {
   "cell_type": "code",
   "execution_count": 19,
   "id": "0c2f9c6e",
   "metadata": {},
   "outputs": [
    {
     "data": {
      "text/plain": [
       "'white'"
      ]
     },
     "execution_count": 19,
     "metadata": {},
     "output_type": "execute_result"
    }
   ],
   "source": [
    "col_0__mark_1 = {\n",
    "    'info': ['blue', 'i'],\n",
    "    'ok': ['green', '#'],\n",
    "    'Warning': ['yellow', '!'],\n",
    "    'error': ['red', 'X']\n",
    "}\n",
    "\n",
    "col_0__mark_1.get('info', ['white', '&&'])[0]\n",
    "col_0__mark_1.get('papa', ['white', '&&'])[0]"
   ]
  },
  {
   "cell_type": "code",
   "execution_count": null,
   "id": "dea98b58",
   "metadata": {},
   "outputs": [],
   "source": []
  },
  {
   "cell_type": "code",
   "execution_count": 20,
   "id": "fa651e71",
   "metadata": {},
   "outputs": [
    {
     "name": "stdout",
     "output_type": "stream",
     "text": [
      "green\n",
      "magenta\n",
      "{'ok': 'green', 'warning': 'yellow', 'error': 'bold red'}\n"
     ]
    }
   ],
   "source": [
    "colors = {\n",
    "    \"ok\": \"green\",\n",
    "    \"warning\": \"yellow\",\n",
    "    \"error\": \"bold red\"\n",
    "}\n",
    "\n",
    "print(colors.get('ok'))\n",
    "print(colors.get('info', 'magenta'))\n",
    "print(colors)"
   ]
  },
  {
   "cell_type": "code",
   "execution_count": 21,
   "id": "68e34270",
   "metadata": {},
   "outputs": [
    {
     "data": {
      "text/html": [
       "<pre style=\"white-space:pre;overflow-x:auto;line-height:normal;font-family:Menlo,'DejaVu Sans Mono',consolas,'Courier New',monospace\"><span style=\"color: #800080; text-decoration-color: #800080; font-weight: bold\">Hello</span> World!\n",
       "</pre>\n"
      ],
      "text/plain": [
       "\u001b[1;35mHello\u001b[0m World!\n"
      ]
     },
     "metadata": {},
     "output_type": "display_data"
    }
   ],
   "source": [
    "from rich.console import Console\n",
    "from rich.text import Text\n",
    "\n",
    "console = Console()\n",
    "# text = Text(\"Hello, World!\")\n",
    "# text.stylize(\"bold magenta\", 0, 6)\n",
    "# console.print(text)\n",
    "\n",
    "text = Text()\n",
    "text.append(\"Hello\", style=\"bold magenta\")\n",
    "text.append(\" World!\")\n",
    "console.print(text)"
   ]
  },
  {
   "cell_type": "code",
   "execution_count": null,
   "id": "07cdc510",
   "metadata": {},
   "outputs": [],
   "source": []
  },
  {
   "cell_type": "code",
   "execution_count": null,
   "id": "00b91fbe",
   "metadata": {},
   "outputs": [],
   "source": []
  },
  {
   "cell_type": "code",
   "execution_count": null,
   "id": "303393c4",
   "metadata": {},
   "outputs": [],
   "source": []
  },
  {
   "cell_type": "code",
   "execution_count": null,
   "id": "f6ae1495",
   "metadata": {},
   "outputs": [],
   "source": []
  },
  {
   "cell_type": "code",
   "execution_count": null,
   "id": "d1547375",
   "metadata": {},
   "outputs": [],
   "source": []
  },
  {
   "cell_type": "code",
   "execution_count": null,
   "id": "3d97b3b6",
   "metadata": {},
   "outputs": [],
   "source": []
  }
 ],
 "metadata": {
  "kernelspec": {
   "display_name": "Python 3",
   "language": "python",
   "name": "python3"
  },
  "language_info": {
   "codemirror_mode": {
    "name": "ipython",
    "version": 3
   },
   "file_extension": ".py",
   "mimetype": "text/x-python",
   "name": "python",
   "nbconvert_exporter": "python",
   "pygments_lexer": "ipython3",
   "version": "3.13.5"
  }
 },
 "nbformat": 4,
 "nbformat_minor": 5
}
