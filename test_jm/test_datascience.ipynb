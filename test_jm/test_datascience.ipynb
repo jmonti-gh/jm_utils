{
 "cells": [
  {
   "cell_type": "markdown",
   "id": "f10d5ba8",
   "metadata": {},
   "source": [
    "# jm_pandas test"
   ]
  },
  {
   "cell_type": "code",
   "execution_count": 1,
   "id": "38fb7b78",
   "metadata": {},
   "outputs": [],
   "source": [
    "## Standard Libs\n",
    "from typing import Union, Optional, Tuple, Dict, Any\n",
    "import warnings\n",
    "import random\n",
    "\n",
    "# Third-Party Libs\n",
    "import numpy as np\n",
    "import pandas as pd\n",
    "import matplotlib.pyplot as plt\n",
    "from rich.console import Console\n",
    "from rich.text import Text\n",
    "from rich.panel import Panel\n",
    "\n",
    "# Local Libs\n",
    "from jm_datascience import jm_pandas as jm_pd\n",
    "from jm_datascience import jm_pdaccessor"
   ]
  },
  {
   "cell_type": "markdown",
   "id": "e3282540",
   "metadata": {},
   "source": [
    "## Some Series and DFs"
   ]
  },
  {
   "cell_type": "code",
   "execution_count": 2,
   "id": "e4919c02",
   "metadata": {},
   "outputs": [],
   "source": [
    "df_work = pd.DataFrame({\n",
    "    'nombre': ['Ana', 'Bob', '', 'Carlos', ' ', 'Diana'],\n",
    "    'apellido': ['A_Ana', 'B_Bob', None, 'C_Carlos', None, 'D_Diana'],\n",
    "    'edad': [25, -1, 30, 999, 28, 22],\n",
    "    'ciudad': ['Madrid', 'N/A', 'Barcelona', 'Valencia', 'unknown', 'Sevilla'],\n",
    "    'salario': [50000, 0, 60000, -999, 55000, 48000]\n",
    "})\n",
    "\n",
    "## Read spreedsheet for tests\n",
    "try:\n",
    "    spreedsheet = r\"C:\\Users\\jm\\Documents\\__Dev\\PortableGit\\__localrepos\\365DS_jm\\3_statistics\\2_13_Practical_Ex_Descriptive_Stats.xlsx\"    # Casa\n",
    "    with open(spreedsheet) as f:\n",
    "        pass\n",
    "except FileNotFoundError:\n",
    "    spreedsheet = r\"D:\\git\\PortableGit\\__localrepos\\365DS_jm\\3_statistics\\2_13_Practical_Ex_Descriptive_Stats.xlsx\"                         # Office\n",
    "\n",
    "df_xls = pd.read_excel(spreedsheet, skiprows=4, usecols='B:J,L:AA', index_col='ID')\n",
    "df = df_xls.copy()\n",
    "\n",
    "lst_str = random.choices([chr(i) for i in range(65, 72)], k=99)\n",
    "sr_str = jm_pd.to_serie_with_count(lst_str)                         # <- jm_pd.to_serie_with_count()\n"
   ]
  },
  {
   "cell_type": "markdown",
   "id": "7beb4854",
   "metadata": {},
   "source": [
    "## jm_pd.to_serie_with_count()"
   ]
  },
  {
   "cell_type": "code",
   "execution_count": 3,
   "id": "ee94a95a",
   "metadata": {},
   "outputs": [
    {
     "data": {
      "text/plain": [
       "B    24\n",
       "E    16\n",
       "C    15\n",
       "F    13\n",
       "G    11\n",
       "D    11\n",
       "A     9\n",
       "Name: count, dtype: int64"
      ]
     },
     "execution_count": 3,
     "metadata": {},
     "output_type": "execute_result"
    }
   ],
   "source": [
    "sr_counted = jm_pd.to_serie_with_count(lst_str, count=True)\n",
    "sr_counted"
   ]
  },
  {
   "cell_type": "markdown",
   "id": "fe623fdc",
   "metadata": {},
   "source": [
    "## infos()"
   ]
  },
  {
   "cell_type": "code",
   "execution_count": 4,
   "id": "51728c54",
   "metadata": {},
   "outputs": [
    {
     "name": "stdout",
     "output_type": "stream",
     "text": [
      "<class 'pandas.core.series.Series'>\n",
      "Index: 7 entries, B to A\n",
      "Series name: count\n",
      "Non-Null Count  Dtype\n",
      "--------------  -----\n",
      "7 non-null      int64\n",
      "dtypes: int64(1)\n",
      "memory usage: 706.0 bytes\n",
      "\n",
      "<class 'pandas.core.series.Series'> | Index(['B', 'E', 'C', 'F', 'G', 'D', 'A'], dtype='object')\n",
      "    Name  Dtype  N-Nulls  N-Non-Nulls  N-Uniques  Has-Duplicates\n",
      "0  count  int64        0            7          6            True\n",
      "memory usage: 706 bytes\n"
     ]
    }
   ],
   "source": [
    "## series info\n",
    "sr_counted.info(memory_usage='deep')\n",
    "print()\n",
    "sr_counted.jm.infoplus()"
   ]
  },
  {
   "cell_type": "code",
   "execution_count": 5,
   "id": "2f49e9ca",
   "metadata": {},
   "outputs": [
    {
     "name": "stdout",
     "output_type": "stream",
     "text": [
      "<class 'pandas.core.frame.DataFrame'>\n",
      "RangeIndex: 6 entries, 0 to 5\n",
      "Data columns (total 5 columns):\n",
      " #   Column    Non-Null Count  Dtype \n",
      "---  ------    --------------  ----- \n",
      " 0   nombre    6 non-null      object\n",
      " 1   apellido  4 non-null      object\n",
      " 2   edad      6 non-null      int64 \n",
      " 3   ciudad    6 non-null      object\n",
      " 4   salario   6 non-null      int64 \n",
      "dtypes: int64(2), object(3)\n",
      "memory usage: 1.1 KB\n"
     ]
    }
   ],
   "source": [
    "df_work.index\n",
    "df_work.info(memory_usage='deep')\n",
    "# df_work.info()"
   ]
  },
  {
   "cell_type": "code",
   "execution_count": 6,
   "id": "1ebdd1aa",
   "metadata": {},
   "outputs": [
    {
     "name": "stdout",
     "output_type": "stream",
     "text": [
      "<class 'pandas.core.frame.DataFrame'> | RangeIndex(start=0, stop=6, step=1)\n",
      "Data columns (total 5 columns):\n",
      "--------------------------------\n",
      "     Column   Dtype  N-Nulls  N-Non-Nulls  N-Uniques  Has-Duplicates\n",
      "0    nombre  object        0            6          6           False\n",
      "1  apellido  object        2            4          4            True\n",
      "2      edad   int64        0            6          6           False\n",
      "3    ciudad  object        0            6          6           False\n",
      "4   salario   int64        0            6          6           False\n",
      "memory usage: 1.1 KB\n"
     ]
    }
   ],
   "source": [
    "# df_xls.info(memory_usage='deep')\n",
    "df_work.jm.infoplus()"
   ]
  },
  {
   "cell_type": "code",
   "execution_count": 34,
   "id": "3093faa7",
   "metadata": {},
   "outputs": [
    {
     "name": "stdout",
     "output_type": "stream",
     "text": [
      "<class 'pandas.core.series.Series'> | RangeIndex(start=0, stop=99, step=1)\n",
      "     Name   Dtype  N-Nulls  N-Non-Nulls  N-Uniques  Has-Duplicates\n",
      "0  Series  object        0           99          7            True\n",
      "memory usage: 5.0 KB\n"
     ]
    },
    {
     "data": {
      "text/plain": [
       "{'name': None,\n",
       " 'dtype': 'object',\n",
       " 'shape': (99,),\n",
       " 'size': 99,\n",
       " 'n_total': 99,\n",
       " 'n_nulls': np.int64(0),\n",
       " 'n_non_nulls': np.int64(99),\n",
       " 'pct_nulls': np.float64(0.0),\n",
       " 'memory_usage': 5082.0,\n",
       " 'memory_unit': 'bytes',\n",
       " 'n_uniques': 7,\n",
       " 'n_duplicates': np.int64(92),\n",
       " 'has_duplicates': np.True_,\n",
       " 'uniqueness_ratio': 0.071,\n",
       " 'min_value': None,\n",
       " 'max_value': None,\n",
       " 'avg_length': np.float64(1.0),\n",
       " 'min_length': np.int64(1),\n",
       " 'max_length': np.int64(1),\n",
       " 'empty_strings': np.int64(0),\n",
       " 'whitespace_only': np.int64(0),\n",
       " 'most_frequent_value': 'B',\n",
       " 'most_frequent_count': np.int64(24),\n",
       " 'most_frequent_pct': np.float64(24.24),\n",
       " 'sample_values': ['F', 'E', 'B', 'G', 'D', 'A', 'C'],\n",
       " 'top_values_distribution': {'B': {'count': 24, 'percentage': 24.24},\n",
       "  'E': {'count': 16, 'percentage': 16.16},\n",
       "  'C': {'count': 15, 'percentage': 15.15},\n",
       "  'F': {'count': 13, 'percentage': 13.13},\n",
       "  'G': {'count': 11, 'percentage': 11.11}}}"
      ]
     },
     "execution_count": 34,
     "metadata": {},
     "output_type": "execute_result"
    }
   ],
   "source": [
    "df_work.jm.infomax()\n",
    "df.jm.infomax()\n",
    "sr_str.jm.infoplus()\n",
    "sr_str.jm.infomax()"
   ]
  },
  {
   "cell_type": "code",
   "execution_count": 7,
   "id": "0a90f995",
   "metadata": {},
   "outputs": [
    {
     "data": {
      "text/html": [
       "<div>\n",
       "<style scoped>\n",
       "    .dataframe tbody tr th:only-of-type {\n",
       "        vertical-align: middle;\n",
       "    }\n",
       "\n",
       "    .dataframe tbody tr th {\n",
       "        vertical-align: top;\n",
       "    }\n",
       "\n",
       "    .dataframe thead th {\n",
       "        text-align: right;\n",
       "    }\n",
       "</style>\n",
       "<table border=\"1\" class=\"dataframe\">\n",
       "  <thead>\n",
       "    <tr style=\"text-align: right;\">\n",
       "      <th></th>\n",
       "      <th>Column</th>\n",
       "      <th>Dtype_df1</th>\n",
       "      <th>Dtype_df2</th>\n",
       "      <th>N-Nulls_df1</th>\n",
       "      <th>N-Nulls_df2</th>\n",
       "      <th>N-Uniques_df1</th>\n",
       "      <th>N-Uniques_df2</th>\n",
       "      <th>Has-Duplicates_df1</th>\n",
       "      <th>Has-Duplicates_df2</th>\n",
       "    </tr>\n",
       "  </thead>\n",
       "  <tbody>\n",
       "    <tr>\n",
       "      <th>0</th>\n",
       "      <td>Age at time of purchase</td>\n",
       "      <td>object</td>\n",
       "      <td>object</td>\n",
       "      <td>88</td>\n",
       "      <td>88</td>\n",
       "      <td>47</td>\n",
       "      <td>47</td>\n",
       "      <td>True</td>\n",
       "      <td>True</td>\n",
       "    </tr>\n",
       "    <tr>\n",
       "      <th>1</th>\n",
       "      <td>Area (ft.)</td>\n",
       "      <td>float64</td>\n",
       "      <td>float64</td>\n",
       "      <td>0</td>\n",
       "      <td>0</td>\n",
       "      <td>97</td>\n",
       "      <td>97</td>\n",
       "      <td>True</td>\n",
       "      <td>True</td>\n",
       "    </tr>\n",
       "    <tr>\n",
       "      <th>2</th>\n",
       "      <td>Building</td>\n",
       "      <td>int64</td>\n",
       "      <td>int64</td>\n",
       "      <td>0</td>\n",
       "      <td>0</td>\n",
       "      <td>5</td>\n",
       "      <td>5</td>\n",
       "      <td>True</td>\n",
       "      <td>True</td>\n",
       "    </tr>\n",
       "    <tr>\n",
       "      <th>3</th>\n",
       "      <td>Country</td>\n",
       "      <td>object</td>\n",
       "      <td>object</td>\n",
       "      <td>72</td>\n",
       "      <td>72</td>\n",
       "      <td>9</td>\n",
       "      <td>9</td>\n",
       "      <td>True</td>\n",
       "      <td>True</td>\n",
       "    </tr>\n",
       "    <tr>\n",
       "      <th>4</th>\n",
       "      <td>Customer ID</td>\n",
       "      <td>object</td>\n",
       "      <td>object</td>\n",
       "      <td>72</td>\n",
       "      <td>72</td>\n",
       "      <td>162</td>\n",
       "      <td>162</td>\n",
       "      <td>True</td>\n",
       "      <td>True</td>\n",
       "    </tr>\n",
       "    <tr>\n",
       "      <th>5</th>\n",
       "      <td>D</td>\n",
       "      <td>float64</td>\n",
       "      <td>float64</td>\n",
       "      <td>89</td>\n",
       "      <td>89</td>\n",
       "      <td>35</td>\n",
       "      <td>35</td>\n",
       "      <td>True</td>\n",
       "      <td>True</td>\n",
       "    </tr>\n",
       "    <tr>\n",
       "      <th>6</th>\n",
       "      <td>Deal satisfaction</td>\n",
       "      <td>float64</td>\n",
       "      <td>float64</td>\n",
       "      <td>72</td>\n",
       "      <td>72</td>\n",
       "      <td>5</td>\n",
       "      <td>5</td>\n",
       "      <td>True</td>\n",
       "      <td>True</td>\n",
       "    </tr>\n",
       "    <tr>\n",
       "      <th>7</th>\n",
       "      <td>Entity</td>\n",
       "      <td>object</td>\n",
       "      <td>object</td>\n",
       "      <td>72</td>\n",
       "      <td>72</td>\n",
       "      <td>2</td>\n",
       "      <td>2</td>\n",
       "      <td>True</td>\n",
       "      <td>True</td>\n",
       "    </tr>\n",
       "    <tr>\n",
       "      <th>8</th>\n",
       "      <td>Gender</td>\n",
       "      <td>object</td>\n",
       "      <td>object</td>\n",
       "      <td>89</td>\n",
       "      <td>89</td>\n",
       "      <td>2</td>\n",
       "      <td>2</td>\n",
       "      <td>True</td>\n",
       "      <td>True</td>\n",
       "    </tr>\n",
       "    <tr>\n",
       "      <th>9</th>\n",
       "      <td>Interval</td>\n",
       "      <td>object</td>\n",
       "      <td>object</td>\n",
       "      <td>89</td>\n",
       "      <td>89</td>\n",
       "      <td>6</td>\n",
       "      <td>6</td>\n",
       "      <td>True</td>\n",
       "      <td>True</td>\n",
       "    </tr>\n",
       "    <tr>\n",
       "      <th>10</th>\n",
       "      <td>M</td>\n",
       "      <td>float64</td>\n",
       "      <td>float64</td>\n",
       "      <td>89</td>\n",
       "      <td>89</td>\n",
       "      <td>14</td>\n",
       "      <td>14</td>\n",
       "      <td>True</td>\n",
       "      <td>True</td>\n",
       "    </tr>\n",
       "    <tr>\n",
       "      <th>11</th>\n",
       "      <td>Month of sale</td>\n",
       "      <td>float64</td>\n",
       "      <td>float64</td>\n",
       "      <td>72</td>\n",
       "      <td>72</td>\n",
       "      <td>12</td>\n",
       "      <td>12</td>\n",
       "      <td>True</td>\n",
       "      <td>True</td>\n",
       "    </tr>\n",
       "    <tr>\n",
       "      <th>12</th>\n",
       "      <td>Mortgage</td>\n",
       "      <td>object</td>\n",
       "      <td>object</td>\n",
       "      <td>72</td>\n",
       "      <td>72</td>\n",
       "      <td>2</td>\n",
       "      <td>2</td>\n",
       "      <td>True</td>\n",
       "      <td>True</td>\n",
       "    </tr>\n",
       "    <tr>\n",
       "      <th>13</th>\n",
       "      <td>Name</td>\n",
       "      <td>object</td>\n",
       "      <td>object</td>\n",
       "      <td>72</td>\n",
       "      <td>72</td>\n",
       "      <td>159</td>\n",
       "      <td>159</td>\n",
       "      <td>True</td>\n",
       "      <td>True</td>\n",
       "    </tr>\n",
       "    <tr>\n",
       "      <th>14</th>\n",
       "      <td>Price</td>\n",
       "      <td>float64</td>\n",
       "      <td>float64</td>\n",
       "      <td>0</td>\n",
       "      <td>0</td>\n",
       "      <td>266</td>\n",
       "      <td>266</td>\n",
       "      <td>True</td>\n",
       "      <td>True</td>\n",
       "    </tr>\n",
       "    <tr>\n",
       "      <th>15</th>\n",
       "      <td>Property #</td>\n",
       "      <td>int64</td>\n",
       "      <td>int64</td>\n",
       "      <td>0</td>\n",
       "      <td>0</td>\n",
       "      <td>59</td>\n",
       "      <td>59</td>\n",
       "      <td>True</td>\n",
       "      <td>True</td>\n",
       "    </tr>\n",
       "    <tr>\n",
       "      <th>16</th>\n",
       "      <td>Purpose</td>\n",
       "      <td>object</td>\n",
       "      <td>object</td>\n",
       "      <td>72</td>\n",
       "      <td>72</td>\n",
       "      <td>2</td>\n",
       "      <td>2</td>\n",
       "      <td>True</td>\n",
       "      <td>True</td>\n",
       "    </tr>\n",
       "    <tr>\n",
       "      <th>17</th>\n",
       "      <td>Source</td>\n",
       "      <td>object</td>\n",
       "      <td>object</td>\n",
       "      <td>72</td>\n",
       "      <td>72</td>\n",
       "      <td>3</td>\n",
       "      <td>3</td>\n",
       "      <td>True</td>\n",
       "      <td>True</td>\n",
       "    </tr>\n",
       "    <tr>\n",
       "      <th>18</th>\n",
       "      <td>State</td>\n",
       "      <td>object</td>\n",
       "      <td>object</td>\n",
       "      <td>86</td>\n",
       "      <td>86</td>\n",
       "      <td>9</td>\n",
       "      <td>9</td>\n",
       "      <td>True</td>\n",
       "      <td>True</td>\n",
       "    </tr>\n",
       "    <tr>\n",
       "      <th>19</th>\n",
       "      <td>Status</td>\n",
       "      <td>object</td>\n",
       "      <td>object</td>\n",
       "      <td>72</td>\n",
       "      <td>72</td>\n",
       "      <td>1</td>\n",
       "      <td>1</td>\n",
       "      <td>True</td>\n",
       "      <td>True</td>\n",
       "    </tr>\n",
       "    <tr>\n",
       "      <th>20</th>\n",
       "      <td>Surname</td>\n",
       "      <td>object</td>\n",
       "      <td>object</td>\n",
       "      <td>72</td>\n",
       "      <td>72</td>\n",
       "      <td>156</td>\n",
       "      <td>156</td>\n",
       "      <td>True</td>\n",
       "      <td>True</td>\n",
       "    </tr>\n",
       "    <tr>\n",
       "      <th>21</th>\n",
       "      <td>Type of property</td>\n",
       "      <td>object</td>\n",
       "      <td>object</td>\n",
       "      <td>0</td>\n",
       "      <td>0</td>\n",
       "      <td>2</td>\n",
       "      <td>2</td>\n",
       "      <td>True</td>\n",
       "      <td>True</td>\n",
       "    </tr>\n",
       "    <tr>\n",
       "      <th>22</th>\n",
       "      <td>Y</td>\n",
       "      <td>float64</td>\n",
       "      <td>float64</td>\n",
       "      <td>89</td>\n",
       "      <td>89</td>\n",
       "      <td>50</td>\n",
       "      <td>50</td>\n",
       "      <td>True</td>\n",
       "      <td>True</td>\n",
       "    </tr>\n",
       "    <tr>\n",
       "      <th>23</th>\n",
       "      <td>Year of sale</td>\n",
       "      <td>float64</td>\n",
       "      <td>float64</td>\n",
       "      <td>72</td>\n",
       "      <td>72</td>\n",
       "      <td>6</td>\n",
       "      <td>6</td>\n",
       "      <td>True</td>\n",
       "      <td>True</td>\n",
       "    </tr>\n",
       "  </tbody>\n",
       "</table>\n",
       "</div>"
      ],
      "text/plain": [
       "                     Column Dtype_df1 Dtype_df2  N-Nulls_df1  N-Nulls_df2  \\\n",
       "0   Age at time of purchase    object    object           88           88   \n",
       "1                Area (ft.)   float64   float64            0            0   \n",
       "2                  Building     int64     int64            0            0   \n",
       "3                   Country    object    object           72           72   \n",
       "4               Customer ID    object    object           72           72   \n",
       "5                         D   float64   float64           89           89   \n",
       "6         Deal satisfaction   float64   float64           72           72   \n",
       "7                    Entity    object    object           72           72   \n",
       "8                    Gender    object    object           89           89   \n",
       "9                  Interval    object    object           89           89   \n",
       "10                        M   float64   float64           89           89   \n",
       "11            Month of sale   float64   float64           72           72   \n",
       "12                 Mortgage    object    object           72           72   \n",
       "13                     Name    object    object           72           72   \n",
       "14                    Price   float64   float64            0            0   \n",
       "15               Property #     int64     int64            0            0   \n",
       "16                  Purpose    object    object           72           72   \n",
       "17                   Source    object    object           72           72   \n",
       "18                    State    object    object           86           86   \n",
       "19                   Status    object    object           72           72   \n",
       "20                  Surname    object    object           72           72   \n",
       "21         Type of property    object    object            0            0   \n",
       "22                        Y   float64   float64           89           89   \n",
       "23             Year of sale   float64   float64           72           72   \n",
       "\n",
       "    N-Uniques_df1  N-Uniques_df2  Has-Duplicates_df1  Has-Duplicates_df2  \n",
       "0              47             47                True                True  \n",
       "1              97             97                True                True  \n",
       "2               5              5                True                True  \n",
       "3               9              9                True                True  \n",
       "4             162            162                True                True  \n",
       "5              35             35                True                True  \n",
       "6               5              5                True                True  \n",
       "7               2              2                True                True  \n",
       "8               2              2                True                True  \n",
       "9               6              6                True                True  \n",
       "10             14             14                True                True  \n",
       "11             12             12                True                True  \n",
       "12              2              2                True                True  \n",
       "13            159            159                True                True  \n",
       "14            266            266                True                True  \n",
       "15             59             59                True                True  \n",
       "16              2              2                True                True  \n",
       "17              3              3                True                True  \n",
       "18              9              9                True                True  \n",
       "19              1              1                True                True  \n",
       "20            156            156                True                True  \n",
       "21              2              2                True                True  \n",
       "22             50             50                True                True  \n",
       "23              6              6                True                True  "
      ]
     },
     "execution_count": 7,
     "metadata": {},
     "output_type": "execute_result"
    }
   ],
   "source": [
    "df.jm.info_cmp(df_xls)\n",
    "# df.jm._df_infobase()"
   ]
  },
  {
   "cell_type": "code",
   "execution_count": 8,
   "id": "7c59308e",
   "metadata": {},
   "outputs": [
    {
     "name": "stdout",
     "output_type": "stream",
     "text": [
      "<class 'pandas.core.series.Series'>\n",
      "Index: 7 entries, B to A\n",
      "Series name: count\n",
      "Non-Null Count  Dtype\n",
      "--------------  -----\n",
      "7 non-null      int64\n",
      "dtypes: int64(1)\n",
      "memory usage: 412.0+ bytes\n",
      "\n",
      "<class 'pandas.core.series.Series'> | Index(['B', 'E', 'C', 'F', 'G', 'D', 'A'], dtype='object')\n",
      "    Name  Dtype  N-Nulls  N-Non-Nulls  N-Uniques  Has-Duplicates\n",
      "0  count  int64        0            7          6            True\n",
      "memory usage: 706 bytes\n"
     ]
    }
   ],
   "source": [
    "sr_counted.info()\n",
    "print()\n",
    "sr_counted.jm.infoplus()"
   ]
  },
  {
   "cell_type": "code",
   "execution_count": null,
   "id": "aa5684b3",
   "metadata": {},
   "outputs": [],
   "source": []
  },
  {
   "cell_type": "code",
   "execution_count": null,
   "id": "6fae8c12",
   "metadata": {},
   "outputs": [],
   "source": []
  },
  {
   "cell_type": "code",
   "execution_count": 9,
   "id": "dd7977bf",
   "metadata": {},
   "outputs": [],
   "source": [
    "def to_bytes_mult(value, decimals=1):\n",
    "\n",
    "    if value < 0:\n",
    "        return '0 bytes'\n",
    "\n",
    "    units = ['bytes', 'KB', 'GB', 'TB', 'PB']\n",
    "    unit_ix = 0\n",
    "\n",
    "    while value >= 1024 and unit_ix < len(units) - 1:\n",
    "        value /= 1024\n",
    "        unit_ix += 1\n",
    "\n",
    "    if unit_ix == 0:\n",
    "        decimals = 0\n",
    "    \n",
    "    return f\"{value:.{decimals}f} {units[unit_ix]}\"\n"
   ]
  },
  {
   "cell_type": "code",
   "execution_count": 10,
   "id": "88a5615c",
   "metadata": {},
   "outputs": [
    {
     "name": "stdout",
     "output_type": "stream",
     "text": [
      "1143\n",
      "1.1 KB\n",
      "326 bytes\n"
     ]
    }
   ],
   "source": [
    "mem_bytes = (df_work.memory_usage(deep=True).sum())\n",
    "# mem_bytes = (df_work.memory_usage().sum())\n",
    "print(mem_bytes)\n",
    "print(to_bytes_mult(mem_bytes))\n",
    "print(to_bytes_mult(325.77))"
   ]
  },
  {
   "cell_type": "code",
   "execution_count": 11,
   "id": "a8583ff7",
   "metadata": {},
   "outputs": [
    {
     "name": "stdout",
     "output_type": "stream",
     "text": [
      "<class 'pandas.core.frame.DataFrame'> | RangeIndex(start=0, stop=6, step=1)\n",
      "Data columns (total 5 columns):\n",
      "--------------------------------\n",
      "     Column   Dtype  N-Nulls  N-Non-Nulls  N-Uniques  Has-Duplicates\n",
      "0    nombre  object        0            6          6           False\n",
      "1  apellido  object        2            4          4            True\n",
      "2      edad   int64        0            6          6           False\n",
      "3    ciudad  object        0            6          6           False\n",
      "4   salario   int64        0            6          6           False\n",
      "memory usage: 1.1 KB\n"
     ]
    }
   ],
   "source": [
    "df_work.jm.infoplus()"
   ]
  },
  {
   "cell_type": "markdown",
   "id": "525d577b",
   "metadata": {},
   "source": [
    "## Diversos convert_dtypes()"
   ]
  },
  {
   "cell_type": "code",
   "execution_count": 12,
   "id": "4a8b98da",
   "metadata": {},
   "outputs": [
    {
     "data": {
      "text/plain": [
       "dtype('float64')"
      ]
     },
     "metadata": {},
     "output_type": "display_data"
    },
    {
     "data": {
      "text/plain": [
       "Int64Dtype()"
      ]
     },
     "metadata": {},
     "output_type": "display_data"
    },
    {
     "data": {
      "text/plain": [
       "Int64Dtype()"
      ]
     },
     "metadata": {},
     "output_type": "display_data"
    },
    {
     "data": {
      "text/plain": [
       "Int64Dtype()"
      ]
     },
     "metadata": {},
     "output_type": "display_data"
    }
   ],
   "source": [
    "display(df_xls['Month of sale'].dtype)\n",
    "display(df_xls['Month of sale'].convert_dtypes().dtype)\n",
    "display(df_xls['Month of sale'].jm.convert_dtypesplus().dtype)\n",
    "display(df_xls['Month of sale'].jm.convert_dtypesmax().dtype)"
   ]
  },
  {
   "cell_type": "code",
   "execution_count": 13,
   "id": "9668f38c",
   "metadata": {},
   "outputs": [
    {
     "data": {
      "text/plain": [
       "dtype('O')"
      ]
     },
     "metadata": {},
     "output_type": "display_data"
    },
    {
     "data": {
      "text/plain": [
       "dtype('O')"
      ]
     },
     "metadata": {},
     "output_type": "display_data"
    },
    {
     "data": {
      "text/plain": [
       "Int64Dtype()"
      ]
     },
     "metadata": {},
     "output_type": "display_data"
    },
    {
     "data": {
      "text/plain": [
       "Int64Dtype()"
      ]
     },
     "metadata": {},
     "output_type": "display_data"
    }
   ],
   "source": [
    "display(df_xls['Age at time of purchase'].dtype)\n",
    "display(df_xls['Age at time of purchase'].convert_dtypes().dtype)\n",
    "display(df_xls['Age at time of purchase'].jm.convert_dtypesplus().dtype)\n",
    "display(df_xls['Age at time of purchase'].jm.convert_dtypesmax().dtype)"
   ]
  },
  {
   "cell_type": "code",
   "execution_count": 14,
   "id": "2d4beecd",
   "metadata": {},
   "outputs": [
    {
     "data": {
      "text/plain": [
       "dtype('float64')"
      ]
     },
     "metadata": {},
     "output_type": "display_data"
    },
    {
     "data": {
      "text/plain": [
       "Float64Dtype()"
      ]
     },
     "metadata": {},
     "output_type": "display_data"
    },
    {
     "data": {
      "text/plain": [
       "Float64Dtype()"
      ]
     },
     "metadata": {},
     "output_type": "display_data"
    },
    {
     "data": {
      "text/plain": [
       "Int64Dtype()"
      ]
     },
     "metadata": {},
     "output_type": "display_data"
    }
   ],
   "source": [
    "display(df_xls['M'].dtype)\n",
    "display(df_xls['M'].convert_dtypes().dtype)\n",
    "display(df_xls['M'].jm.convert_dtypesplus().dtype)\n",
    "display(df_xls['M'].jm.convert_dtypesmax().dtype)"
   ]
  },
  {
   "cell_type": "code",
   "execution_count": 15,
   "id": "1124fefb",
   "metadata": {},
   "outputs": [
    {
     "data": {
      "text/plain": [
       "Month of sale              float64\n",
       "Price                      float64\n",
       "Status                      object\n",
       "Age at time of purchase     object\n",
       "Y                          float64\n",
       "M                          float64\n",
       "D                          float64\n",
       "State                       object\n",
       "dtype: object"
      ]
     },
     "metadata": {},
     "output_type": "display_data"
    },
    {
     "data": {
      "text/plain": [
       "Month of sale                       Int64\n",
       "Price                             Float64\n",
       "Status                     string[python]\n",
       "Age at time of purchase            object\n",
       "Y                                   Int64\n",
       "M                                 Float64\n",
       "D                                 Float64\n",
       "State                      string[python]\n",
       "dtype: object"
      ]
     },
     "metadata": {},
     "output_type": "display_data"
    },
    {
     "data": {
      "text/plain": [
       "Month of sale                       Int64\n",
       "Price                             Float64\n",
       "Status                     string[python]\n",
       "Age at time of purchase             Int64\n",
       "Y                                   Int64\n",
       "M                                 Float64\n",
       "D                                 Float64\n",
       "State                      string[python]\n",
       "dtype: object"
      ]
     },
     "metadata": {},
     "output_type": "display_data"
    },
    {
     "data": {
      "text/plain": [
       "Month of sale                       Int64\n",
       "Price                             Float64\n",
       "Status                     string[python]\n",
       "Age at time of purchase             Int64\n",
       "Y                                   Int64\n",
       "M                                   Int64\n",
       "D                                   Int64\n",
       "State                      string[python]\n",
       "dtype: object"
      ]
     },
     "metadata": {},
     "output_type": "display_data"
    }
   ],
   "source": [
    "# display(df_work.dtypes) #, type(df_work.dtypes))\n",
    "# display(df_work.convert_dtypes().dtypes)\n",
    "df_xls_mini = df_xls[['Month of sale', 'Price', 'Status', 'Age at time of purchase', 'Y', 'M', 'D', 'State']]\n",
    "display(df_xls_mini.dtypes)\n",
    "display(df_xls_mini.convert_dtypes().dtypes)\n",
    "display(df_xls_mini.jm.convert_dtypesplus().dtypes)\n",
    "display(df_xls_mini.jm.convert_dtypesmax().dtypes)\n"
   ]
  },
  {
   "cell_type": "code",
   "execution_count": 16,
   "id": "fa804aef",
   "metadata": {},
   "outputs": [
    {
     "data": {
      "text/html": [
       "<div>\n",
       "<style scoped>\n",
       "    .dataframe tbody tr th:only-of-type {\n",
       "        vertical-align: middle;\n",
       "    }\n",
       "\n",
       "    .dataframe tbody tr th {\n",
       "        vertical-align: top;\n",
       "    }\n",
       "\n",
       "    .dataframe thead th {\n",
       "        text-align: right;\n",
       "    }\n",
       "</style>\n",
       "<table border=\"1\" class=\"dataframe\">\n",
       "  <thead>\n",
       "    <tr style=\"text-align: right;\">\n",
       "      <th></th>\n",
       "      <th>Building</th>\n",
       "      <th>Year of sale</th>\n",
       "      <th>Month of sale</th>\n",
       "      <th>Property #</th>\n",
       "      <th>Area (ft.)</th>\n",
       "      <th>Price</th>\n",
       "      <th>Y</th>\n",
       "      <th>M</th>\n",
       "      <th>D</th>\n",
       "      <th>Deal satisfaction</th>\n",
       "    </tr>\n",
       "  </thead>\n",
       "  <tbody>\n",
       "    <tr>\n",
       "      <th>0</th>\n",
       "      <td>3.0</td>\n",
       "      <td>2007.0</td>\n",
       "      <td>11.0</td>\n",
       "      <td>34.0</td>\n",
       "      <td>781.0684</td>\n",
       "      <td>460001.256</td>\n",
       "      <td>1959.0</td>\n",
       "      <td>6.0</td>\n",
       "      <td>5.0</td>\n",
       "      <td>5.0</td>\n",
       "    </tr>\n",
       "    <tr>\n",
       "      <th>1</th>\n",
       "      <td>NaN</td>\n",
       "      <td>NaN</td>\n",
       "      <td>NaN</td>\n",
       "      <td>NaN</td>\n",
       "      <td>794.5184</td>\n",
       "      <td>NaN</td>\n",
       "      <td>NaN</td>\n",
       "      <td>NaN</td>\n",
       "      <td>13.0</td>\n",
       "      <td>NaN</td>\n",
       "    </tr>\n",
       "    <tr>\n",
       "      <th>2</th>\n",
       "      <td>NaN</td>\n",
       "      <td>NaN</td>\n",
       "      <td>NaN</td>\n",
       "      <td>NaN</td>\n",
       "      <td>798.2844</td>\n",
       "      <td>NaN</td>\n",
       "      <td>NaN</td>\n",
       "      <td>NaN</td>\n",
       "      <td>NaN</td>\n",
       "      <td>NaN</td>\n",
       "    </tr>\n",
       "  </tbody>\n",
       "</table>\n",
       "</div>"
      ],
      "text/plain": [
       "   Building  Year of sale  Month of sale  Property #  Area (ft.)       Price  \\\n",
       "0       3.0        2007.0           11.0        34.0    781.0684  460001.256   \n",
       "1       NaN           NaN            NaN         NaN    794.5184         NaN   \n",
       "2       NaN           NaN            NaN         NaN    798.2844         NaN   \n",
       "\n",
       "        Y    M     D  Deal satisfaction  \n",
       "0  1959.0  6.0   5.0                5.0  \n",
       "1     NaN  NaN  13.0                NaN  \n",
       "2     NaN  NaN   NaN                NaN  "
      ]
     },
     "execution_count": 16,
     "metadata": {},
     "output_type": "execute_result"
    }
   ],
   "source": [
    "### OJO para ver como se comporta en cols objects\n",
    "result = df.select_dtypes(include='number').apply('mode')\n",
    "result"
   ]
  },
  {
   "cell_type": "code",
   "execution_count": null,
   "id": "548db162",
   "metadata": {},
   "outputs": [
    {
     "data": {
      "text/html": [
       "<div>\n",
       "<style scoped>\n",
       "    .dataframe tbody tr th:only-of-type {\n",
       "        vertical-align: middle;\n",
       "    }\n",
       "\n",
       "    .dataframe tbody tr th {\n",
       "        vertical-align: top;\n",
       "    }\n",
       "\n",
       "    .dataframe thead th {\n",
       "        text-align: right;\n",
       "    }\n",
       "</style>\n",
       "<table border=\"1\" class=\"dataframe\">\n",
       "  <thead>\n",
       "    <tr style=\"text-align: right;\">\n",
       "      <th></th>\n",
       "      <th>Month of sale</th>\n",
       "      <th>Price</th>\n",
       "      <th>Status</th>\n",
       "      <th>Age at time of purchase</th>\n",
       "      <th>Y</th>\n",
       "      <th>M</th>\n",
       "      <th>D</th>\n",
       "      <th>State</th>\n",
       "    </tr>\n",
       "    <tr>\n",
       "      <th>ID</th>\n",
       "      <th></th>\n",
       "      <th></th>\n",
       "      <th></th>\n",
       "      <th></th>\n",
       "      <th></th>\n",
       "      <th></th>\n",
       "      <th></th>\n",
       "      <th></th>\n",
       "    </tr>\n",
       "  </thead>\n",
       "  <tbody>\n",
       "    <tr>\n",
       "      <th>1030</th>\n",
       "      <td>11.0</td>\n",
       "      <td>246172.6760</td>\n",
       "      <td>Sold</td>\n",
       "      <td>19</td>\n",
       "      <td>1986.0</td>\n",
       "      <td>6.0</td>\n",
       "      <td>21.0</td>\n",
       "      <td>California</td>\n",
       "    </tr>\n",
       "    <tr>\n",
       "      <th>1029</th>\n",
       "      <td>10.0</td>\n",
       "      <td>246331.9040</td>\n",
       "      <td>Sold</td>\n",
       "      <td>22</td>\n",
       "      <td>1983.0</td>\n",
       "      <td>2.0</td>\n",
       "      <td>24.0</td>\n",
       "      <td>California</td>\n",
       "    </tr>\n",
       "    <tr>\n",
       "      <th>2002</th>\n",
       "      <td>7.0</td>\n",
       "      <td>209280.9104</td>\n",
       "      <td>Sold</td>\n",
       "      <td>22</td>\n",
       "      <td>1985.0</td>\n",
       "      <td>12.0</td>\n",
       "      <td>27.0</td>\n",
       "      <td>California</td>\n",
       "    </tr>\n",
       "    <tr>\n",
       "      <th>2031</th>\n",
       "      <td>12.0</td>\n",
       "      <td>452667.0064</td>\n",
       "      <td>Sold</td>\n",
       "      <td>22</td>\n",
       "      <td>1985.0</td>\n",
       "      <td>12.0</td>\n",
       "      <td>27.0</td>\n",
       "      <td>California</td>\n",
       "    </tr>\n",
       "    <tr>\n",
       "      <th>1049</th>\n",
       "      <td>11.0</td>\n",
       "      <td>467083.3132</td>\n",
       "      <td>Sold</td>\n",
       "      <td>25</td>\n",
       "      <td>1979.0</td>\n",
       "      <td>5.0</td>\n",
       "      <td>15.0</td>\n",
       "      <td>California</td>\n",
       "    </tr>\n",
       "    <tr>\n",
       "      <th>...</th>\n",
       "      <td>...</td>\n",
       "      <td>...</td>\n",
       "      <td>...</td>\n",
       "      <td>...</td>\n",
       "      <td>...</td>\n",
       "      <td>...</td>\n",
       "      <td>...</td>\n",
       "      <td>...</td>\n",
       "    </tr>\n",
       "    <tr>\n",
       "      <th>5044</th>\n",
       "      <td>NaN</td>\n",
       "      <td>322610.7392</td>\n",
       "      <td>NaN</td>\n",
       "      <td>NaN</td>\n",
       "      <td>NaN</td>\n",
       "      <td>NaN</td>\n",
       "      <td>NaN</td>\n",
       "      <td>NaN</td>\n",
       "    </tr>\n",
       "    <tr>\n",
       "      <th>5047</th>\n",
       "      <td>NaN</td>\n",
       "      <td>279191.2560</td>\n",
       "      <td>NaN</td>\n",
       "      <td>NaN</td>\n",
       "      <td>NaN</td>\n",
       "      <td>NaN</td>\n",
       "      <td>NaN</td>\n",
       "      <td>NaN</td>\n",
       "    </tr>\n",
       "    <tr>\n",
       "      <th>5048</th>\n",
       "      <td>NaN</td>\n",
       "      <td>287996.5296</td>\n",
       "      <td>NaN</td>\n",
       "      <td>NaN</td>\n",
       "      <td>NaN</td>\n",
       "      <td>NaN</td>\n",
       "      <td>NaN</td>\n",
       "      <td>NaN</td>\n",
       "    </tr>\n",
       "    <tr>\n",
       "      <th>5050</th>\n",
       "      <td>NaN</td>\n",
       "      <td>365868.7776</td>\n",
       "      <td>NaN</td>\n",
       "      <td>NaN</td>\n",
       "      <td>NaN</td>\n",
       "      <td>NaN</td>\n",
       "      <td>NaN</td>\n",
       "      <td>NaN</td>\n",
       "    </tr>\n",
       "    <tr>\n",
       "      <th>5051</th>\n",
       "      <td>NaN</td>\n",
       "      <td>199216.4040</td>\n",
       "      <td>NaN</td>\n",
       "      <td>NaN</td>\n",
       "      <td>NaN</td>\n",
       "      <td>NaN</td>\n",
       "      <td>NaN</td>\n",
       "      <td>NaN</td>\n",
       "    </tr>\n",
       "  </tbody>\n",
       "</table>\n",
       "<p>267 rows × 8 columns</p>\n",
       "</div>"
      ],
      "text/plain": [
       "      Month of sale        Price Status Age at time of purchase       Y     M  \\\n",
       "ID                                                                              \n",
       "1030           11.0  246172.6760   Sold                      19  1986.0   6.0   \n",
       "1029           10.0  246331.9040   Sold                      22  1983.0   2.0   \n",
       "2002            7.0  209280.9104   Sold                      22  1985.0  12.0   \n",
       "2031           12.0  452667.0064   Sold                      22  1985.0  12.0   \n",
       "1049           11.0  467083.3132   Sold                      25  1979.0   5.0   \n",
       "...             ...          ...    ...                     ...     ...   ...   \n",
       "5044            NaN  322610.7392    NaN                     NaN     NaN   NaN   \n",
       "5047            NaN  279191.2560    NaN                     NaN     NaN   NaN   \n",
       "5048            NaN  287996.5296    NaN                     NaN     NaN   NaN   \n",
       "5050            NaN  365868.7776    NaN                     NaN     NaN   NaN   \n",
       "5051            NaN  199216.4040    NaN                     NaN     NaN   NaN   \n",
       "\n",
       "         D       State  \n",
       "ID                      \n",
       "1030  21.0  California  \n",
       "1029  24.0  California  \n",
       "2002  27.0  California  \n",
       "2031  27.0  California  \n",
       "1049  15.0  California  \n",
       "...    ...         ...  \n",
       "5044   NaN         NaN  \n",
       "5047   NaN         NaN  \n",
       "5048   NaN         NaN  \n",
       "5050   NaN         NaN  \n",
       "5051   NaN         NaN  \n",
       "\n",
       "[267 rows x 8 columns]"
      ]
     },
     "execution_count": 17,
     "metadata": {},
     "output_type": "execute_result"
    }
   ],
   "source": [
    "## veamos si apply es 'inplace' - NOO no es inplace.\n",
    "df_xls_mini\n",
    "def clean(col):\n",
    "    if pd.api.types.is_numeric_dtype(col):\n",
    "        return col.fillna(col.mean())\n",
    "    elif pd.api.types.is_string_dtype(col):\n",
    "        return col.fillna(\"SIN DATO\")\n",
    "    else:\n",
    "        return col.fillna(\"OTRO\")\n",
    "    \n",
    "def fpru(col):\n",
    "    return col.convert_dtypes()\n",
    "\n",
    "df_xls_mini.transform(fpru)\n",
    "df_xls_mini.apply(fpru)\n",
    "df_xls_mini\n",
    "    "
   ]
  },
  {
   "cell_type": "code",
   "execution_count": null,
   "id": "e52e4908",
   "metadata": {},
   "outputs": [],
   "source": []
  },
  {
   "cell_type": "markdown",
   "id": "197e1afa",
   "metadata": {},
   "source": [
    "## fmt_value_for_pd(value, width=8, decimals=2, miles=','):"
   ]
  },
  {
   "cell_type": "code",
   "execution_count": 18,
   "id": "31f13e19",
   "metadata": {},
   "outputs": [
    {
     "data": {
      "text/html": [
       "<div>\n",
       "<style scoped>\n",
       "    .dataframe tbody tr th:only-of-type {\n",
       "        vertical-align: middle;\n",
       "    }\n",
       "\n",
       "    .dataframe tbody tr th {\n",
       "        vertical-align: top;\n",
       "    }\n",
       "\n",
       "    .dataframe thead th {\n",
       "        text-align: right;\n",
       "    }\n",
       "</style>\n",
       "<table border=\"1\" class=\"dataframe\">\n",
       "  <thead>\n",
       "    <tr style=\"text-align: right;\">\n",
       "      <th></th>\n",
       "      <th>nombre</th>\n",
       "      <th>apellido</th>\n",
       "      <th>edad</th>\n",
       "      <th>ciudad</th>\n",
       "      <th>salario</th>\n",
       "    </tr>\n",
       "  </thead>\n",
       "  <tbody>\n",
       "    <tr>\n",
       "      <th>0</th>\n",
       "      <td>Ana</td>\n",
       "      <td>A_Ana</td>\n",
       "      <td>25</td>\n",
       "      <td>Madrid</td>\n",
       "      <td>50_000</td>\n",
       "    </tr>\n",
       "    <tr>\n",
       "      <th>1</th>\n",
       "      <td>Bob</td>\n",
       "      <td>B_Bob</td>\n",
       "      <td>-1</td>\n",
       "      <td>N/A</td>\n",
       "      <td>0</td>\n",
       "    </tr>\n",
       "    <tr>\n",
       "      <th>2</th>\n",
       "      <td></td>\n",
       "      <td>None</td>\n",
       "      <td>30</td>\n",
       "      <td>Barcelona</td>\n",
       "      <td>60_000</td>\n",
       "    </tr>\n",
       "    <tr>\n",
       "      <th>3</th>\n",
       "      <td>Carlos</td>\n",
       "      <td>C_Carlos</td>\n",
       "      <td>999</td>\n",
       "      <td>Valencia</td>\n",
       "      <td>-999</td>\n",
       "    </tr>\n",
       "    <tr>\n",
       "      <th>4</th>\n",
       "      <td></td>\n",
       "      <td>None</td>\n",
       "      <td>28</td>\n",
       "      <td>unknown</td>\n",
       "      <td>55_000</td>\n",
       "    </tr>\n",
       "    <tr>\n",
       "      <th>5</th>\n",
       "      <td>Diana</td>\n",
       "      <td>D_Diana</td>\n",
       "      <td>22</td>\n",
       "      <td>Sevilla</td>\n",
       "      <td>48_000</td>\n",
       "    </tr>\n",
       "  </tbody>\n",
       "</table>\n",
       "</div>"
      ],
      "text/plain": [
       "     nombre  apellido      edad     ciudad   salario\n",
       "0       Ana     A_Ana        25     Madrid    50_000\n",
       "1       Bob     B_Bob        -1        N/A         0\n",
       "2                None        30  Barcelona    60_000\n",
       "3    Carlos  C_Carlos       999   Valencia      -999\n",
       "4                None        28    unknown    55_000\n",
       "5     Diana   D_Diana        22    Sevilla    48_000"
      ]
     },
     "metadata": {},
     "output_type": "display_data"
    },
    {
     "data": {
      "text/plain": [
       "np.int64(2)"
      ]
     },
     "execution_count": 18,
     "metadata": {},
     "output_type": "execute_result"
    }
   ],
   "source": [
    "display(df_work.map(lambda x: jm_pd.fmt_value_for_pd(x, decimals=0, miles='_')))\n",
    "\n",
    "df_work_b = df_work.copy()\n",
    "\n",
    "for col in df_work_b.columns:\n",
    "    df_work_b[col] = df_work_b[col].map(lambda x: jm_pd.fmt_value_for_pd(x, decimals=0))\n",
    "\n",
    "# df_work_b.isna()\n",
    "df_work.isna().sum().sum()\n"
   ]
  },
  {
   "cell_type": "markdown",
   "id": "aaffdc9a",
   "metadata": {},
   "source": [
    "## describeplus()"
   ]
  },
  {
   "cell_type": "code",
   "execution_count": 19,
   "id": "4352acb8",
   "metadata": {},
   "outputs": [
    {
     "data": {
      "text/html": [
       "<div>\n",
       "<style scoped>\n",
       "    .dataframe tbody tr th:only-of-type {\n",
       "        vertical-align: middle;\n",
       "    }\n",
       "\n",
       "    .dataframe tbody tr th {\n",
       "        vertical-align: top;\n",
       "    }\n",
       "\n",
       "    .dataframe thead th {\n",
       "        text-align: right;\n",
       "    }\n",
       "</style>\n",
       "<table border=\"1\" class=\"dataframe\">\n",
       "  <thead>\n",
       "    <tr style=\"text-align: right;\">\n",
       "      <th></th>\n",
       "      <th>Column</th>\n",
       "      <th>Dtype</th>\n",
       "      <th>N-Nulls</th>\n",
       "      <th>N-Total</th>\n",
       "      <th>N-Uniques</th>\n",
       "      <th>Pct-Nulls</th>\n",
       "      <th>Memory-Usage</th>\n",
       "      <th>Min-Value</th>\n",
       "      <th>Max-Value</th>\n",
       "      <th>Most-Frequent</th>\n",
       "      <th>Freq-Count</th>\n",
       "      <th>Has-Duplicates</th>\n",
       "      <th>Sample-Values</th>\n",
       "    </tr>\n",
       "  </thead>\n",
       "  <tbody>\n",
       "    <tr>\n",
       "      <th>0</th>\n",
       "      <td>Age at time of purchase</td>\n",
       "      <td>object</td>\n",
       "      <td>88</td>\n",
       "      <td>179</td>\n",
       "      <td>47</td>\n",
       "      <td>33.0</td>\n",
       "      <td>11410</td>\n",
       "      <td>NaN</td>\n",
       "      <td>NaN</td>\n",
       "      <td>48.0</td>\n",
       "      <td>11</td>\n",
       "      <td>True</td>\n",
       "      <td>[19, 22, 25, 26]</td>\n",
       "    </tr>\n",
       "    <tr>\n",
       "      <th>1</th>\n",
       "      <td>Num_Age...</td>\n",
       "      <td>float64</td>\n",
       "      <td>89</td>\n",
       "      <td>178</td>\n",
       "      <td>46</td>\n",
       "      <td>33.3</td>\n",
       "      <td>4272</td>\n",
       "      <td>19.0</td>\n",
       "      <td>76.0</td>\n",
       "      <td>48.0</td>\n",
       "      <td>11</td>\n",
       "      <td>True</td>\n",
       "      <td>[19.0, 22.0, 25.0, 26.0]</td>\n",
       "    </tr>\n",
       "  </tbody>\n",
       "</table>\n",
       "</div>"
      ],
      "text/plain": [
       "                    Column    Dtype  N-Nulls  N-Total  N-Uniques  Pct-Nulls  \\\n",
       "0  Age at time of purchase   object       88      179         47       33.0   \n",
       "1               Num_Age...  float64       89      178         46       33.3   \n",
       "\n",
       "   Memory-Usage  Min-Value  Max-Value  Most-Frequent  Freq-Count  \\\n",
       "0         11410        NaN        NaN           48.0          11   \n",
       "1          4272       19.0       76.0           48.0          11   \n",
       "\n",
       "   Has-Duplicates             Sample-Values  \n",
       "0            True          [19, 22, 25, 26]  \n",
       "1            True  [19.0, 22.0, 25.0, 26.0]  "
      ]
     },
     "execution_count": 19,
     "metadata": {},
     "output_type": "execute_result"
    }
   ],
   "source": [
    "df_xls.describe(include='all')\n",
    "df_xls['Num_Age...'] = pd.to_numeric(df_xls['Age at time of purchase'], errors='coerce')\n",
    "df_xls[['Age at time of purchase', 'Num_Age...']].jm.infomax()"
   ]
  },
  {
   "cell_type": "code",
   "execution_count": 20,
   "id": "604148c9",
   "metadata": {},
   "outputs": [
    {
     "data": {
      "text/html": [
       "<div>\n",
       "<style scoped>\n",
       "    .dataframe tbody tr th:only-of-type {\n",
       "        vertical-align: middle;\n",
       "    }\n",
       "\n",
       "    .dataframe tbody tr th {\n",
       "        vertical-align: top;\n",
       "    }\n",
       "\n",
       "    .dataframe thead th {\n",
       "        text-align: right;\n",
       "    }\n",
       "</style>\n",
       "<table border=\"1\" class=\"dataframe\">\n",
       "  <thead>\n",
       "    <tr style=\"text-align: right;\">\n",
       "      <th></th>\n",
       "      <th>Age at time of purchase</th>\n",
       "    </tr>\n",
       "  </thead>\n",
       "  <tbody>\n",
       "    <tr>\n",
       "      <th>Non-null Count</th>\n",
       "      <td>179</td>\n",
       "    </tr>\n",
       "    <tr>\n",
       "      <th>Null Count</th>\n",
       "      <td>88</td>\n",
       "    </tr>\n",
       "    <tr>\n",
       "      <th>Total Count</th>\n",
       "      <td>267</td>\n",
       "    </tr>\n",
       "    <tr>\n",
       "      <th>Unique Count</th>\n",
       "      <td>47</td>\n",
       "    </tr>\n",
       "    <tr>\n",
       "      <th>Top (mode)</th>\n",
       "      <td>48</td>\n",
       "    </tr>\n",
       "    <tr>\n",
       "      <th>Freq. mode</th>\n",
       "      <td>11</td>\n",
       "    </tr>\n",
       "  </tbody>\n",
       "</table>\n",
       "</div>"
      ],
      "text/plain": [
       "               Age at time of purchase\n",
       "Non-null Count                     179\n",
       "Null Count                          88\n",
       "Total Count                        267\n",
       "Unique Count                        47\n",
       "Top (mode)                          48\n",
       "Freq. mode                          11"
      ]
     },
     "execution_count": 20,
     "metadata": {},
     "output_type": "execute_result"
    }
   ],
   "source": [
    "jm_pd.describeplus(df_xls['Age at time of purchase'])"
   ]
  },
  {
   "cell_type": "code",
   "execution_count": 21,
   "id": "40052f78",
   "metadata": {},
   "outputs": [
    {
     "data": {
      "text/html": [
       "<div>\n",
       "<style scoped>\n",
       "    .dataframe tbody tr th:only-of-type {\n",
       "        vertical-align: middle;\n",
       "    }\n",
       "\n",
       "    .dataframe tbody tr th {\n",
       "        vertical-align: top;\n",
       "    }\n",
       "\n",
       "    .dataframe thead th {\n",
       "        text-align: right;\n",
       "    }\n",
       "</style>\n",
       "<table border=\"1\" class=\"dataframe\">\n",
       "  <thead>\n",
       "    <tr style=\"text-align: right;\">\n",
       "      <th></th>\n",
       "      <th>Num_Age...</th>\n",
       "      <th>formatted</th>\n",
       "    </tr>\n",
       "  </thead>\n",
       "  <tbody>\n",
       "    <tr>\n",
       "      <th>Non-null Count</th>\n",
       "      <td>178</td>\n",
       "      <td>178</td>\n",
       "    </tr>\n",
       "    <tr>\n",
       "      <th>Null Count</th>\n",
       "      <td>89</td>\n",
       "      <td>89</td>\n",
       "    </tr>\n",
       "    <tr>\n",
       "      <th>Total Count</th>\n",
       "      <td>267</td>\n",
       "      <td>267</td>\n",
       "    </tr>\n",
       "    <tr>\n",
       "      <th>Unique Count</th>\n",
       "      <td>46</td>\n",
       "      <td>46</td>\n",
       "    </tr>\n",
       "    <tr>\n",
       "      <th>Mean</th>\n",
       "      <td>46.151685</td>\n",
       "      <td>46.15</td>\n",
       "    </tr>\n",
       "    <tr>\n",
       "      <th>Median (50%)</th>\n",
       "      <td>45.0</td>\n",
       "      <td>45</td>\n",
       "    </tr>\n",
       "    <tr>\n",
       "      <th>Mode(s)</th>\n",
       "      <td>48.0</td>\n",
       "      <td>48</td>\n",
       "    </tr>\n",
       "    <tr>\n",
       "      <th>Mode_freq</th>\n",
       "      <td>11</td>\n",
       "      <td>11</td>\n",
       "    </tr>\n",
       "    <tr>\n",
       "      <th>Skewness</th>\n",
       "      <td>0.238538</td>\n",
       "      <td>0.24</td>\n",
       "    </tr>\n",
       "    <tr>\n",
       "      <th>Variance</th>\n",
       "      <td>164.909065</td>\n",
       "      <td>164.91</td>\n",
       "    </tr>\n",
       "    <tr>\n",
       "      <th>Standard Deviation</th>\n",
       "      <td>12.841692</td>\n",
       "      <td>12.84</td>\n",
       "    </tr>\n",
       "    <tr>\n",
       "      <th>Kurtosis</th>\n",
       "      <td>-0.678311</td>\n",
       "      <td>-0.68</td>\n",
       "    </tr>\n",
       "    <tr>\n",
       "      <th>Minimum</th>\n",
       "      <td>19</td>\n",
       "      <td>19</td>\n",
       "    </tr>\n",
       "    <tr>\n",
       "      <th>Maximum</th>\n",
       "      <td>76</td>\n",
       "      <td>76</td>\n",
       "    </tr>\n",
       "    <tr>\n",
       "      <th>Range</th>\n",
       "      <td>57</td>\n",
       "      <td>57</td>\n",
       "    </tr>\n",
       "    <tr>\n",
       "      <th>25th Percentile</th>\n",
       "      <td>37</td>\n",
       "      <td>37</td>\n",
       "    </tr>\n",
       "    <tr>\n",
       "      <th>50th Percentile</th>\n",
       "      <td>45</td>\n",
       "      <td>45</td>\n",
       "    </tr>\n",
       "    <tr>\n",
       "      <th>75th Percentile</th>\n",
       "      <td>55</td>\n",
       "      <td>55</td>\n",
       "    </tr>\n",
       "  </tbody>\n",
       "</table>\n",
       "</div>"
      ],
      "text/plain": [
       "                    Num_Age... formatted\n",
       "Non-null Count             178       178\n",
       "Null Count                  89        89\n",
       "Total Count                267       267\n",
       "Unique Count                46        46\n",
       "Mean                 46.151685     46.15\n",
       "Median (50%)              45.0        45\n",
       "Mode(s)                   48.0        48\n",
       "Mode_freq                   11        11\n",
       "Skewness              0.238538      0.24\n",
       "Variance            164.909065    164.91\n",
       "Standard Deviation   12.841692     12.84\n",
       "Kurtosis             -0.678311     -0.68\n",
       "Minimum                     19        19\n",
       "Maximum                     76        76\n",
       "Range                       57        57\n",
       "25th Percentile             37        37\n",
       "50th Percentile             45        45\n",
       "75th Percentile             55        55"
      ]
     },
     "execution_count": 21,
     "metadata": {},
     "output_type": "execute_result"
    }
   ],
   "source": [
    "jm_pd.describeplus(df_xls['Num_Age...'])"
   ]
  },
  {
   "cell_type": "markdown",
   "id": "139db2c5",
   "metadata": {},
   "source": [
    "## Pie - Donut chart"
   ]
  },
  {
   "cell_type": "code",
   "execution_count": 22,
   "id": "526073c1",
   "metadata": {},
   "outputs": [],
   "source": [
    "cat_1 = pd.Series([35, 25, 20, 12, 8], index=['Product A', 'Product B', 'Product C', 'Product D', 'Product E'])\n",
    "cat_2 = pd.Series({'Region A': 45,'Region B': 30,'Region C': 25})\n",
    "\n",
    "cat_3 = pd.DataFrame([25, 30, 20, 15, 10], index=['A', 'B', 'C', 'D', 'E'], columns=['values'])     \n",
    "# cat_3 = pd.DataFrame([[25], [30], [20], [15], [10]], index=['A', 'B', 'C', 'D', 'E'], columns=['values'])     # [ERR] values are np.ndarrays, ex. [25] 1x1 array?\n",
    "cat_4 = pd.Series({'Region A': 45,'Region B': 30,'Region C': 25, 'Region D': 17})\n",
    "cat_5 = pd.Series([25, 30, 20, 15, 10], index=['A', 'B', 'C', 'D', 'E'], name='Frequency')\n",
    "# cat_6 = pd.DataFrame(pd.Series)\n",
    "# cat_7 = pd.Series.to_frame()\n",
    "\n",
    "# cat_3.dtypes\n",
    "# for i in range(len(cat_3)):\n",
    "#     print(f\"{cat_3['values'].iloc[i]} | {type(cat_3['values'].iloc[i]) = }\")\n",
    "\n",
    "# for value in cat_3.values:\n",
    "#       print(f\"{value = } | {type(value) = }\")\n",
    "\n",
    "# for value in cat_3['values'].values:\n",
    "#      print(f\"{value = } | {type(value) = }\")"
   ]
  },
  {
   "cell_type": "code",
   "execution_count": 23,
   "id": "b4fc5a82",
   "metadata": {},
   "outputs": [],
   "source": [
    "# data = cat_3\n",
    "# if isinstance(data, pd.DataFrame):                      # Only one-column df\n",
    "#     if data.shape[1] != 1:\n",
    "#         raise ValueError(\n",
    "#             f\"DataFrame must have exactly one column. Got {data.shape[1]} columns.\"\n",
    "#         )\n",
    "#     else:                                               # One-clolumn df to Serie\n",
    "#         data = data.iloc[:, 0]\n",
    "\n",
    "# for value in data.values:\n",
    "#     print(f\"{value = } | {type(value) = }\")\n",
    "#     if not isinstance(value, (int, float, np.integer, np.floating)):\n",
    "#         print(f\"{value = } | {type(value) = }\")"
   ]
  },
  {
   "cell_type": "code",
   "execution_count": 24,
   "id": "c4b05c9c",
   "metadata": {},
   "outputs": [
    {
     "data": {
      "image/png": "[encoded data removed]",
      "text/plain": [
       "<Figure size 791.111x400 with 1 Axes>"
      ]
     },
     "metadata": {},
     "output_type": "display_data"
    }
   ],
   "source": [
    "fig, ax = jm_pd.plt_pie(cat_3, kind='donut', title='Donut Distribution', startangle=0)"
   ]
  },
  {
   "cell_type": "code",
   "execution_count": null,
   "id": "73f77ed0",
   "metadata": {},
   "outputs": [],
   "source": []
  },
  {
   "cell_type": "code",
   "execution_count": 25,
   "id": "cae1f0e0",
   "metadata": {},
   "outputs": [
    {
     "data": {
      "image/png": "[encoded data removed]",
      "text/plain": [
       "<Figure size 1406.42x711.111 with 1 Axes>"
      ]
     },
     "metadata": {},
     "output_type": "display_data"
    }
   ],
   "source": [
    "# # fig, ax = jm_pandas.plt_piechart(catdf_1, title='Total de Ventas', rotate=-40)\n",
    "# # fig, ax = jm_pandas.plt_pie_2(catdf_1, title='Total de Ventas')\n",
    "fig, ax = jm_pd.plt_pie(cat_4, title='Total de Ventas', kind='pie', label_place='int', scale=4, palette='Blues_r')"
   ]
  },
  {
   "cell_type": "code",
   "execution_count": 26,
   "id": "b4c4068d",
   "metadata": {},
   "outputs": [
    {
     "data": {
      "image/png": "[encoded data removed]",
      "text/plain": [
       "<Figure size 1054.81x533.333 with 1 Axes>"
      ]
     },
     "metadata": {},
     "output_type": "display_data"
    }
   ],
   "source": [
    "fig, ax = jm_pd.plt_pie(cat_2, title='Clientes por región', scale=3, label_place='int')\n",
    "# fig, ax = jm_pandas.plt_pie_1(catdf_2, title='Clientes por región')\n",
    "# fig, ax = jm_pandas.plt_piechart2(catdf_2, title='Clientes por región')"
   ]
  },
  {
   "cell_type": "markdown",
   "id": "dc676fe3",
   "metadata": {},
   "source": [
    "## pd_accessor para Series y para DFs"
   ]
  },
  {
   "cell_type": "code",
   "execution_count": 27,
   "id": "4383cd8a",
   "metadata": {},
   "outputs": [
    {
     "data": {
      "text/plain": [
       "{'type': 'Series',\n",
       " 'shape': (267,),\n",
       " 'memory_usage': 11410,\n",
       " 'memory_usage_mb': 0.010881423950195312,\n",
       " 'null_count': np.int64(88),\n",
       " 'dtype': 'object',\n",
       " 'name': 'Age at time of purchase',\n",
       " 'unique_values': 47,\n",
       " 'value_counts': {48: 11, 41: 8, 60: 7, 40: 6, 33: 6}}"
      ]
     },
     "execution_count": 27,
     "metadata": {},
     "output_type": "execute_result"
    }
   ],
   "source": [
    "df.jm.generals()\n",
    "df['Age at time of purchase'].jm.generals()"
   ]
  },
  {
   "cell_type": "code",
   "execution_count": 28,
   "id": "81bd76b9",
   "metadata": {},
   "outputs": [
    {
     "data": {
      "text/html": [
       "<div>\n",
       "<style scoped>\n",
       "    .dataframe tbody tr th:only-of-type {\n",
       "        vertical-align: middle;\n",
       "    }\n",
       "\n",
       "    .dataframe tbody tr th {\n",
       "        vertical-align: top;\n",
       "    }\n",
       "\n",
       "    .dataframe thead th {\n",
       "        text-align: right;\n",
       "    }\n",
       "</style>\n",
       "<table border=\"1\" class=\"dataframe\">\n",
       "  <thead>\n",
       "    <tr style=\"text-align: right;\">\n",
       "      <th></th>\n",
       "      <th>Metric</th>\n",
       "      <th>Value</th>\n",
       "    </tr>\n",
       "  </thead>\n",
       "  <tbody>\n",
       "    <tr>\n",
       "      <th>0</th>\n",
       "      <td>Name</td>\n",
       "      <td>State</td>\n",
       "    </tr>\n",
       "    <tr>\n",
       "      <th>1</th>\n",
       "      <td>Dtype</td>\n",
       "      <td>object</td>\n",
       "    </tr>\n",
       "    <tr>\n",
       "      <th>2</th>\n",
       "      <td>N Total</td>\n",
       "      <td>267</td>\n",
       "    </tr>\n",
       "    <tr>\n",
       "      <th>3</th>\n",
       "      <td>N Nulls</td>\n",
       "      <td>86</td>\n",
       "    </tr>\n",
       "    <tr>\n",
       "      <th>4</th>\n",
       "      <td>N Non Nulls</td>\n",
       "      <td>181</td>\n",
       "    </tr>\n",
       "    <tr>\n",
       "      <th>5</th>\n",
       "      <td>Pct Nulls</td>\n",
       "      <td>32.21</td>\n",
       "    </tr>\n",
       "    <tr>\n",
       "      <th>6</th>\n",
       "      <td>Memory Usage</td>\n",
       "      <td>15349.0</td>\n",
       "    </tr>\n",
       "    <tr>\n",
       "      <th>7</th>\n",
       "      <td>N Uniques</td>\n",
       "      <td>9</td>\n",
       "    </tr>\n",
       "    <tr>\n",
       "      <th>8</th>\n",
       "      <td>Uniqueness Ratio</td>\n",
       "      <td>0.034</td>\n",
       "    </tr>\n",
       "    <tr>\n",
       "      <th>9</th>\n",
       "      <td>Min Value</td>\n",
       "      <td>None</td>\n",
       "    </tr>\n",
       "    <tr>\n",
       "      <th>10</th>\n",
       "      <td>Max Value</td>\n",
       "      <td>None</td>\n",
       "    </tr>\n",
       "    <tr>\n",
       "      <th>11</th>\n",
       "      <td>Avg Length</td>\n",
       "      <td>8.8</td>\n",
       "    </tr>\n",
       "    <tr>\n",
       "      <th>12</th>\n",
       "      <td>Min Length</td>\n",
       "      <td>4</td>\n",
       "    </tr>\n",
       "    <tr>\n",
       "      <th>13</th>\n",
       "      <td>Max Length</td>\n",
       "      <td>10</td>\n",
       "    </tr>\n",
       "  </tbody>\n",
       "</table>\n",
       "</div>"
      ],
      "text/plain": [
       "              Metric    Value\n",
       "0               Name    State\n",
       "1              Dtype   object\n",
       "2            N Total      267\n",
       "3            N Nulls       86\n",
       "4        N Non Nulls      181\n",
       "5          Pct Nulls    32.21\n",
       "6       Memory Usage  15349.0\n",
       "7          N Uniques        9\n",
       "8   Uniqueness Ratio    0.034\n",
       "9          Min Value     None\n",
       "10         Max Value     None\n",
       "11        Avg Length      8.8\n",
       "12        Min Length        4\n",
       "13        Max Length       10"
      ]
     },
     "execution_count": 28,
     "metadata": {},
     "output_type": "execute_result"
    }
   ],
   "source": [
    "# print(df.columns)\n",
    "# df.jm.infomax()\n",
    "# df['Age at time of purchase'].jm.infomax()\n",
    "df['State'].jm.profile()\n",
    "# df.jm.profile()\n"
   ]
  },
  {
   "cell_type": "markdown",
   "id": "abfba1c6",
   "metadata": {},
   "source": [
    "## describeplus() -> method?"
   ]
  },
  {
   "cell_type": "code",
   "execution_count": 29,
   "id": "02730d4f",
   "metadata": {},
   "outputs": [
    {
     "data": {
      "text/html": [
       "<div>\n",
       "<style scoped>\n",
       "    .dataframe tbody tr th:only-of-type {\n",
       "        vertical-align: middle;\n",
       "    }\n",
       "\n",
       "    .dataframe tbody tr th {\n",
       "        vertical-align: top;\n",
       "    }\n",
       "\n",
       "    .dataframe thead th {\n",
       "        text-align: right;\n",
       "    }\n",
       "</style>\n",
       "<table border=\"1\" class=\"dataframe\">\n",
       "  <thead>\n",
       "    <tr style=\"text-align: right;\">\n",
       "      <th></th>\n",
       "      <th>Building</th>\n",
       "      <th>Year of sale</th>\n",
       "      <th>Month of sale</th>\n",
       "      <th>Property #</th>\n",
       "      <th>Area (ft.)</th>\n",
       "      <th>Price</th>\n",
       "      <th>Y</th>\n",
       "      <th>M</th>\n",
       "      <th>D</th>\n",
       "      <th>Deal satisfaction</th>\n",
       "    </tr>\n",
       "  </thead>\n",
       "  <tbody>\n",
       "    <tr>\n",
       "      <th>count</th>\n",
       "      <td>267.000000</td>\n",
       "      <td>195.000000</td>\n",
       "      <td>195.000000</td>\n",
       "      <td>267.000000</td>\n",
       "      <td>267.000000</td>\n",
       "      <td>267.000000</td>\n",
       "      <td>178.000000</td>\n",
       "      <td>178.000000</td>\n",
       "      <td>178.000000</td>\n",
       "      <td>195.000000</td>\n",
       "    </tr>\n",
       "    <tr>\n",
       "      <th>mean</th>\n",
       "      <td>2.947566</td>\n",
       "      <td>2006.333333</td>\n",
       "      <td>7.271795</td>\n",
       "      <td>27.580524</td>\n",
       "      <td>936.221113</td>\n",
       "      <td>281171.901501</td>\n",
       "      <td>1960.325843</td>\n",
       "      <td>6.752809</td>\n",
       "      <td>15.449438</td>\n",
       "      <td>3.605128</td>\n",
       "    </tr>\n",
       "    <tr>\n",
       "      <th>std</th>\n",
       "      <td>1.391794</td>\n",
       "      <td>1.072941</td>\n",
       "      <td>3.378674</td>\n",
       "      <td>15.361437</td>\n",
       "      <td>284.895016</td>\n",
       "      <td>89119.120849</td>\n",
       "      <td>12.835575</td>\n",
       "      <td>3.450312</td>\n",
       "      <td>8.457285</td>\n",
       "      <td>1.363355</td>\n",
       "    </tr>\n",
       "    <tr>\n",
       "      <th>min</th>\n",
       "      <td>1.000000</td>\n",
       "      <td>2004.000000</td>\n",
       "      <td>1.000000</td>\n",
       "      <td>1.000000</td>\n",
       "      <td>410.709200</td>\n",
       "      <td>117564.071600</td>\n",
       "      <td>1931.000000</td>\n",
       "      <td>1.000000</td>\n",
       "      <td>1.000000</td>\n",
       "      <td>1.000000</td>\n",
       "    </tr>\n",
       "    <tr>\n",
       "      <th>25%</th>\n",
       "      <td>2.000000</td>\n",
       "      <td>2006.000000</td>\n",
       "      <td>4.000000</td>\n",
       "      <td>14.500000</td>\n",
       "      <td>756.212800</td>\n",
       "      <td>217553.056400</td>\n",
       "      <td>1950.250000</td>\n",
       "      <td>4.000000</td>\n",
       "      <td>8.000000</td>\n",
       "      <td>3.000000</td>\n",
       "    </tr>\n",
       "    <tr>\n",
       "      <th>50%</th>\n",
       "      <td>3.000000</td>\n",
       "      <td>2007.000000</td>\n",
       "      <td>8.000000</td>\n",
       "      <td>28.000000</td>\n",
       "      <td>798.284400</td>\n",
       "      <td>249075.656800</td>\n",
       "      <td>1962.000000</td>\n",
       "      <td>6.000000</td>\n",
       "      <td>15.000000</td>\n",
       "      <td>4.000000</td>\n",
       "    </tr>\n",
       "    <tr>\n",
       "      <th>75%</th>\n",
       "      <td>4.000000</td>\n",
       "      <td>2007.000000</td>\n",
       "      <td>10.000000</td>\n",
       "      <td>40.000000</td>\n",
       "      <td>1121.945200</td>\n",
       "      <td>326964.852200</td>\n",
       "      <td>1969.750000</td>\n",
       "      <td>9.750000</td>\n",
       "      <td>23.750000</td>\n",
       "      <td>5.000000</td>\n",
       "    </tr>\n",
       "    <tr>\n",
       "      <th>max</th>\n",
       "      <td>5.000000</td>\n",
       "      <td>2010.000000</td>\n",
       "      <td>12.000000</td>\n",
       "      <td>59.000000</td>\n",
       "      <td>1942.502800</td>\n",
       "      <td>538271.735600</td>\n",
       "      <td>1986.000000</td>\n",
       "      <td>15.000000</td>\n",
       "      <td>31.000000</td>\n",
       "      <td>5.000000</td>\n",
       "    </tr>\n",
       "  </tbody>\n",
       "</table>\n",
       "</div>"
      ],
      "text/plain": [
       "         Building  Year of sale  Month of sale  Property #   Area (ft.)  \\\n",
       "count  267.000000    195.000000     195.000000  267.000000   267.000000   \n",
       "mean     2.947566   2006.333333       7.271795   27.580524   936.221113   \n",
       "std      1.391794      1.072941       3.378674   15.361437   284.895016   \n",
       "min      1.000000   2004.000000       1.000000    1.000000   410.709200   \n",
       "25%      2.000000   2006.000000       4.000000   14.500000   756.212800   \n",
       "50%      3.000000   2007.000000       8.000000   28.000000   798.284400   \n",
       "75%      4.000000   2007.000000      10.000000   40.000000  1121.945200   \n",
       "max      5.000000   2010.000000      12.000000   59.000000  1942.502800   \n",
       "\n",
       "               Price            Y           M           D  Deal satisfaction  \n",
       "count     267.000000   178.000000  178.000000  178.000000         195.000000  \n",
       "mean   281171.901501  1960.325843    6.752809   15.449438           3.605128  \n",
       "std     89119.120849    12.835575    3.450312    8.457285           1.363355  \n",
       "min    117564.071600  1931.000000    1.000000    1.000000           1.000000  \n",
       "25%    217553.056400  1950.250000    4.000000    8.000000           3.000000  \n",
       "50%    249075.656800  1962.000000    6.000000   15.000000           4.000000  \n",
       "75%    326964.852200  1969.750000    9.750000   23.750000           5.000000  \n",
       "max    538271.735600  1986.000000   15.000000   31.000000           5.000000  "
      ]
     },
     "metadata": {},
     "output_type": "display_data"
    },
    {
     "data": {
      "text/plain": [
       "count     179\n",
       "unique     47\n",
       "top        48\n",
       "freq       11\n",
       "Name: Age at time of purchase, dtype: int64"
      ]
     },
     "metadata": {},
     "output_type": "display_data"
    }
   ],
   "source": [
    "df.describe(include='all')\n",
    "display(df.describe())\n",
    "display(df['Age at time of purchase'].describe())"
   ]
  },
  {
   "cell_type": "code",
   "execution_count": 30,
   "id": "3f1d2620",
   "metadata": {},
   "outputs": [
    {
     "ename": "NameError",
     "evalue": "name 'df3' is not defined",
     "output_type": "error",
     "traceback": [
      "\u001b[31m---------------------------------------------------------------------------\u001b[39m",
      "\u001b[31mNameError\u001b[39m                                 Traceback (most recent call last)",
      "\u001b[36mCell\u001b[39m\u001b[36m \u001b[39m\u001b[32mIn[30]\u001b[39m\u001b[32m, line 2\u001b[39m\n\u001b[32m      1\u001b[39m \u001b[38;5;66;03m# describeplus() para Series y para DFs\u001b[39;00m\n\u001b[32m----> \u001b[39m\u001b[32m2\u001b[39m display(\u001b[43mdf3\u001b[49m.describe())\n\u001b[32m      3\u001b[39m display(df3[\u001b[33m'\u001b[39m\u001b[33mAge at time of purchase\u001b[39m\u001b[33m'\u001b[39m].describe())\n\u001b[32m      4\u001b[39m df3.jm.infomax()\n",
      "\u001b[31mNameError\u001b[39m: name 'df3' is not defined"
     ]
    }
   ],
   "source": [
    "# describeplus() para Series y para DFs\n",
    "display(df3.describe())\n",
    "display(df3['Age at time of purchase'].describe())\n",
    "df3.jm.infomax()\n",
    "df3['Age at time of purchase'].describe()\n"
   ]
  },
  {
   "cell_type": "markdown",
   "id": "f4623d2c",
   "metadata": {},
   "source": [
    "## Numeric Cols\n",
    "- Basicamente todas las cols a las que les pueda calcular min() y max(), etc. Tambien porque son oject pero tiene números."
   ]
  },
  {
   "cell_type": "code",
   "execution_count": null,
   "id": "db911da8",
   "metadata": {},
   "outputs": [],
   "source": [
    "## Read the data (a table) into a DF\n",
    "# Useful data from row 5 to the end (row 272) -> skiprows=4 [avoid title rows, first four rows]\n",
    "# Column k is empty, avoid k column -> usecols='B:J,L:AA'\n",
    "# I Will take ID column as the DF index_col (because ID is unique for each operation)\n",
    "\n",
    "spreedsheet = r\"C:\\Users\\jm\\Documents\\__Dev\\PortableGit\\__localrepos\\365DS_jm\\3_statistics\\2_13_Practical_Ex_Descriptive_Stats.xlsx\"    # Casa\n",
    "# spreedsheet = r\"D:\\git\\PortableGit\\__localrepos\\365DS_jm\\3_statistics\\2_13_Practical_Ex_Descriptive_Stats.xlsx\"                         # Office\n",
    "\n",
    "df = pd.read_excel(spreedsheet, skiprows=4, usecols='B:J,L:AA', index_col='ID')\n",
    "\n",
    "# df.info()\n",
    "df1 = df.convert_dtypes()\n",
    "df2 = df.jm.convert_dtypes_plus()\n",
    "df3 = df.jm.convert_dtypes_max()\n",
    "# df1.info()"
   ]
  },
  {
   "cell_type": "code",
   "execution_count": null,
   "id": "95edf2b5",
   "metadata": {},
   "outputs": [],
   "source": [
    "# df3.jm.infomax()"
   ]
  },
  {
   "cell_type": "code",
   "execution_count": null,
   "id": "bea2f1b9",
   "metadata": {},
   "outputs": [],
   "source": [
    "## Distintos métodos de replace values - claude\n",
    "# ----- 1. .replace() me da Warning !\n",
    "# serie_str = df['Age at time of purchase'].replace(' ', np.nan)  # Warning \n",
    "# df['a1'] = df['Age at time of purchase'].replace(' ', np.nan)  # Warning \n",
    "# ----- 2. Condiciones Booleanas bajo la sintaxis df.loc[rows w/conditions, col] = value\n",
    "display(df['Age at time of purchase'].isna().sum())\n",
    "df_2 = df.copy()\n",
    "df_2.loc[df_2['Age at time of purchase'] == ' ', 'Age at time of purchase'] = np.nan    # SII, .replace() con muchos warnings\n",
    "df_2['Age at time of purchase'].isna().sum()\n",
    "# ----- 2. Ventajas:    - Desventaja:"
   ]
  },
  {
   "cell_type": "code",
   "execution_count": null,
   "id": "a3fc401e",
   "metadata": {},
   "outputs": [],
   "source": [
    "# ----- 3. Usando .mask() que aplica en caso True (.where() aplica en caso Falso <- por eso solo probamos mask\n",
    "display(df['Age at time of purchase'].isna().sum())\n",
    "df_3 = df.copy()\n",
    "df_3['Age at time of purchase'] = df_3['Age at time of purchase'].mask(df_3['Age at time of purchase'] == ' ', np.nan)\n",
    "df_3['Age at time of purchase'].isna().sum()"
   ]
  },
  {
   "cell_type": "code",
   "execution_count": null,
   "id": "c37888f0",
   "metadata": {},
   "outputs": [],
   "source": [
    "## Hay varios más. np.where() , apply -> es muy versatil ya que acepta funciones ad-hoc\n",
    "# ----- 4. .apply() - puedo hacer la función tan compleja como yo quiera\n",
    "\n",
    "def replace_spaces_by_nans(value):\n",
    "    if isinstance(value, str) and value.isspace():\n",
    "            return np.nan\n",
    "    return value\n",
    "\n",
    "display(df['Age at time of purchase'].isna().sum())\n",
    "df_4 = df.copy()\n",
    "df_4['Age at time of purchase'] = df_4['Age at time of purchase'].apply(replace_spaces_by_nans)\n",
    "df_4['Age at time of purchase'].isna().sum()"
   ]
  },
  {
   "cell_type": "code",
   "execution_count": null,
   "id": "58d69aa7",
   "metadata": {},
   "outputs": [],
   "source": [
    "# ----- 5. apply() con lambda por ser my sencilla la func.\n",
    "display(df['Age at time of purchase'].isna().sum())\n",
    "df_5 = df.copy()\n",
    "df_5['Age at time of purchase'] = df_5['Age at time of purchase'].apply(lambda x: np.nan if isinstance(x, str) and x.isspace() else x)\n",
    "df_5['Age at time of purchase'].isna().sum()\n",
    "# np.where() dice Claude, que es más rápido para grandes DFs."
   ]
  },
  {
   "cell_type": "code",
   "execution_count": null,
   "id": "5075780c",
   "metadata": {},
   "outputs": [],
   "source": [
    "## Ejemplos de reemplazo de valores con un df ad-hoc.\n",
    "df = pd.DataFrame({\n",
    "    'nombre': ['Ana', 'Bob', '', 'Carlos', ' ', 'Diana'],\n",
    "    'edad': [25, -1, 30, 999, 28, 22],\n",
    "    'ciudad': ['Madrid', 'N/A', 'Barcelona', 'Valencia', 'unknown', 'Sevilla'],\n",
    "    'salario': [50000, 0, 60000, -999, 55000, 48000]\n",
    "})\n",
    "\n",
    "print(\"DataFrame original:\")\n",
    "print(df)\n",
    "print()\n",
    "\n",
    "# =============================================================================\n",
    "# 1. MÉTODO .replace() - EL MÁS VERSÁTIL\n",
    "# =============================================================================\n",
    "\n",
    "print(\"1. MÉTODO .replace()\")\n",
    "print(\"-\" * 40)\n",
    "\n",
    "# Reemplazar un valor específico por otro\n",
    "df_1 = df.copy()\n",
    "df_1['nombre'] = df_1['nombre'].replace(['', ' '], np.nan)\n",
    "print(\"Reemplazar string vacío por NaN:\")\n",
    "print(df_1['nombre'])\n",
    "print()"
   ]
  },
  {
   "cell_type": "code",
   "execution_count": null,
   "id": "bb5d8ddc",
   "metadata": {},
   "outputs": [],
   "source": [
    "# df3.info()"
   ]
  },
  {
   "cell_type": "code",
   "execution_count": null,
   "id": "da052f5f",
   "metadata": {},
   "outputs": [],
   "source": [
    "## Convierte a Int64 si todos los tiene su parte decimal menor a 0.0000001\n",
    "\n",
    "# to_Int64_if_small_decimal(df['M'], 0.0000001)\n",
    "# df1['Price'].apply(is_decimal_part_petty)\n",
    "\n",
    "# df1['Price'].apply(lambda x: True if x % 1 < 0.0000001 else False)\n",
    "# df1['m2'] = df1['M'].dropna()\n",
    "# df1['m2']\n",
    "# df1['M']\n",
    "if df1['Price'].apply(lambda x: True if x % 1 < 0.0000001 or pd.isna(x) else False).all():\n",
    "    print('SIIII')\n",
    "else:\n",
    "    print('NOOOooooo....')\n",
    "\n",
    "# df1['M'][df1['M'] == True].all()"
   ]
  },
  {
   "cell_type": "code",
   "execution_count": null,
   "id": "2a11e9bd",
   "metadata": {},
   "outputs": [],
   "source": [
    "# number of ceros in decimal part\n",
    "num = df1['Price'].iloc[9]\n",
    "decimal_part = num % 1\n",
    "# print(f\"{num = } | {decimals = }\")\n",
    "# s = f\"{num:.16f}\".rstrip('0').split('.')\n",
    "# print(f\"{s[0] = } | {s[1] = }\")"
   ]
  },
  {
   "cell_type": "code",
   "execution_count": null,
   "id": "477dca03",
   "metadata": {},
   "outputs": [],
   "source": []
  },
  {
   "cell_type": "code",
   "execution_count": null,
   "id": "1c6b8ccb",
   "metadata": {},
   "outputs": [],
   "source": [
    "stop()"
   ]
  },
  {
   "cell_type": "code",
   "execution_count": null,
   "id": "c2d9cfde",
   "metadata": {},
   "outputs": [],
   "source": [
    "## Descubrimos un ' ' en ix = 5052 de la columna 'Age at time...\n",
    "display(df['Age at time of purchase'].isna().sum())\n",
    "display(df['Age at time of purchase'].dtype)\n",
    "# display(df['Age at time of purchase'].loc[5052])\n",
    "# df.loc[5052, 'Age at time of purchase'] = np.nan\n",
    "# display(df['Age at time of purchase'].loc[5052])\n",
    "# display(df['Age at time of purchase'].isna().sum())\n",
    "\n",
    "## OK con lo anterior que \"replace ' ' con nan\" \n",
    "# Ahora veremos el pd.to_numeric( errors='coerce')\n",
    "df['Age at time of purchase'] = pd.to_numeric(df['Age at time of purchase'], errors='coerce')\n",
    "display(df['Age at time of purchase'].isna().sum())\n",
    "display(df['Age at time of purchase'].dtype)\n",
    "df['Age at time of purchase'].astype('Int64')"
   ]
  },
  {
   "cell_type": "code",
   "execution_count": null,
   "id": "684a7599",
   "metadata": {},
   "outputs": [],
   "source": [
    "df['Age at time of purchase'].min()"
   ]
  },
  {
   "cell_type": "code",
   "execution_count": null,
   "id": "ef7cdb07",
   "metadata": {},
   "outputs": [],
   "source": [
    "# df.jm.info_cmp(df1)\n",
    "df.jm.infomax()"
   ]
  },
  {
   "cell_type": "code",
   "execution_count": null,
   "id": "0e7d8792",
   "metadata": {},
   "outputs": [],
   "source": [
    "col_num_df = df.select_dtypes(include=[np.number]).columns.to_list()\n",
    "col_num_df\n",
    "col_num_df1 = df1.select_dtypes(include=[np.number]).columns.to_list()\n",
    "col_num_df1\n",
    "col_num_df == col_num_df1       # True"
   ]
  },
  {
   "cell_type": "code",
   "execution_count": null,
   "id": "1640c276",
   "metadata": {},
   "outputs": [],
   "source": [
    "# display(df['Age at time of purchase'].isna().sum())\n",
    "# display(df['Age at time of purchase'].isnull().sum())\n",
    "serie = df['Age at time of purchase'].copy()\n",
    "display(serie.isnull().sum())\n",
    "# s1 = serie.apply(lambda x: True if isinstance(x, (int, float)) else False)\n",
    "for ix, value in df['Age at time of purchase'].items():\n",
    "    if not isinstance(value, (int, float)):\n",
    "        print(ix, value)\n",
    "\n",
    "df['Age at time of purchase'].loc[3012]\n",
    "df['Age at time of purchase'].loc[5052]\n",
    "# print(df1['Age at time of purchase'].loc[1005])\n",
    "len(serie) == len(df['Age at time of purchase'])\n",
    "# serie.fillna(serie.mean())      # serie.mean() <- ERROR!!\n",
    "jm_pandas.clean_df(serie)\n",
    "\n",
    "\n"
   ]
  },
  {
   "cell_type": "code",
   "execution_count": null,
   "id": "53cb4088",
   "metadata": {},
   "outputs": [],
   "source": [
    "for ix, value in df['Age at time of purchase'].items():\n",
    "    print(ix, value)"
   ]
  },
  {
   "cell_type": "code",
   "execution_count": null,
   "id": "c7b793ea",
   "metadata": {},
   "outputs": [],
   "source": []
  },
  {
   "cell_type": "code",
   "execution_count": null,
   "id": "85ab81a7",
   "metadata": {},
   "outputs": [],
   "source": []
  },
  {
   "cell_type": "markdown",
   "id": "a7b2718f",
   "metadata": {},
   "source": [
    "## Clousure for autopct"
   ]
  },
  {
   "cell_type": "code",
   "execution_count": null,
   "id": "0c46eeb9",
   "metadata": {},
   "outputs": [],
   "source": []
  },
  {
   "cell_type": "code",
   "execution_count": null,
   "id": "ad287b26",
   "metadata": {},
   "outputs": [],
   "source": [
    "console = Console()\n",
    "\n",
    "def rich_warning(message, category, filename, lineno, file=None, line=None):\n",
    "    texto = Text.assemble(\n",
    "        (\"[ADVERTENCIA] \", \"bold yellow\"),\n",
    "        (f\"{category.__name__}: \", \"yellow\"),\n",
    "        (str(message), \"white\"),\n",
    "        (\"\\n→ Archivo: \", \"cyan\"),\n",
    "        (filename, \"white\"),\n",
    "        (f\", línea {lineno}\", \"white\")\n",
    "    )\n",
    "    console.print(texto)\n",
    "\n",
    "# Redirigir warnings a Rich\n",
    "warnings.showwarning = rich_warning\n",
    "\n",
    "# Emitir una advertencia\n",
    "warnings.warn(\"Este módulo será eliminado en futuras versiones\", DeprecationWarning)\n"
   ]
  },
  {
   "cell_type": "code",
   "execution_count": null,
   "id": "3316ee50",
   "metadata": {},
   "outputs": [],
   "source": [
    "console = Console()\n",
    "\n",
    "capturadas = []\n",
    "\n",
    "def rich_capture_warning(message, category, filename, lineno, file=None, line=None):\n",
    "    entrada = f\"[{category.__name__}] {message} (archivo: {filename}, línea {lineno})\"\n",
    "    capturadas.append(entrada)\n",
    "\n",
    "warnings.showwarning = rich_capture_warning\n",
    "\n",
    "# Disparar algunas advertencias\n",
    "warnings.warn(\"Esto es una advertencia genérica\")\n",
    "warnings.warn(\"Funcionalidad obsoleta\", DeprecationWarning)\n",
    "warnings.warn(\"Esto se eliminará pronto\", PendingDeprecationWarning)\n",
    "\n",
    "# Mostrar al final del script\n",
    "if capturadas:\n",
    "    console.print(\"\\n[bold red]Advertencias durante la ejecución:[/bold red]\")\n",
    "    for advertencia in capturadas:\n",
    "        console.print(Panel(advertencia, style=\"yellow\"))\n",
    "\n",
    "for advertencia in capturadas:\n",
    "    print(advertencia)"
   ]
  },
  {
   "cell_type": "code",
   "execution_count": null,
   "id": "3b23bc53",
   "metadata": {},
   "outputs": [],
   "source": []
  }
 ],
 "metadata": {
  "kernelspec": {
   "display_name": "Python 3",
   "language": "python",
   "name": "python3"
  },
  "language_info": {
   "codemirror_mode": {
    "name": "ipython",
    "version": 3
   },
   "file_extension": ".py",
   "mimetype": "text/x-python",
   "name": "python",
   "nbconvert_exporter": "python",
   "pygments_lexer": "ipython3",
   "version": "3.13.5"
  }
 },
 "nbformat": 4,
 "nbformat_minor": 5
}
